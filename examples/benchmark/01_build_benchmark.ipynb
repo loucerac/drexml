{
 "cells": [
  {
   "cell_type": "code",
   "execution_count": 20,
   "metadata": {},
   "outputs": [],
   "source": [
    "import pathlib\n",
    "import dotenv\n",
    "from drexml.utils import get_resource_path\n",
    "import shutil\n",
    "\n",
    "import pandas as pd"
   ]
  },
  {
   "cell_type": "code",
   "execution_count": 21,
   "metadata": {},
   "outputs": [
    {
     "data": {
      "text/plain": [
       "PosixPath('/home/cloucera/github/drexml/examples/benchmark')"
      ]
     },
     "execution_count": 21,
     "metadata": {},
     "output_type": "execute_result"
    }
   ],
   "source": [
    "benchmark_folder = pathlib.Path(dotenv.find_dotenv()).parent\n",
    "results_folder = benchmark_folder.joinpath(\"results\")\n",
    "results_folder.mkdir(exist_ok=True)\n",
    "disease_template_env_path = benchmark_folder.joinpath(\"disease_template.env\")\n",
    "benchmark_folder"
   ]
  },
  {
   "cell_type": "code",
   "execution_count": 22,
   "metadata": {},
   "outputs": [
    {
     "data": {
      "text/html": [
       "<div>\n",
       "<style scoped>\n",
       "    .dataframe tbody tr th:only-of-type {\n",
       "        vertical-align: middle;\n",
       "    }\n",
       "\n",
       "    .dataframe tbody tr th {\n",
       "        vertical-align: top;\n",
       "    }\n",
       "\n",
       "    .dataframe thead th {\n",
       "        text-align: right;\n",
       "    }\n",
       "</style>\n",
       "<table border=\"1\" class=\"dataframe\">\n",
       "  <thead>\n",
       "    <tr style=\"text-align: right;\">\n",
       "      <th></th>\n",
       "      <th>circuit_id</th>\n",
       "      <th>pathway_id</th>\n",
       "      <th>circuit_name</th>\n",
       "      <th>genes</th>\n",
       "      <th>is_physiological</th>\n",
       "      <th>pathway_name</th>\n",
       "    </tr>\n",
       "  </thead>\n",
       "  <tbody>\n",
       "    <tr>\n",
       "      <th>0</th>\n",
       "      <td>P-hsa03320-37</td>\n",
       "      <td>hsa03320</td>\n",
       "      <td>PPAR signaling pathway: HMGCS2</td>\n",
       "      <td>5465,6256,6257,6258,3158</td>\n",
       "      <td>True</td>\n",
       "      <td>PPAR signaling pathway</td>\n",
       "    </tr>\n",
       "    <tr>\n",
       "      <th>1</th>\n",
       "      <td>P-hsa03320-61</td>\n",
       "      <td>hsa03320</td>\n",
       "      <td>PPAR signaling pathway: APOA1</td>\n",
       "      <td>5465,6256,6257,6258,335</td>\n",
       "      <td>True</td>\n",
       "      <td>PPAR signaling pathway</td>\n",
       "    </tr>\n",
       "    <tr>\n",
       "      <th>2</th>\n",
       "      <td>P-hsa03320-46</td>\n",
       "      <td>hsa03320</td>\n",
       "      <td>PPAR signaling pathway: APOA2</td>\n",
       "      <td>5465,6256,6257,6258,336</td>\n",
       "      <td>True</td>\n",
       "      <td>PPAR signaling pathway</td>\n",
       "    </tr>\n",
       "    <tr>\n",
       "      <th>3</th>\n",
       "      <td>P-hsa03320-57</td>\n",
       "      <td>hsa03320</td>\n",
       "      <td>PPAR signaling pathway: APOC3</td>\n",
       "      <td>5465,6256,6257,6258,345</td>\n",
       "      <td>True</td>\n",
       "      <td>PPAR signaling pathway</td>\n",
       "    </tr>\n",
       "    <tr>\n",
       "      <th>4</th>\n",
       "      <td>P-hsa03320-64</td>\n",
       "      <td>hsa03320</td>\n",
       "      <td>PPAR signaling pathway: APOA5</td>\n",
       "      <td>5465,6256,6257,6258,116519</td>\n",
       "      <td>True</td>\n",
       "      <td>PPAR signaling pathway</td>\n",
       "    </tr>\n",
       "  </tbody>\n",
       "</table>\n",
       "</div>"
      ],
      "text/plain": [
       "      circuit_id pathway_id                    circuit_name  \\\n",
       "0  P-hsa03320-37   hsa03320  PPAR signaling pathway: HMGCS2   \n",
       "1  P-hsa03320-61   hsa03320   PPAR signaling pathway: APOA1   \n",
       "2  P-hsa03320-46   hsa03320   PPAR signaling pathway: APOA2   \n",
       "3  P-hsa03320-57   hsa03320   PPAR signaling pathway: APOC3   \n",
       "4  P-hsa03320-64   hsa03320   PPAR signaling pathway: APOA5   \n",
       "\n",
       "                        genes  is_physiological            pathway_name  \n",
       "0    5465,6256,6257,6258,3158              True  PPAR signaling pathway  \n",
       "1     5465,6256,6257,6258,335              True  PPAR signaling pathway  \n",
       "2     5465,6256,6257,6258,336              True  PPAR signaling pathway  \n",
       "3     5465,6256,6257,6258,345              True  PPAR signaling pathway  \n",
       "4  5465,6256,6257,6258,116519              True  PPAR signaling pathway  "
      ]
     },
     "execution_count": 22,
     "metadata": {},
     "output_type": "execute_result"
    }
   ],
   "source": [
    "fpath = get_resource_path(\"circuit_names.tsv.gz\")\n",
    "circuit_names = pd.read_csv(fpath, sep=\"\\t\")\n",
    "circuit_names.head()"
   ]
  },
  {
   "cell_type": "code",
   "execution_count": 23,
   "metadata": {},
   "outputs": [],
   "source": [
    "for map_size in range(1, 101):\n",
    "    disease_name = f\"disease_{map_size:03d}\"\n",
    "    disease_folder = results_folder.joinpath(disease_name)\n",
    "    disease_folder.mkdir(exist_ok=True, parents=True)\n",
    "    disease_map = circuit_names[\"circuit_id\"][:map_size].to_frame()\n",
    "    disease_map[\"in_disease\"] = True\n",
    "    disease_map.to_csv(disease_folder.joinpath(\"circuits.tsv.gz\"), sep=\"\\t\", index=False)\n",
    "    shutil.copyfile(disease_template_env_path, disease_folder.joinpath(\"disease.env\"))"
   ]
  },
  {
   "cell_type": "code",
   "execution_count": null,
   "metadata": {},
   "outputs": [],
   "source": []
  }
 ],
 "metadata": {
  "kernelspec": {
   "display_name": "Python 3",
   "language": "python",
   "name": "python3"
  },
  "language_info": {
   "codemirror_mode": {
    "name": "ipython",
    "version": 3
   },
   "file_extension": ".py",
   "mimetype": "text/x-python",
   "name": "python",
   "nbconvert_exporter": "python",
   "pygments_lexer": "ipython3",
   "version": "3.10.13"
  }
 },
 "nbformat": 4,
 "nbformat_minor": 2
}
