{
 "cells": [
  {
   "cell_type": "code",
   "execution_count": 3,
   "metadata": {},
   "outputs": [],
   "source": [
    "import pandas as pd\n",
    "from pathlib import Path\n",
    "import dotenv"
   ]
  },
  {
   "cell_type": "code",
   "execution_count": 4,
   "metadata": {},
   "outputs": [],
   "source": [
    "benchmark_folder = Path(dotenv.find_dotenv()).parent\n",
    "results_folder = benchmark_folder.joinpath(\"experiments\")"
   ]
  },
  {
   "cell_type": "code",
   "execution_count": null,
   "metadata": {},
   "outputs": [],
   "source": [
    "for map_size in [1, 25, 50, 75, 100]:\n",
    "    disease_name = f\"disease_{map_size:03d}\"\n",
    "    disease_folder = results_folder.joinpath(disease_name)\n",
    "    disease_folder.mkdir(exist_ok=True, parents=True)\n",
    "    csv_results_path = benchmark_folder.joinpath(\"experiments\", \"disease\", )"
   ]
  }
 ],
 "metadata": {
  "kernelspec": {
   "display_name": "ds",
   "language": "python",
   "name": "python3"
  },
  "language_info": {
   "codemirror_mode": {
    "name": "ipython",
    "version": 3
   },
   "file_extension": ".py",
   "mimetype": "text/x-python",
   "name": "python",
   "nbconvert_exporter": "python",
   "pygments_lexer": "ipython3",
   "version": "3.10.13"
  }
 },
 "nbformat": 4,
 "nbformat_minor": 2
}
