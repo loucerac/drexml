{
 "cells": [
  {
   "cell_type": "code",
   "execution_count": 58,
   "metadata": {},
   "outputs": [],
   "source": [
    "import pandas as pd\n",
    "from pathlib import Path\n",
    "import dotenv"
   ]
  },
  {
   "cell_type": "code",
   "execution_count": 59,
   "metadata": {},
   "outputs": [],
   "source": [
    "benchmark_folder = Path(dotenv.find_dotenv()).parent\n",
    "experiments_folder = benchmark_folder.joinpath(\"experiments\")\n",
    "results_folder = benchmark_folder.joinpath(\"results\")"
   ]
  },
  {
   "cell_type": "code",
   "execution_count": 60,
   "metadata": {},
   "outputs": [],
   "source": [
    "result_dfs = []\n",
    "for map_size in [1, 25, 50, 75, 100]:\n",
    "    map_size_str = f\"{map_size:03d}\"\n",
    "    disease_name = f\"disease_{map_size_str}\"\n",
    "    disease_folder = experiments_folder.joinpath(disease_name)\n",
    "    csv_path = disease_folder.joinpath(f\"{disease_name}.csv\")\n",
    "    df_i = pd.read_csv(csv_path, sep=\",\")\n",
    "    df_i[\"map_size\"] = map_size_str\n",
    "    result_dfs.append(df_i)"
   ]
  },
  {
   "cell_type": "code",
   "execution_count": 61,
   "metadata": {},
   "outputs": [],
   "source": [
    "df = pd.concat(result_dfs, axis=0, ignore_index=True)\n",
    "df[\"device\"] = df[\"command\"].str.contains(\"gpus\").replace({True: \"GPU\", False: \"CPU\"})\n",
    "fname = f\"benchmark_results_{df['device'].iloc[0].lower()}.tsv\"\n",
    "df.to_csv(results_folder.joinpath(fname), sep=\"\\t\")"
   ]
  },
  {
   "cell_type": "code",
   "execution_count": null,
   "metadata": {},
   "outputs": [],
   "source": []
  }
 ],
 "metadata": {
  "kernelspec": {
   "display_name": "ds",
   "language": "python",
   "name": "python3"
  },
  "language_info": {
   "codemirror_mode": {
    "name": "ipython",
    "version": 3
   },
   "file_extension": ".py",
   "mimetype": "text/x-python",
   "name": "python",
   "nbconvert_exporter": "python",
   "pygments_lexer": "ipython3",
   "version": "3.10.13"
  }
 },
 "nbformat": 4,
 "nbformat_minor": 2
}
