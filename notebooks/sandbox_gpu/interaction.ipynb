{
 "metadata": {
  "language_info": {
   "codemirror_mode": {
    "name": "ipython",
    "version": 3
   },
   "file_extension": ".py",
   "mimetype": "text/x-python",
   "name": "python",
   "nbconvert_exporter": "python",
   "pygments_lexer": "ipython3",
   "version": "3.8.6-final"
  },
  "orig_nbformat": 2,
  "kernelspec": {
   "name": "Python 3.8.6 64-bit ('.venv': conda)",
   "display_name": "Python 3.8.6 64-bit ('.venv': conda)",
   "metadata": {
    "interpreter": {
     "hash": "b33b836ed041b7c1611794e73026c5346310f5e180790ed23566b44c74cf3aae"
    }
   }
  }
 },
 "nbformat": 4,
 "nbformat_minor": 2,
 "cells": [
  {
   "cell_type": "code",
   "execution_count": 1,
   "metadata": {},
   "outputs": [
    {
     "output_type": "stream",
     "name": "stdout",
     "text": [
      "/home/cloucera/projects/pyholird/.venv/bin/python\n"
     ]
    }
   ],
   "source": [
    "!which python"
   ]
  },
  {
   "cell_type": "code",
   "execution_count": 28,
   "metadata": {},
   "outputs": [],
   "source": [
    "import pandas as pd\n",
    "import joblib\n",
    "from sklearn.model_selection import train_test_split\n",
    "import shap\n",
    "import pathlib\n",
    "import matplotlib.pyplot as plt\n",
    "import dotenv\n",
    "import os\n",
    "from sklearn.model_selection import (\n",
    "    ShuffleSplit,\n",
    "    train_test_split,\n",
    ")\n",
    "import sys\n",
    "\n",
    "plt.style.use(\"ggplot\")\n",
    "\n",
    "dotenv_filepath = pathlib.Path(dotenv.find_dotenv())\n",
    "dotenv.load_dotenv(dotenv_filepath)\n",
    "project_path = dotenv_filepath.parent\n"
   ]
  },
  {
   "cell_type": "code",
   "execution_count": null,
   "metadata": {},
   "outputs": [],
   "source": [
    "sys.path.append(project_path.as_posix())"
   ]
  },
  {
   "cell_type": "code",
   "execution_count": 17,
   "metadata": {},
   "outputs": [],
   "source": [
    "from src.datasets import get_disease_data\n",
    "\n",
    "disease_name = \"Acute_promyelocytic_leukemia\"\n",
    "experiment_fname =  \"experiment.env\"\n",
    "disease_fpath = project_path.joinpath(\"notebooks\", \"data\", \"PanRD_ML\", \"results\", disease_name, experiment_fname)"
   ]
  },
  {
   "cell_type": "code",
   "execution_count": 19,
   "metadata": {},
   "outputs": [],
   "source": [
    "X, Y,  _, _ = get_disease_data(disease_fpath)"
   ]
  },
  {
   "cell_type": "code",
   "execution_count": 20,
   "metadata": {},
   "outputs": [
    {
     "output_type": "execute_result",
     "data": {
      "text/plain": [
       "                                18        19        25        30        41  \\\n",
       "index                                                                        \n",
       "GTEX.1117F.0226.SM.5GZZ7  0.317665  0.458580  0.475477  0.359000  0.189063   \n",
       "GTEX.111CU.1826.SM.5GZYN  0.310635  0.403279  0.450367  0.377898  0.202662   \n",
       "GTEX.111FC.0226.SM.5N9B8  0.273036  0.400844  0.439983  0.355321  0.243211   \n",
       "GTEX.111VG.2326.SM.5N9BK  0.304227  0.394599  0.441530  0.382837  0.224171   \n",
       "GTEX.111YS.2426.SM.5GZZQ  0.317121  0.469217  0.443515  0.370553  0.164537   \n",
       "\n",
       "                                43        55        87       100       124  \\\n",
       "index                                                                        \n",
       "GTEX.1117F.0226.SM.5GZZ7  0.223048  0.153920  0.469224  0.317083  0.223048   \n",
       "GTEX.111CU.1826.SM.5GZYN  0.198975  0.210150  0.457888  0.357860  0.213907   \n",
       "GTEX.111FC.0226.SM.5N9B8  0.227091  0.118643  0.471758  0.343834  0.162724   \n",
       "GTEX.111VG.2326.SM.5N9BK  0.228116  0.161616  0.477043  0.338001  0.171134   \n",
       "GTEX.111YS.2426.SM.5GZZQ  0.166544  0.164537  0.457146  0.312981  0.188892   \n",
       "\n",
       "                          ...    127833        134864    154807    162514  \\\n",
       "index                     ...                                               \n",
       "GTEX.1117F.0226.SM.5GZZ7  ...  0.124269  1.627636e-02  0.375524  0.248760   \n",
       "GTEX.111CU.1826.SM.5GZYN  ...  0.132201  1.688435e-16  0.446102  0.220727   \n",
       "GTEX.111FC.0226.SM.5N9B8  ...  0.167754  1.688435e-16  0.375780  0.241828   \n",
       "GTEX.111VG.2326.SM.5N9BK  ...  0.135484  1.688435e-16  0.402339  0.287238   \n",
       "GTEX.111YS.2426.SM.5GZZQ  ...  0.180401  1.688435e-16  0.425451  0.204232   \n",
       "\n",
       "                                200959    203068    255738    338442  \\\n",
       "index                                                                  \n",
       "GTEX.1117F.0226.SM.5GZZ7  1.688435e-16  0.477527  0.133313  0.147872   \n",
       "GTEX.111CU.1826.SM.5GZYN  1.688435e-16  0.462783  0.045873  0.338529   \n",
       "GTEX.111FC.0226.SM.5N9B8  1.688435e-16  0.482021  0.079564  0.179598   \n",
       "GTEX.111VG.2326.SM.5N9BK  1.688435e-16  0.490011  0.169080  0.268850   \n",
       "GTEX.111YS.2426.SM.5GZZQ  1.688435e-16  0.463205  0.064560  0.250160   \n",
       "\n",
       "                            338557        548596  \n",
       "index                                             \n",
       "GTEX.1117F.0226.SM.5GZZ7  0.143895  1.603941e-01  \n",
       "GTEX.111CU.1826.SM.5GZYN  0.281507  1.688435e-16  \n",
       "GTEX.111FC.0226.SM.5N9B8  0.160711  2.100090e-02  \n",
       "GTEX.111VG.2326.SM.5N9BK  0.250149  4.095755e-02  \n",
       "GTEX.111YS.2426.SM.5GZZQ  0.242333  1.743191e-02  \n",
       "\n",
       "[5 rows x 683 columns]"
      ],
      "text/html": "<div>\n<style scoped>\n    .dataframe tbody tr th:only-of-type {\n        vertical-align: middle;\n    }\n\n    .dataframe tbody tr th {\n        vertical-align: top;\n    }\n\n    .dataframe thead th {\n        text-align: right;\n    }\n</style>\n<table border=\"1\" class=\"dataframe\">\n  <thead>\n    <tr style=\"text-align: right;\">\n      <th></th>\n      <th>18</th>\n      <th>19</th>\n      <th>25</th>\n      <th>30</th>\n      <th>41</th>\n      <th>43</th>\n      <th>55</th>\n      <th>87</th>\n      <th>100</th>\n      <th>124</th>\n      <th>...</th>\n      <th>127833</th>\n      <th>134864</th>\n      <th>154807</th>\n      <th>162514</th>\n      <th>200959</th>\n      <th>203068</th>\n      <th>255738</th>\n      <th>338442</th>\n      <th>338557</th>\n      <th>548596</th>\n    </tr>\n    <tr>\n      <th>index</th>\n      <th></th>\n      <th></th>\n      <th></th>\n      <th></th>\n      <th></th>\n      <th></th>\n      <th></th>\n      <th></th>\n      <th></th>\n      <th></th>\n      <th></th>\n      <th></th>\n      <th></th>\n      <th></th>\n      <th></th>\n      <th></th>\n      <th></th>\n      <th></th>\n      <th></th>\n      <th></th>\n      <th></th>\n    </tr>\n  </thead>\n  <tbody>\n    <tr>\n      <th>GTEX.1117F.0226.SM.5GZZ7</th>\n      <td>0.317665</td>\n      <td>0.458580</td>\n      <td>0.475477</td>\n      <td>0.359000</td>\n      <td>0.189063</td>\n      <td>0.223048</td>\n      <td>0.153920</td>\n      <td>0.469224</td>\n      <td>0.317083</td>\n      <td>0.223048</td>\n      <td>...</td>\n      <td>0.124269</td>\n      <td>1.627636e-02</td>\n      <td>0.375524</td>\n      <td>0.248760</td>\n      <td>1.688435e-16</td>\n      <td>0.477527</td>\n      <td>0.133313</td>\n      <td>0.147872</td>\n      <td>0.143895</td>\n      <td>1.603941e-01</td>\n    </tr>\n    <tr>\n      <th>GTEX.111CU.1826.SM.5GZYN</th>\n      <td>0.310635</td>\n      <td>0.403279</td>\n      <td>0.450367</td>\n      <td>0.377898</td>\n      <td>0.202662</td>\n      <td>0.198975</td>\n      <td>0.210150</td>\n      <td>0.457888</td>\n      <td>0.357860</td>\n      <td>0.213907</td>\n      <td>...</td>\n      <td>0.132201</td>\n      <td>1.688435e-16</td>\n      <td>0.446102</td>\n      <td>0.220727</td>\n      <td>1.688435e-16</td>\n      <td>0.462783</td>\n      <td>0.045873</td>\n      <td>0.338529</td>\n      <td>0.281507</td>\n      <td>1.688435e-16</td>\n    </tr>\n    <tr>\n      <th>GTEX.111FC.0226.SM.5N9B8</th>\n      <td>0.273036</td>\n      <td>0.400844</td>\n      <td>0.439983</td>\n      <td>0.355321</td>\n      <td>0.243211</td>\n      <td>0.227091</td>\n      <td>0.118643</td>\n      <td>0.471758</td>\n      <td>0.343834</td>\n      <td>0.162724</td>\n      <td>...</td>\n      <td>0.167754</td>\n      <td>1.688435e-16</td>\n      <td>0.375780</td>\n      <td>0.241828</td>\n      <td>1.688435e-16</td>\n      <td>0.482021</td>\n      <td>0.079564</td>\n      <td>0.179598</td>\n      <td>0.160711</td>\n      <td>2.100090e-02</td>\n    </tr>\n    <tr>\n      <th>GTEX.111VG.2326.SM.5N9BK</th>\n      <td>0.304227</td>\n      <td>0.394599</td>\n      <td>0.441530</td>\n      <td>0.382837</td>\n      <td>0.224171</td>\n      <td>0.228116</td>\n      <td>0.161616</td>\n      <td>0.477043</td>\n      <td>0.338001</td>\n      <td>0.171134</td>\n      <td>...</td>\n      <td>0.135484</td>\n      <td>1.688435e-16</td>\n      <td>0.402339</td>\n      <td>0.287238</td>\n      <td>1.688435e-16</td>\n      <td>0.490011</td>\n      <td>0.169080</td>\n      <td>0.268850</td>\n      <td>0.250149</td>\n      <td>4.095755e-02</td>\n    </tr>\n    <tr>\n      <th>GTEX.111YS.2426.SM.5GZZQ</th>\n      <td>0.317121</td>\n      <td>0.469217</td>\n      <td>0.443515</td>\n      <td>0.370553</td>\n      <td>0.164537</td>\n      <td>0.166544</td>\n      <td>0.164537</td>\n      <td>0.457146</td>\n      <td>0.312981</td>\n      <td>0.188892</td>\n      <td>...</td>\n      <td>0.180401</td>\n      <td>1.688435e-16</td>\n      <td>0.425451</td>\n      <td>0.204232</td>\n      <td>1.688435e-16</td>\n      <td>0.463205</td>\n      <td>0.064560</td>\n      <td>0.250160</td>\n      <td>0.242333</td>\n      <td>1.743191e-02</td>\n    </tr>\n  </tbody>\n</table>\n<p>5 rows × 683 columns</p>\n</div>"
     },
     "metadata": {},
     "execution_count": 20
    }
   ],
   "source": [
    "X.head()"
   ]
  },
  {
   "cell_type": "code",
   "execution_count": 22,
   "metadata": {},
   "outputs": [
    {
     "output_type": "execute_result",
     "data": {
      "text/plain": [
       "                          P.hsa04012.29  P.hsa04012.8  P.hsa04062.43  \\\n",
       "index                                                                  \n",
       "GTEX.1117F.0226.SM.5GZZ7       0.252374      0.054407       0.027943   \n",
       "GTEX.111CU.1826.SM.5GZYN       0.230129      0.055629       0.031996   \n",
       "GTEX.111FC.0226.SM.5N9B8       0.209267      0.045224       0.026725   \n",
       "GTEX.111VG.2326.SM.5N9BK       0.220617      0.033354       0.035292   \n",
       "GTEX.111YS.2426.SM.5GZZQ       0.246832      0.058853       0.024007   \n",
       "\n",
       "                          P.hsa04066.63  P.hsa04066.64  P.hsa04066.49  \\\n",
       "index                                                                   \n",
       "GTEX.1117F.0226.SM.5GZZ7       0.029371       0.028144       0.004076   \n",
       "GTEX.111CU.1826.SM.5GZYN       0.026657       0.026461       0.003187   \n",
       "GTEX.111FC.0226.SM.5N9B8       0.026258       0.023930       0.004435   \n",
       "GTEX.111VG.2326.SM.5N9BK       0.031075       0.025414       0.004399   \n",
       "GTEX.111YS.2426.SM.5GZZQ       0.024464       0.025996       0.001904   \n",
       "\n",
       "                          P.hsa04066.50  P.hsa04066.51  P.hsa04066.5  \\\n",
       "index                                                                  \n",
       "GTEX.1117F.0226.SM.5GZZ7       0.017938       0.024551      0.030644   \n",
       "GTEX.111CU.1826.SM.5GZYN       0.021076       0.023447      0.025674   \n",
       "GTEX.111FC.0226.SM.5N9B8       0.013841       0.020312      0.023513   \n",
       "GTEX.111VG.2326.SM.5N9BK       0.022378       0.033058      0.026103   \n",
       "GTEX.111YS.2426.SM.5GZZQ       0.024972       0.024166      0.028324   \n",
       "\n",
       "                          P.hsa04066.52  ...  P.hsa04920.2  P.hsa04920.28  \\\n",
       "index                                    ...                                \n",
       "GTEX.1117F.0226.SM.5GZZ7       0.024258  ...      0.065738       0.012099   \n",
       "GTEX.111CU.1826.SM.5GZYN       0.022483  ...      0.083765       0.013340   \n",
       "GTEX.111FC.0226.SM.5N9B8       0.023102  ...      0.055433       0.008503   \n",
       "GTEX.111VG.2326.SM.5N9BK       0.022573  ...      0.067624       0.009995   \n",
       "GTEX.111YS.2426.SM.5GZZQ       0.026786  ...      0.092475       0.014943   \n",
       "\n",
       "                          P.hsa04920.10  P.hsa04920.9  P.hsa04920.6  \\\n",
       "index                                                                 \n",
       "GTEX.1117F.0226.SM.5GZZ7       0.008271      0.006859      0.000509   \n",
       "GTEX.111CU.1826.SM.5GZYN       0.006220      0.004804      0.000734   \n",
       "GTEX.111FC.0226.SM.5N9B8       0.008361      0.007435      0.000528   \n",
       "GTEX.111VG.2326.SM.5N9BK       0.009119      0.006884      0.000343   \n",
       "GTEX.111YS.2426.SM.5GZZQ       0.004791      0.003434      0.001175   \n",
       "\n",
       "                          P.hsa04920.37  P.hsa04920.31  P.hsa04920.26  \\\n",
       "index                                                                   \n",
       "GTEX.1117F.0226.SM.5GZZ7       0.000044   8.639465e-06   2.070583e-05   \n",
       "GTEX.111CU.1826.SM.5GZYN       0.000056   6.669274e-06   7.256976e-20   \n",
       "GTEX.111FC.0226.SM.5N9B8       0.000047   8.947103e-20   8.947103e-20   \n",
       "GTEX.111VG.2326.SM.5N9BK       0.000017   7.710451e-06   1.389914e-05   \n",
       "GTEX.111YS.2426.SM.5GZZQ       0.000059   4.873428e-20   4.873428e-20   \n",
       "\n",
       "                          P.hsa04920.16  P.hsa04920.40  \n",
       "index                                                   \n",
       "GTEX.1117F.0226.SM.5GZZ7       0.000089       0.000430  \n",
       "GTEX.111CU.1826.SM.5GZYN       0.000162       0.000296  \n",
       "GTEX.111FC.0226.SM.5N9B8       0.000096       0.000375  \n",
       "GTEX.111VG.2326.SM.5N9BK       0.000085       0.000375  \n",
       "GTEX.111YS.2426.SM.5GZZQ       0.000303       0.000162  \n",
       "\n",
       "[5 rows x 105 columns]"
      ],
      "text/html": "<div>\n<style scoped>\n    .dataframe tbody tr th:only-of-type {\n        vertical-align: middle;\n    }\n\n    .dataframe tbody tr th {\n        vertical-align: top;\n    }\n\n    .dataframe thead th {\n        text-align: right;\n    }\n</style>\n<table border=\"1\" class=\"dataframe\">\n  <thead>\n    <tr style=\"text-align: right;\">\n      <th></th>\n      <th>P.hsa04012.29</th>\n      <th>P.hsa04012.8</th>\n      <th>P.hsa04062.43</th>\n      <th>P.hsa04066.63</th>\n      <th>P.hsa04066.64</th>\n      <th>P.hsa04066.49</th>\n      <th>P.hsa04066.50</th>\n      <th>P.hsa04066.51</th>\n      <th>P.hsa04066.5</th>\n      <th>P.hsa04066.52</th>\n      <th>...</th>\n      <th>P.hsa04920.2</th>\n      <th>P.hsa04920.28</th>\n      <th>P.hsa04920.10</th>\n      <th>P.hsa04920.9</th>\n      <th>P.hsa04920.6</th>\n      <th>P.hsa04920.37</th>\n      <th>P.hsa04920.31</th>\n      <th>P.hsa04920.26</th>\n      <th>P.hsa04920.16</th>\n      <th>P.hsa04920.40</th>\n    </tr>\n    <tr>\n      <th>index</th>\n      <th></th>\n      <th></th>\n      <th></th>\n      <th></th>\n      <th></th>\n      <th></th>\n      <th></th>\n      <th></th>\n      <th></th>\n      <th></th>\n      <th></th>\n      <th></th>\n      <th></th>\n      <th></th>\n      <th></th>\n      <th></th>\n      <th></th>\n      <th></th>\n      <th></th>\n      <th></th>\n      <th></th>\n    </tr>\n  </thead>\n  <tbody>\n    <tr>\n      <th>GTEX.1117F.0226.SM.5GZZ7</th>\n      <td>0.252374</td>\n      <td>0.054407</td>\n      <td>0.027943</td>\n      <td>0.029371</td>\n      <td>0.028144</td>\n      <td>0.004076</td>\n      <td>0.017938</td>\n      <td>0.024551</td>\n      <td>0.030644</td>\n      <td>0.024258</td>\n      <td>...</td>\n      <td>0.065738</td>\n      <td>0.012099</td>\n      <td>0.008271</td>\n      <td>0.006859</td>\n      <td>0.000509</td>\n      <td>0.000044</td>\n      <td>8.639465e-06</td>\n      <td>2.070583e-05</td>\n      <td>0.000089</td>\n      <td>0.000430</td>\n    </tr>\n    <tr>\n      <th>GTEX.111CU.1826.SM.5GZYN</th>\n      <td>0.230129</td>\n      <td>0.055629</td>\n      <td>0.031996</td>\n      <td>0.026657</td>\n      <td>0.026461</td>\n      <td>0.003187</td>\n      <td>0.021076</td>\n      <td>0.023447</td>\n      <td>0.025674</td>\n      <td>0.022483</td>\n      <td>...</td>\n      <td>0.083765</td>\n      <td>0.013340</td>\n      <td>0.006220</td>\n      <td>0.004804</td>\n      <td>0.000734</td>\n      <td>0.000056</td>\n      <td>6.669274e-06</td>\n      <td>7.256976e-20</td>\n      <td>0.000162</td>\n      <td>0.000296</td>\n    </tr>\n    <tr>\n      <th>GTEX.111FC.0226.SM.5N9B8</th>\n      <td>0.209267</td>\n      <td>0.045224</td>\n      <td>0.026725</td>\n      <td>0.026258</td>\n      <td>0.023930</td>\n      <td>0.004435</td>\n      <td>0.013841</td>\n      <td>0.020312</td>\n      <td>0.023513</td>\n      <td>0.023102</td>\n      <td>...</td>\n      <td>0.055433</td>\n      <td>0.008503</td>\n      <td>0.008361</td>\n      <td>0.007435</td>\n      <td>0.000528</td>\n      <td>0.000047</td>\n      <td>8.947103e-20</td>\n      <td>8.947103e-20</td>\n      <td>0.000096</td>\n      <td>0.000375</td>\n    </tr>\n    <tr>\n      <th>GTEX.111VG.2326.SM.5N9BK</th>\n      <td>0.220617</td>\n      <td>0.033354</td>\n      <td>0.035292</td>\n      <td>0.031075</td>\n      <td>0.025414</td>\n      <td>0.004399</td>\n      <td>0.022378</td>\n      <td>0.033058</td>\n      <td>0.026103</td>\n      <td>0.022573</td>\n      <td>...</td>\n      <td>0.067624</td>\n      <td>0.009995</td>\n      <td>0.009119</td>\n      <td>0.006884</td>\n      <td>0.000343</td>\n      <td>0.000017</td>\n      <td>7.710451e-06</td>\n      <td>1.389914e-05</td>\n      <td>0.000085</td>\n      <td>0.000375</td>\n    </tr>\n    <tr>\n      <th>GTEX.111YS.2426.SM.5GZZQ</th>\n      <td>0.246832</td>\n      <td>0.058853</td>\n      <td>0.024007</td>\n      <td>0.024464</td>\n      <td>0.025996</td>\n      <td>0.001904</td>\n      <td>0.024972</td>\n      <td>0.024166</td>\n      <td>0.028324</td>\n      <td>0.026786</td>\n      <td>...</td>\n      <td>0.092475</td>\n      <td>0.014943</td>\n      <td>0.004791</td>\n      <td>0.003434</td>\n      <td>0.001175</td>\n      <td>0.000059</td>\n      <td>4.873428e-20</td>\n      <td>4.873428e-20</td>\n      <td>0.000303</td>\n      <td>0.000162</td>\n    </tr>\n  </tbody>\n</table>\n<p>5 rows × 105 columns</p>\n</div>"
     },
     "metadata": {},
     "execution_count": 22
    }
   ],
   "source": [
    "Y.head()"
   ]
  },
  {
   "cell_type": "code",
   "execution_count": 24,
   "metadata": {},
   "outputs": [],
   "source": [
    "n = 100\n",
    "cv = ShuffleSplit(n_splits=n, train_size=0.5, random_state=0)\n",
    "cv = list(cv.split(X, Y))\n",
    "cv = [(*train_test_split(cv[i][0], test_size=0.3), cv[i][1]) for i in range(n)]"
   ]
  },
  {
   "cell_type": "code",
   "execution_count": 38,
   "metadata": {},
   "outputs": [
    {
     "output_type": "execute_result",
     "data": {
      "text/plain": [
       "((11688, 683),\n",
       " (11688, 105),\n",
       " (4090, 683),\n",
       " (4090, 105),\n",
       " (1754, 683),\n",
       " (1754, 105))"
      ]
     },
     "metadata": {},
     "execution_count": 38
    }
   ],
   "source": [
    "i = 0\n",
    "split = cv[i]\n",
    "learn, val, test = split\n",
    "X_learn = X.iloc[learn, :]\n",
    "Y_learn = Y.iloc[learn, :]\n",
    "X_val = X.iloc[val, :]\n",
    "Y_val = Y.iloc[val, :]\n",
    "X_test = X.iloc[test, :]\n",
    "Y_test = Y.iloc[test, :]\n",
    "X_train = pd.concat((X_learn, X_val), axis=0)\n",
    "Y_train = pd.concat((Y_learn, Y_val), axis=0)\n",
    "\n",
    "X.shape, Y.shape, X_learn.shape, Y_learn.shape, X_val.shape, Y_val.shape"
   ]
  },
  {
   "cell_type": "code",
   "execution_count": 39,
   "metadata": {},
   "outputs": [],
   "source": [
    "from src.models import get_model\n",
    "n_features = X.shape[1]\n",
    "model = get_model(n_features, n_jobs=24, debug=False)"
   ]
  },
  {
   "cell_type": "code",
   "execution_count": 40,
   "metadata": {},
   "outputs": [
    {
     "output_type": "execute_result",
     "data": {
      "text/plain": [
       "RandomForestRegressor(max_depth=8, max_features=46, n_estimators=200, n_jobs=24)"
      ]
     },
     "metadata": {},
     "execution_count": 40
    }
   ],
   "source": [
    "model.fit(X_learn, Y_learn)"
   ]
  },
  {
   "cell_type": "code",
   "execution_count": 41,
   "metadata": {},
   "outputs": [],
   "source": [
    "explainer = shap.GPUTreeExplainer(model, X_learn)"
   ]
  },
  {
   "cell_type": "code",
   "execution_count": 42,
   "metadata": {},
   "outputs": [],
   "source": [
    "sv = explainer.shap_values(X_val)"
   ]
  },
  {
   "cell_type": "code",
   "execution_count": null,
   "metadata": {},
   "outputs": [],
   "source": []
  }
 ]
}