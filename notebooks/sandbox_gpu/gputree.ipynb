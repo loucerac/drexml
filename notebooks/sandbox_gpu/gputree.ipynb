{
 "cells": [
  {
   "cell_type": "code",
   "execution_count": 1,
   "metadata": {},
   "outputs": [],
   "source": [
    "import joblib\n",
    "import dotenv\n",
    "import pathlib\n",
    "import matplotlib.pyplot as plt\n",
    "plt.style.use(\"ggplot\")\n",
    "\n",
    "project_folder = pathlib.Path(dotenv.find_dotenv()).parent.absolute()\n",
    "data_folder = project_folder.joinpath(\"notebooks\", \"data\")"
   ]
  },
  {
   "cell_type": "code",
   "execution_count": 2,
   "metadata": {},
   "outputs": [
    {
     "name": "stdout",
     "output_type": "stream",
     "text": [
      "/home/cloucera/.conda/envs/panrd/bin/python\n"
     ]
    }
   ],
   "source": [
    "!which python"
   ]
  },
  {
   "cell_type": "code",
   "execution_count": null,
   "metadata": {},
   "outputs": [],
   "source": []
  },
  {
   "cell_type": "code",
   "execution_count": 6,
   "metadata": {},
   "outputs": [],
   "source": [
    "X_fpath = data_folder.joinpath(\"features_covid.pkl\")\n",
    "X = joblib.load(X_fpath)\n",
    "\n",
    "Xat_fpath = data_folder.joinpath(\"features.pkl\")\n",
    "Xat = joblib.load(Xat_fpath)\n",
    "\n",
    "X = X[Xat.columns]\n",
    "\n",
    "Y_fpath = data_folder.joinpath(\"target_covid.pkl\")\n",
    "Y = joblib.load(Y_fpath)"
   ]
  },
  {
   "cell_type": "code",
   "execution_count": 7,
   "metadata": {},
   "outputs": [
    {
     "data": {
      "text/html": [
       "<div>\n",
       "<style scoped>\n",
       "    .dataframe tbody tr th:only-of-type {\n",
       "        vertical-align: middle;\n",
       "    }\n",
       "\n",
       "    .dataframe tbody tr th {\n",
       "        vertical-align: top;\n",
       "    }\n",
       "\n",
       "    .dataframe thead th {\n",
       "        text-align: right;\n",
       "    }\n",
       "</style>\n",
       "<table border=\"1\" class=\"dataframe\">\n",
       "  <thead>\n",
       "    <tr style=\"text-align: right;\">\n",
       "      <th></th>\n",
       "      <th>18</th>\n",
       "      <th>19</th>\n",
       "      <th>25</th>\n",
       "      <th>30</th>\n",
       "      <th>41</th>\n",
       "      <th>43</th>\n",
       "      <th>55</th>\n",
       "      <th>87</th>\n",
       "      <th>100</th>\n",
       "      <th>124</th>\n",
       "      <th>...</th>\n",
       "      <th>127833</th>\n",
       "      <th>134864</th>\n",
       "      <th>154807</th>\n",
       "      <th>162514</th>\n",
       "      <th>200959</th>\n",
       "      <th>203068</th>\n",
       "      <th>255738</th>\n",
       "      <th>338442</th>\n",
       "      <th>338557</th>\n",
       "      <th>548596</th>\n",
       "    </tr>\n",
       "    <tr>\n",
       "      <th>index</th>\n",
       "      <th></th>\n",
       "      <th></th>\n",
       "      <th></th>\n",
       "      <th></th>\n",
       "      <th></th>\n",
       "      <th></th>\n",
       "      <th></th>\n",
       "      <th></th>\n",
       "      <th></th>\n",
       "      <th></th>\n",
       "      <th></th>\n",
       "      <th></th>\n",
       "      <th></th>\n",
       "      <th></th>\n",
       "      <th></th>\n",
       "      <th></th>\n",
       "      <th></th>\n",
       "      <th></th>\n",
       "      <th></th>\n",
       "      <th></th>\n",
       "      <th></th>\n",
       "    </tr>\n",
       "  </thead>\n",
       "  <tbody>\n",
       "    <tr>\n",
       "      <th>GTEX.1117F.0226.SM.5GZZ7</th>\n",
       "      <td>0.317665</td>\n",
       "      <td>0.458580</td>\n",
       "      <td>0.475477</td>\n",
       "      <td>0.359000</td>\n",
       "      <td>0.189063</td>\n",
       "      <td>0.223048</td>\n",
       "      <td>0.153920</td>\n",
       "      <td>0.469224</td>\n",
       "      <td>0.317083</td>\n",
       "      <td>0.223048</td>\n",
       "      <td>...</td>\n",
       "      <td>0.124269</td>\n",
       "      <td>1.627636e-02</td>\n",
       "      <td>0.375524</td>\n",
       "      <td>0.248760</td>\n",
       "      <td>1.688435e-16</td>\n",
       "      <td>0.477527</td>\n",
       "      <td>0.133313</td>\n",
       "      <td>0.147872</td>\n",
       "      <td>0.143895</td>\n",
       "      <td>1.603941e-01</td>\n",
       "    </tr>\n",
       "    <tr>\n",
       "      <th>GTEX.111CU.1826.SM.5GZYN</th>\n",
       "      <td>0.310635</td>\n",
       "      <td>0.403279</td>\n",
       "      <td>0.450367</td>\n",
       "      <td>0.377898</td>\n",
       "      <td>0.202662</td>\n",
       "      <td>0.198975</td>\n",
       "      <td>0.210150</td>\n",
       "      <td>0.457888</td>\n",
       "      <td>0.357860</td>\n",
       "      <td>0.213907</td>\n",
       "      <td>...</td>\n",
       "      <td>0.132201</td>\n",
       "      <td>1.688435e-16</td>\n",
       "      <td>0.446102</td>\n",
       "      <td>0.220727</td>\n",
       "      <td>1.688435e-16</td>\n",
       "      <td>0.462783</td>\n",
       "      <td>0.045873</td>\n",
       "      <td>0.338529</td>\n",
       "      <td>0.281507</td>\n",
       "      <td>1.688435e-16</td>\n",
       "    </tr>\n",
       "    <tr>\n",
       "      <th>GTEX.111FC.0226.SM.5N9B8</th>\n",
       "      <td>0.273036</td>\n",
       "      <td>0.400844</td>\n",
       "      <td>0.439983</td>\n",
       "      <td>0.355321</td>\n",
       "      <td>0.243211</td>\n",
       "      <td>0.227091</td>\n",
       "      <td>0.118643</td>\n",
       "      <td>0.471758</td>\n",
       "      <td>0.343834</td>\n",
       "      <td>0.162724</td>\n",
       "      <td>...</td>\n",
       "      <td>0.167754</td>\n",
       "      <td>1.688435e-16</td>\n",
       "      <td>0.375780</td>\n",
       "      <td>0.241828</td>\n",
       "      <td>1.688435e-16</td>\n",
       "      <td>0.482021</td>\n",
       "      <td>0.079564</td>\n",
       "      <td>0.179598</td>\n",
       "      <td>0.160711</td>\n",
       "      <td>2.100090e-02</td>\n",
       "    </tr>\n",
       "    <tr>\n",
       "      <th>GTEX.111VG.2326.SM.5N9BK</th>\n",
       "      <td>0.304227</td>\n",
       "      <td>0.394599</td>\n",
       "      <td>0.441530</td>\n",
       "      <td>0.382837</td>\n",
       "      <td>0.224171</td>\n",
       "      <td>0.228116</td>\n",
       "      <td>0.161616</td>\n",
       "      <td>0.477043</td>\n",
       "      <td>0.338001</td>\n",
       "      <td>0.171134</td>\n",
       "      <td>...</td>\n",
       "      <td>0.135484</td>\n",
       "      <td>1.688435e-16</td>\n",
       "      <td>0.402339</td>\n",
       "      <td>0.287238</td>\n",
       "      <td>1.688435e-16</td>\n",
       "      <td>0.490011</td>\n",
       "      <td>0.169080</td>\n",
       "      <td>0.268850</td>\n",
       "      <td>0.250149</td>\n",
       "      <td>4.095755e-02</td>\n",
       "    </tr>\n",
       "    <tr>\n",
       "      <th>GTEX.111YS.2426.SM.5GZZQ</th>\n",
       "      <td>0.317121</td>\n",
       "      <td>0.469217</td>\n",
       "      <td>0.443515</td>\n",
       "      <td>0.370553</td>\n",
       "      <td>0.164537</td>\n",
       "      <td>0.166544</td>\n",
       "      <td>0.164537</td>\n",
       "      <td>0.457146</td>\n",
       "      <td>0.312981</td>\n",
       "      <td>0.188892</td>\n",
       "      <td>...</td>\n",
       "      <td>0.180401</td>\n",
       "      <td>1.688435e-16</td>\n",
       "      <td>0.425451</td>\n",
       "      <td>0.204232</td>\n",
       "      <td>1.688435e-16</td>\n",
       "      <td>0.463205</td>\n",
       "      <td>0.064560</td>\n",
       "      <td>0.250160</td>\n",
       "      <td>0.242333</td>\n",
       "      <td>1.743191e-02</td>\n",
       "    </tr>\n",
       "  </tbody>\n",
       "</table>\n",
       "<p>5 rows × 683 columns</p>\n",
       "</div>"
      ],
      "text/plain": [
       "                                18        19        25        30        41  \\\n",
       "index                                                                        \n",
       "GTEX.1117F.0226.SM.5GZZ7  0.317665  0.458580  0.475477  0.359000  0.189063   \n",
       "GTEX.111CU.1826.SM.5GZYN  0.310635  0.403279  0.450367  0.377898  0.202662   \n",
       "GTEX.111FC.0226.SM.5N9B8  0.273036  0.400844  0.439983  0.355321  0.243211   \n",
       "GTEX.111VG.2326.SM.5N9BK  0.304227  0.394599  0.441530  0.382837  0.224171   \n",
       "GTEX.111YS.2426.SM.5GZZQ  0.317121  0.469217  0.443515  0.370553  0.164537   \n",
       "\n",
       "                                43        55        87       100       124  \\\n",
       "index                                                                        \n",
       "GTEX.1117F.0226.SM.5GZZ7  0.223048  0.153920  0.469224  0.317083  0.223048   \n",
       "GTEX.111CU.1826.SM.5GZYN  0.198975  0.210150  0.457888  0.357860  0.213907   \n",
       "GTEX.111FC.0226.SM.5N9B8  0.227091  0.118643  0.471758  0.343834  0.162724   \n",
       "GTEX.111VG.2326.SM.5N9BK  0.228116  0.161616  0.477043  0.338001  0.171134   \n",
       "GTEX.111YS.2426.SM.5GZZQ  0.166544  0.164537  0.457146  0.312981  0.188892   \n",
       "\n",
       "                          ...    127833        134864    154807    162514  \\\n",
       "index                     ...                                               \n",
       "GTEX.1117F.0226.SM.5GZZ7  ...  0.124269  1.627636e-02  0.375524  0.248760   \n",
       "GTEX.111CU.1826.SM.5GZYN  ...  0.132201  1.688435e-16  0.446102  0.220727   \n",
       "GTEX.111FC.0226.SM.5N9B8  ...  0.167754  1.688435e-16  0.375780  0.241828   \n",
       "GTEX.111VG.2326.SM.5N9BK  ...  0.135484  1.688435e-16  0.402339  0.287238   \n",
       "GTEX.111YS.2426.SM.5GZZQ  ...  0.180401  1.688435e-16  0.425451  0.204232   \n",
       "\n",
       "                                200959    203068    255738    338442  \\\n",
       "index                                                                  \n",
       "GTEX.1117F.0226.SM.5GZZ7  1.688435e-16  0.477527  0.133313  0.147872   \n",
       "GTEX.111CU.1826.SM.5GZYN  1.688435e-16  0.462783  0.045873  0.338529   \n",
       "GTEX.111FC.0226.SM.5N9B8  1.688435e-16  0.482021  0.079564  0.179598   \n",
       "GTEX.111VG.2326.SM.5N9BK  1.688435e-16  0.490011  0.169080  0.268850   \n",
       "GTEX.111YS.2426.SM.5GZZQ  1.688435e-16  0.463205  0.064560  0.250160   \n",
       "\n",
       "                            338557        548596  \n",
       "index                                             \n",
       "GTEX.1117F.0226.SM.5GZZ7  0.143895  1.603941e-01  \n",
       "GTEX.111CU.1826.SM.5GZYN  0.281507  1.688435e-16  \n",
       "GTEX.111FC.0226.SM.5N9B8  0.160711  2.100090e-02  \n",
       "GTEX.111VG.2326.SM.5N9BK  0.250149  4.095755e-02  \n",
       "GTEX.111YS.2426.SM.5GZZQ  0.242333  1.743191e-02  \n",
       "\n",
       "[5 rows x 683 columns]"
      ]
     },
     "execution_count": 7,
     "metadata": {},
     "output_type": "execute_result"
    }
   ],
   "source": [
    "X.head()"
   ]
  },
  {
   "cell_type": "code",
   "execution_count": 8,
   "metadata": {},
   "outputs": [
    {
     "data": {
      "text/html": [
       "<div>\n",
       "<style scoped>\n",
       "    .dataframe tbody tr th:only-of-type {\n",
       "        vertical-align: middle;\n",
       "    }\n",
       "\n",
       "    .dataframe tbody tr th {\n",
       "        vertical-align: top;\n",
       "    }\n",
       "\n",
       "    .dataframe thead th {\n",
       "        text-align: right;\n",
       "    }\n",
       "</style>\n",
       "<table border=\"1\" class=\"dataframe\">\n",
       "  <thead>\n",
       "    <tr style=\"text-align: right;\">\n",
       "      <th>index</th>\n",
       "      <th>P.hsa04010.15</th>\n",
       "      <th>P.hsa04010.61</th>\n",
       "      <th>P.hsa04010.79</th>\n",
       "      <th>P.hsa04010.68</th>\n",
       "      <th>P.hsa04010.67</th>\n",
       "      <th>P.hsa04010.66</th>\n",
       "      <th>P.hsa04010.65</th>\n",
       "      <th>P.hsa04010.64</th>\n",
       "      <th>P.hsa04010.63</th>\n",
       "      <th>P.hsa04010.62</th>\n",
       "      <th>...</th>\n",
       "      <th>P.hsa05168.9</th>\n",
       "      <th>P.hsa05168.138</th>\n",
       "      <th>P.hsa05168.79</th>\n",
       "      <th>P.hsa05169.45</th>\n",
       "      <th>P.hsa05169.60</th>\n",
       "      <th>P.hsa05169.83</th>\n",
       "      <th>P.hsa05169.79</th>\n",
       "      <th>P.hsa05169.103</th>\n",
       "      <th>P.hsa05169.104</th>\n",
       "      <th>P.hsa05169.125</th>\n",
       "    </tr>\n",
       "    <tr>\n",
       "      <th>index</th>\n",
       "      <th></th>\n",
       "      <th></th>\n",
       "      <th></th>\n",
       "      <th></th>\n",
       "      <th></th>\n",
       "      <th></th>\n",
       "      <th></th>\n",
       "      <th></th>\n",
       "      <th></th>\n",
       "      <th></th>\n",
       "      <th></th>\n",
       "      <th></th>\n",
       "      <th></th>\n",
       "      <th></th>\n",
       "      <th></th>\n",
       "      <th></th>\n",
       "      <th></th>\n",
       "      <th></th>\n",
       "      <th></th>\n",
       "      <th></th>\n",
       "      <th></th>\n",
       "    </tr>\n",
       "  </thead>\n",
       "  <tbody>\n",
       "    <tr>\n",
       "      <th>GTEX.1117F.0226.SM.5GZZ7</th>\n",
       "      <td>0.147881</td>\n",
       "      <td>0.003826</td>\n",
       "      <td>0.003448</td>\n",
       "      <td>0.003576</td>\n",
       "      <td>0.004186</td>\n",
       "      <td>0.003919</td>\n",
       "      <td>0.003970</td>\n",
       "      <td>0.003552</td>\n",
       "      <td>0.003875</td>\n",
       "      <td>0.003580</td>\n",
       "      <td>...</td>\n",
       "      <td>0.026879</td>\n",
       "      <td>0.050024</td>\n",
       "      <td>0.073659</td>\n",
       "      <td>0.014409</td>\n",
       "      <td>0.014967</td>\n",
       "      <td>0.034794</td>\n",
       "      <td>0.006898</td>\n",
       "      <td>0.021198</td>\n",
       "      <td>0.043688</td>\n",
       "      <td>0.177299</td>\n",
       "    </tr>\n",
       "    <tr>\n",
       "      <th>GTEX.111CU.1826.SM.5GZYN</th>\n",
       "      <td>0.141606</td>\n",
       "      <td>0.004595</td>\n",
       "      <td>0.004182</td>\n",
       "      <td>0.004242</td>\n",
       "      <td>0.004239</td>\n",
       "      <td>0.004615</td>\n",
       "      <td>0.004418</td>\n",
       "      <td>0.004051</td>\n",
       "      <td>0.004510</td>\n",
       "      <td>0.004425</td>\n",
       "      <td>...</td>\n",
       "      <td>0.028931</td>\n",
       "      <td>0.050495</td>\n",
       "      <td>0.077289</td>\n",
       "      <td>0.015329</td>\n",
       "      <td>0.017065</td>\n",
       "      <td>0.035066</td>\n",
       "      <td>0.006416</td>\n",
       "      <td>0.023746</td>\n",
       "      <td>0.041398</td>\n",
       "      <td>0.190706</td>\n",
       "    </tr>\n",
       "    <tr>\n",
       "      <th>GTEX.111FC.0226.SM.5N9B8</th>\n",
       "      <td>0.137174</td>\n",
       "      <td>0.003589</td>\n",
       "      <td>0.003503</td>\n",
       "      <td>0.003789</td>\n",
       "      <td>0.003403</td>\n",
       "      <td>0.004066</td>\n",
       "      <td>0.003904</td>\n",
       "      <td>0.003456</td>\n",
       "      <td>0.003868</td>\n",
       "      <td>0.004133</td>\n",
       "      <td>...</td>\n",
       "      <td>0.027188</td>\n",
       "      <td>0.051253</td>\n",
       "      <td>0.073871</td>\n",
       "      <td>0.014245</td>\n",
       "      <td>0.015386</td>\n",
       "      <td>0.036635</td>\n",
       "      <td>0.006304</td>\n",
       "      <td>0.024136</td>\n",
       "      <td>0.047301</td>\n",
       "      <td>0.173344</td>\n",
       "    </tr>\n",
       "    <tr>\n",
       "      <th>GTEX.111VG.2326.SM.5N9BK</th>\n",
       "      <td>0.152084</td>\n",
       "      <td>0.003551</td>\n",
       "      <td>0.003413</td>\n",
       "      <td>0.003406</td>\n",
       "      <td>0.003326</td>\n",
       "      <td>0.003758</td>\n",
       "      <td>0.003641</td>\n",
       "      <td>0.003298</td>\n",
       "      <td>0.003680</td>\n",
       "      <td>0.003565</td>\n",
       "      <td>...</td>\n",
       "      <td>0.027657</td>\n",
       "      <td>0.050216</td>\n",
       "      <td>0.072747</td>\n",
       "      <td>0.013423</td>\n",
       "      <td>0.016252</td>\n",
       "      <td>0.035140</td>\n",
       "      <td>0.007374</td>\n",
       "      <td>0.023549</td>\n",
       "      <td>0.044707</td>\n",
       "      <td>0.199739</td>\n",
       "    </tr>\n",
       "    <tr>\n",
       "      <th>GTEX.111YS.2426.SM.5GZZQ</th>\n",
       "      <td>0.135788</td>\n",
       "      <td>0.004375</td>\n",
       "      <td>0.003949</td>\n",
       "      <td>0.004408</td>\n",
       "      <td>0.004200</td>\n",
       "      <td>0.004388</td>\n",
       "      <td>0.004627</td>\n",
       "      <td>0.003451</td>\n",
       "      <td>0.004538</td>\n",
       "      <td>0.004485</td>\n",
       "      <td>...</td>\n",
       "      <td>0.028585</td>\n",
       "      <td>0.054631</td>\n",
       "      <td>0.075403</td>\n",
       "      <td>0.015743</td>\n",
       "      <td>0.015371</td>\n",
       "      <td>0.034905</td>\n",
       "      <td>0.005952</td>\n",
       "      <td>0.023434</td>\n",
       "      <td>0.042190</td>\n",
       "      <td>0.174180</td>\n",
       "    </tr>\n",
       "  </tbody>\n",
       "</table>\n",
       "<p>5 rows × 277 columns</p>\n",
       "</div>"
      ],
      "text/plain": [
       "index                     P.hsa04010.15  P.hsa04010.61  P.hsa04010.79  \\\n",
       "index                                                                   \n",
       "GTEX.1117F.0226.SM.5GZZ7       0.147881       0.003826       0.003448   \n",
       "GTEX.111CU.1826.SM.5GZYN       0.141606       0.004595       0.004182   \n",
       "GTEX.111FC.0226.SM.5N9B8       0.137174       0.003589       0.003503   \n",
       "GTEX.111VG.2326.SM.5N9BK       0.152084       0.003551       0.003413   \n",
       "GTEX.111YS.2426.SM.5GZZQ       0.135788       0.004375       0.003949   \n",
       "\n",
       "index                     P.hsa04010.68  P.hsa04010.67  P.hsa04010.66  \\\n",
       "index                                                                   \n",
       "GTEX.1117F.0226.SM.5GZZ7       0.003576       0.004186       0.003919   \n",
       "GTEX.111CU.1826.SM.5GZYN       0.004242       0.004239       0.004615   \n",
       "GTEX.111FC.0226.SM.5N9B8       0.003789       0.003403       0.004066   \n",
       "GTEX.111VG.2326.SM.5N9BK       0.003406       0.003326       0.003758   \n",
       "GTEX.111YS.2426.SM.5GZZQ       0.004408       0.004200       0.004388   \n",
       "\n",
       "index                     P.hsa04010.65  P.hsa04010.64  P.hsa04010.63  \\\n",
       "index                                                                   \n",
       "GTEX.1117F.0226.SM.5GZZ7       0.003970       0.003552       0.003875   \n",
       "GTEX.111CU.1826.SM.5GZYN       0.004418       0.004051       0.004510   \n",
       "GTEX.111FC.0226.SM.5N9B8       0.003904       0.003456       0.003868   \n",
       "GTEX.111VG.2326.SM.5N9BK       0.003641       0.003298       0.003680   \n",
       "GTEX.111YS.2426.SM.5GZZQ       0.004627       0.003451       0.004538   \n",
       "\n",
       "index                     P.hsa04010.62  ...  P.hsa05168.9  P.hsa05168.138  \\\n",
       "index                                    ...                                 \n",
       "GTEX.1117F.0226.SM.5GZZ7       0.003580  ...      0.026879        0.050024   \n",
       "GTEX.111CU.1826.SM.5GZYN       0.004425  ...      0.028931        0.050495   \n",
       "GTEX.111FC.0226.SM.5N9B8       0.004133  ...      0.027188        0.051253   \n",
       "GTEX.111VG.2326.SM.5N9BK       0.003565  ...      0.027657        0.050216   \n",
       "GTEX.111YS.2426.SM.5GZZQ       0.004485  ...      0.028585        0.054631   \n",
       "\n",
       "index                     P.hsa05168.79  P.hsa05169.45  P.hsa05169.60  \\\n",
       "index                                                                   \n",
       "GTEX.1117F.0226.SM.5GZZ7       0.073659       0.014409       0.014967   \n",
       "GTEX.111CU.1826.SM.5GZYN       0.077289       0.015329       0.017065   \n",
       "GTEX.111FC.0226.SM.5N9B8       0.073871       0.014245       0.015386   \n",
       "GTEX.111VG.2326.SM.5N9BK       0.072747       0.013423       0.016252   \n",
       "GTEX.111YS.2426.SM.5GZZQ       0.075403       0.015743       0.015371   \n",
       "\n",
       "index                     P.hsa05169.83  P.hsa05169.79  P.hsa05169.103  \\\n",
       "index                                                                    \n",
       "GTEX.1117F.0226.SM.5GZZ7       0.034794       0.006898        0.021198   \n",
       "GTEX.111CU.1826.SM.5GZYN       0.035066       0.006416        0.023746   \n",
       "GTEX.111FC.0226.SM.5N9B8       0.036635       0.006304        0.024136   \n",
       "GTEX.111VG.2326.SM.5N9BK       0.035140       0.007374        0.023549   \n",
       "GTEX.111YS.2426.SM.5GZZQ       0.034905       0.005952        0.023434   \n",
       "\n",
       "index                     P.hsa05169.104  P.hsa05169.125  \n",
       "index                                                     \n",
       "GTEX.1117F.0226.SM.5GZZ7        0.043688        0.177299  \n",
       "GTEX.111CU.1826.SM.5GZYN        0.041398        0.190706  \n",
       "GTEX.111FC.0226.SM.5N9B8        0.047301        0.173344  \n",
       "GTEX.111VG.2326.SM.5N9BK        0.044707        0.199739  \n",
       "GTEX.111YS.2426.SM.5GZZQ        0.042190        0.174180  \n",
       "\n",
       "[5 rows x 277 columns]"
      ]
     },
     "execution_count": 8,
     "metadata": {},
     "output_type": "execute_result"
    }
   ],
   "source": [
    "Y.head()"
   ]
  },
  {
   "cell_type": "code",
   "execution_count": 9,
   "metadata": {},
   "outputs": [
    {
     "data": {
      "text/plain": [
       "<AxesSubplot:xlabel='index'>"
      ]
     },
     "execution_count": 9,
     "metadata": {},
     "output_type": "execute_result"
    },
    {
     "data": {
      "image/png": "[encoded data removed]",
      "text/plain": [
       "<Figure size 432x288 with 1 Axes>"
      ]
     },
     "metadata": {},
     "output_type": "display_data"
    }
   ],
   "source": [
    "Y.iloc[:, 1].rolling(20).mean().plot(rot=90)"
   ]
  },
  {
   "cell_type": "code",
   "execution_count": 10,
   "metadata": {},
   "outputs": [],
   "source": [
    "from sklearn.model_selection import cross_validate, ShuffleSplit, train_test_split\n",
    "from sklearn.ensemble import RandomForestRegressor\n",
    "from sklearn.linear_model import MultiTaskLasso, RidgeCV\n",
    "from sklearn.gaussian_process import GaussianProcessRegressor\n",
    "from sklearn.gaussian_process import kernels\n",
    "import numpy as np"
   ]
  },
  {
   "cell_type": "code",
   "execution_count": 11,
   "metadata": {},
   "outputs": [],
   "source": [
    "import pandas as pd"
   ]
  },
  {
   "cell_type": "code",
   "execution_count": 12,
   "metadata": {},
   "outputs": [],
   "source": [
    "import sys\n",
    "import time"
   ]
  },
  {
   "cell_type": "code",
   "execution_count": 13,
   "metadata": {},
   "outputs": [],
   "source": [
    "sys.path.append(project_folder.as_posix)"
   ]
  },
  {
   "cell_type": "code",
   "execution_count": 14,
   "metadata": {},
   "outputs": [
    {
     "data": {
      "text/plain": [
       "PosixPath('/home/cloucera/projects/pyholird')"
      ]
     },
     "execution_count": 14,
     "metadata": {},
     "output_type": "execute_result"
    }
   ],
   "source": [
    "project_folder"
   ]
  },
  {
   "cell_type": "code",
   "execution_count": 15,
   "metadata": {},
   "outputs": [],
   "source": [
    "from joblib import Parallel, delayed\n",
    "from scipy.stats import pearsonr\n",
    "import joblib\n",
    "import stability as stab\n"
   ]
  },
  {
   "cell_type": "code",
   "execution_count": 16,
   "metadata": {},
   "outputs": [],
   "source": [
    "from sklearn.metrics import r2_score"
   ]
  },
  {
   "cell_type": "code",
   "execution_count": 17,
   "metadata": {},
   "outputs": [],
   "source": [
    "from sklearn.model_selection import cross_val_score, ShuffleSplit\n",
    "from sklearn.linear_model import MultiTaskLasso, RidgeCV\n",
    "from sklearn.pipeline import make_pipeline\n",
    "from sklearn.feature_selection import SelectFromModel\n",
    "from sklearn.cross_decomposition import PLSRegression"
   ]
  },
  {
   "cell_type": "code",
   "execution_count": 18,
   "metadata": {},
   "outputs": [],
   "source": [
    "n_pathways = Y.columns.str.split(\".\").str[1].nunique()"
   ]
  },
  {
   "cell_type": "code",
   "execution_count": 19,
   "metadata": {},
   "outputs": [],
   "source": [
    "def compute_shap_fs(relevances, q=0.95, by_circuit=False):\n",
    "\n",
    "    by_circuit_frame = relevances.abs().apply(lambda x: x > np.quantile(x, q), axis=1)\n",
    "\n",
    "    if by_circuit:\n",
    "        res = by_circuit_frame\n",
    "    else:\n",
    "        res = by_circuit_frame.any().values\n",
    "\n",
    "    return res\n"
   ]
  },
  {
   "cell_type": "code",
   "execution_count": 20,
   "metadata": {},
   "outputs": [],
   "source": [
    "\n",
    "def compute_shap_values(estimator, background, new, approximate=True, check_additivity=False):\n",
    "    explainer = shap.GPUTreeExplainer(estimator, background)\n",
    "    shap_values = np.array(explainer.shap_values(new))    \n",
    "\n",
    "    return shap_values"
   ]
  },
  {
   "cell_type": "code",
   "execution_count": 21,
   "metadata": {},
   "outputs": [],
   "source": [
    "def compute_shap_relevance(shap_values, X, Y):\n",
    "\n",
    "    feature_names = X.columns\n",
    "    task_names = Y.columns\n",
    "\n",
    "    n_features = len(feature_names)\n",
    "    n_tasks = len(task_names)\n",
    "    \n",
    "    c = lambda x, y: np.sign(np.diag(matcorr(x, y)))\n",
    "\n",
    "    corr_sign = lambda x, y: np.sign(pearsonr(x, y)[0])\n",
    "    signs = Parallel(n_jobs=-1)(\n",
    "        delayed(c)(X.values, shap_values[y_col, :, :])\n",
    "        for y_col in range(n_tasks)\n",
    "    )\n",
    "\n",
    "    signs = np.array(signs).reshape((n_tasks, n_features), order=\"F\")\n",
    "    signs = pd.DataFrame(signs, index=Y.columns, columns=X.columns)\n",
    "\n",
    "    #shap_values = np.array(shap_values)\n",
    "\n",
    "    shap_relevance = pd.DataFrame(\n",
    "        np.abs(shap_values).mean(axis=(1)), index=task_names, columns=feature_names\n",
    "    )\n",
    "\n",
    "    shap_relevance = shap_relevance * signs\n",
    "    shap_relevance = shap_relevance.fillna(0.0)\n",
    "\n",
    "    return shap_relevance"
   ]
  },
  {
   "cell_type": "code",
   "execution_count": 22,
   "metadata": {},
   "outputs": [],
   "source": [
    "\n",
    "def build_stability_dict(z_mat, errors, alpha=0.05):\n",
    "\n",
    "    support_matrix = np.squeeze(z_mat)\n",
    "    scores = np.squeeze(1 - errors)\n",
    "\n",
    "    stab_res = stab.confidenceIntervals(support_matrix, alpha=alpha)\n",
    "    stability = stab_res[\"stability\"]\n",
    "    stability_error = stab_res[\"stability\"] - stab_res[\"lower\"]\n",
    "\n",
    "    res = {\n",
    "        \"scores\": scores.tolist(),\n",
    "        \"stability_score\": stability,\n",
    "        \"stability_error\": stability_error,\n",
    "        \"alpha\": alpha,\n",
    "    }\n",
    "\n",
    "    return res"
   ]
  },
  {
   "cell_type": "code",
   "execution_count": 23,
   "metadata": {},
   "outputs": [],
   "source": [
    "from sklearn.base import clone\n",
    "\n",
    "def run_stability(model, X, Y, n_bootstraps=100, alpha=0.05, approximate=True, check_additivity=False):\n",
    "    n_samples, n_variables = X.shape\n",
    "    sample_fraction = 0.5\n",
    "    n_subsamples = np.floor(sample_fraction * n_samples).astype(int)\n",
    "\n",
    "    q = 0.95\n",
    "\n",
    "    # lambda: quantile selected\n",
    "\n",
    "    Z = np.zeros((n_bootstraps, n_variables), dtype=np.int8)\n",
    "    errors = np.zeros(n_bootstraps)\n",
    "\n",
    "    stability_cv = ShuffleSplit(\n",
    "        n_splits=n_bootstraps, train_size=n_subsamples, random_state=0\n",
    "    )\n",
    "\n",
    "    def stab_i(model, X, Y, n_split, split, q=0.95):\n",
    "        print(n_split)\n",
    "        train, test = split\n",
    "        X_train = X.iloc[train, :]\n",
    "        Y_train = Y.iloc[train, :]\n",
    "        X_test = X.iloc[test, :]\n",
    "        Y_test = Y.iloc[test, :]\n",
    "\n",
    "        X_learn, X_val, Y_learn, Y_val = train_test_split(\n",
    "            X_train, Y_train, test_size=0.3, random_state=n_split\n",
    "        )\n",
    "\n",
    "        model_ = clone(model)\n",
    "        model_.set_params(**{\"random_state\": n_split})\n",
    "        model_.fit(X_learn, Y_learn)\n",
    "\n",
    "        # FS using shap relevances\n",
    "        shap_values = compute_shap_values(\n",
    "            model_,\n",
    "            X_learn,\n",
    "            X_val\n",
    "        )\n",
    "        shap_relevances = compute_shap_relevance(shap_values, X_val, Y_val)\n",
    "        filt_i = compute_shap_fs(shap_relevances, q=q, by_circuit=False)\n",
    "\n",
    "        X_train_filt = X_train.loc[:, filt_i]\n",
    "        X_test_filt = X_test.loc[:, filt_i]\n",
    "\n",
    "        sub_model = clone(model_)\n",
    "        sub_model.set_params(**{\"max_depth\": 32})\n",
    "        # sub_model.set_params(max_features=1.0)\n",
    "        sub_model.fit(X_train_filt, Y_train)\n",
    "        Y_test_filt_preds = sub_model.predict(X_test_filt)\n",
    "\n",
    "        r2_loss = 1.0 - r2_score(Y_test, Y_test_filt_preds)\n",
    "        mo_r2_loss = 1.0 - r2_score(\n",
    "            Y_test, Y_test_filt_preds, multioutput=\"raw_values\"\n",
    "        )\n",
    "\n",
    "        return (filt_i, r2_loss, mo_r2_loss)\n",
    "    \n",
    "    stab_values = []\n",
    "    for n_split, split in enumerate(stability_cv.split(X, Y)):\n",
    "        stab_values.append(stab_i(model, X, Y, n_split, split))\n",
    "\n",
    "    for n_split, values in enumerate():\n",
    "        Z[n_split, :] = values[0]\n",
    "        errors[n_split] = values[1]\n",
    "\n",
    "    res = build_stability_dict(Z, errors, alpha)\n",
    "    print(res[\"stability_score\"])\n",
    "\n",
    "    return res"
   ]
  },
  {
   "cell_type": "code",
   "execution_count": 24,
   "metadata": {},
   "outputs": [],
   "source": [
    "cv = ShuffleSplit(\n",
    "        n_splits=100, train_size=0.5, random_state=0\n",
    "    )\n",
    "cv = list(cv.split(X, Y))\n",
    "cv = [(*train_test_split(cv[i][0], test_size=0.5), cv[i][1]) for i in range(100)]"
   ]
  },
  {
   "cell_type": "raw",
   "metadata": {},
   "source": [
    "%%time\n",
    "model = RandomForestRegressor(n_estimators=100, n_jobs=1, max_features=0.1, max_depth=8, random_state=42)\n",
    "r = run_stability(model, X, Y, n_bootstraps=2)"
   ]
  },
  {
   "cell_type": "code",
   "execution_count": 25,
   "metadata": {},
   "outputs": [],
   "source": [
    "from sklearn.ensemble import ExtraTreesRegressor, RandomForestRegressor\n",
    "import matplotlib.pyplot as plt\n",
    "plt.style.use(\"ggplot\")"
   ]
  },
  {
   "cell_type": "code",
   "execution_count": 26,
   "metadata": {},
   "outputs": [],
   "source": [
    "Z = (Y - Y.mean()) / Y.std()"
   ]
  },
  {
   "cell_type": "code",
   "execution_count": 27,
   "metadata": {},
   "outputs": [],
   "source": [
    "X_learn, X_val, y_learn, y_val = train_test_split(\n",
    "            X, Y, test_size=0.5, random_state=0\n",
    "        )"
   ]
  },
  {
   "cell_type": "code",
   "execution_count": 28,
   "metadata": {},
   "outputs": [],
   "source": [
    "X_train, _, y_train, _ = train_test_split(\n",
    "            X_learn, y_learn, test_size=0.3, random_state=0\n",
    "        )"
   ]
  },
  {
   "cell_type": "code",
   "execution_count": 29,
   "metadata": {},
   "outputs": [
    {
     "data": {
      "text/plain": [
       "[(5844, 683), (5844, 683), (5844, 277), (5844, 277)]"
      ]
     },
     "execution_count": 29,
     "metadata": {},
     "output_type": "execute_result"
    }
   ],
   "source": [
    "[x.shape for x in (X_learn, X_val, y_learn, y_val)]"
   ]
  },
  {
   "cell_type": "code",
   "execution_count": 30,
   "metadata": {},
   "outputs": [
    {
     "data": {
      "text/plain": [
       "8"
      ]
     },
     "execution_count": 30,
     "metadata": {},
     "output_type": "execute_result"
    }
   ],
   "source": [
    "32//4"
   ]
  },
  {
   "cell_type": "code",
   "execution_count": 31,
   "metadata": {},
   "outputs": [
    {
     "name": "stdout",
     "output_type": "stream",
     "text": [
      "CPU times: user 3min 57s, sys: 661 ms, total: 3min 57s\n",
      "Wall time: 9.11 s\n"
     ]
    },
    {
     "data": {
      "text/plain": [
       "0.7236411578216803"
      ]
     },
     "execution_count": 31,
     "metadata": {},
     "output_type": "execute_result"
    }
   ],
   "source": [
    "%%time\n",
    "model = RandomForestRegressor(n_estimators=100, n_jobs=-1, max_features=0.1, max_depth=8, random_state=1)\n",
    "model.fit(X_learn, y_learn)\n",
    "model.score(X_val, y_val)"
   ]
  },
  {
   "cell_type": "code",
   "execution_count": 32,
   "metadata": {},
   "outputs": [],
   "source": [
    "from sklearn.model_selection import cross_val_score\n",
    "from sklearn.preprocessing import MinMaxScaler"
   ]
  },
  {
   "cell_type": "code",
   "execution_count": 33,
   "metadata": {},
   "outputs": [
    {
     "data": {
      "image/png": "[encoded data removed]",
      "text/plain": [
       "<Figure size 432x288 with 1 Axes>"
      ]
     },
     "metadata": {},
     "output_type": "display_data"
    }
   ],
   "source": [
    "plt.plot(MinMaxScaler().fit_transform(model.feature_importances_.reshape(-1, 1)));"
   ]
  },
  {
   "cell_type": "code",
   "execution_count": 34,
   "metadata": {},
   "outputs": [
    {
     "data": {
      "text/plain": [
       "(41, 277)"
      ]
     },
     "execution_count": 34,
     "metadata": {},
     "output_type": "execute_result"
    }
   ],
   "source": [
    "n_pathways = Y.columns.str.split(\".\").str[1].nunique()\n",
    "n_pathways, Y.shape[1]"
   ]
  },
  {
   "cell_type": "code",
   "execution_count": 35,
   "metadata": {},
   "outputs": [
    {
     "data": {
      "text/plain": [
       "array([ 41,  51,  61,  71,  81,  91, 101, 111, 121, 131, 141, 151, 161,\n",
       "       171, 181, 191, 201, 211, 221, 231, 241, 251, 261, 271])"
      ]
     },
     "execution_count": 35,
     "metadata": {},
     "output_type": "execute_result"
    }
   ],
   "source": [
    "t = np.arange(n_pathways, Y.shape[1], 10)\n",
    "t"
   ]
  },
  {
   "cell_type": "raw",
   "metadata": {
    "jupyter": {
     "outputs_hidden": true
    }
   },
   "source": [
    "%%time\n",
    "from sklearn.cross_decomposition import PLSRegression\n",
    "x = [PLSRegression(x).fit(X_learn, y_learn).score(X_val, y_val) for x in t]\n",
    "plt.plot(t, x)"
   ]
  },
  {
   "cell_type": "raw",
   "metadata": {},
   "source": [
    "plt.plot(t, X.shape[0] * np.log((1-np.array(x))) + t*np.log(X.shape[0]))"
   ]
  },
  {
   "cell_type": "raw",
   "metadata": {},
   "source": [
    "bic =  X.shape[0] * np.log((1-np.array(x))) + t*np.log(X.shape[0])\n",
    "t0 = np.argmin(bic)\n",
    "t[t0]"
   ]
  },
  {
   "cell_type": "raw",
   "metadata": {},
   "source": [
    "model = PLSRegression(150).fit(X_learn, y_learn)\n",
    "model.score(X_val, y_val)"
   ]
  },
  {
   "cell_type": "raw",
   "metadata": {},
   "source": [
    "(model.coef_  > 0).sum() / model.coef_.size"
   ]
  },
  {
   "cell_type": "raw",
   "metadata": {},
   "source": [
    "sns.clustermap(model.coef_, cmap=\"BrBG\")"
   ]
  },
  {
   "cell_type": "raw",
   "metadata": {},
   "source": [
    "t = np.arange(1, 100)\n",
    "x = [ExtraTreesRegressor(n_estimators=x, n_jobs=-1, max_features=1.0, max_depth=8).fit(X_learn, y_learn).score(X_val, y_val) for x in t]\n",
    "plt.plot(t, x)"
   ]
  },
  {
   "cell_type": "code",
   "execution_count": 36,
   "metadata": {},
   "outputs": [],
   "source": [
    "from catboost import CatBoostRegressor\n",
    "nit=500\n",
    "verbose=50"
   ]
  },
  {
   "cell_type": "raw",
   "metadata": {},
   "source": [
    "%%time\n",
    "model = CatBoostRegressor(iterations=nit, \n",
    "                           task_type=\"CPU\",\n",
    "                                   eval_metric=\"MultiRMSE\",\n",
    "                           loss_function=\"MultiRMSE\")\n",
    "model.fit(X_learn, y_learn, eval_set=(X_val, y_val), early_stopping_rounds=10, verbose=verbose)"
   ]
  },
  {
   "cell_type": "code",
   "execution_count": 37,
   "metadata": {},
   "outputs": [
    {
     "name": "stdout",
     "output_type": "stream",
     "text": [
      "0.7236411578216803\n"
     ]
    }
   ],
   "source": [
    "print(model.score(X_val, y_val))"
   ]
  },
  {
   "cell_type": "code",
   "execution_count": 38,
   "metadata": {},
   "outputs": [
    {
     "data": {
      "text/plain": [
       "[<matplotlib.lines.Line2D at 0x7f162da2bf40>]"
      ]
     },
     "execution_count": 38,
     "metadata": {},
     "output_type": "execute_result"
    },
    {
     "data": {
      "image/png": "[encoded data removed]",
      "text/plain": [
       "<Figure size 432x288 with 1 Axes>"
      ]
     },
     "metadata": {},
     "output_type": "display_data"
    }
   ],
   "source": [
    "from sklearn.metrics import r2_score\n",
    "\n",
    "\n",
    "plt.plot(r2_score(y_val, model.predict(X_val), multioutput=\"raw_values\"))"
   ]
  },
  {
   "cell_type": "code",
   "execution_count": 39,
   "metadata": {},
   "outputs": [],
   "source": [
    "import shap\n",
    "import seaborn as sns"
   ]
  },
  {
   "cell_type": "raw",
   "metadata": {},
   "source": [
    "sns.heatmap(X_learn.corr(), cmap=\"seismic\")"
   ]
  },
  {
   "cell_type": "raw",
   "metadata": {},
   "source": [
    "def matcorr(O, P):    \n",
    "    (n, t) = O.shape      # n traces of t samples\n",
    "    (n_bis, m) = P.shape  # n predictions for each of m candidates\n",
    "\n",
    "    DO = O - (np.einsum(\"nt->t\", O, optimize='optimal') / np.double(n)) # compute O - mean(O)\n",
    "    DP = P - (np.einsum(\"nm->m\", P, optimize='optimal') / np.double(n)) # compute P - mean(P)\n",
    "\n",
    "    cov = np.einsum(\"nm,nt->mt\", DP, DO, optimize='optimal')\n",
    "\n",
    "    varP = np.einsum(\"nm,nm->m\", DP, DP, optimize='optimal')\n",
    "    varO = np.einsum(\"nt,nt->t\", DO, DO, optimize='optimal')\n",
    "    tmp = np.einsum(\"m,t->mt\", varP, varO, optimize='optimal')\n",
    "\n",
    "    return cov / np.sqrt(tmp)\n",
    "\n",
    "out_m = matcorr(X.values, Y.values)\n",
    "sns.set_palette(\"BrBG\")\n",
    "\n",
    "out = pd.DataFrame(out_m, columns=X.columns, index=Y.columns)\n",
    "fig, ax = plt.subplots(1, 1, figsize=(30, 10))\n",
    "sns.heatmap(out, ax=ax, vmin=-1, vmax=1, cmap=\"BrBG\")\n",
    "\n",
    "g = sns.clustermap(out, vmin=-1, vmax=1, cmap=\"BrBG\", figsize=(30, 10))"
   ]
  },
  {
   "cell_type": "raw",
   "metadata": {},
   "source": [
    "import os"
   ]
  },
  {
   "cell_type": "raw",
   "metadata": {},
   "source": [
    "os.environ[\"CUDA_VISIBLE_DEVICES\"] = \"0\""
   ]
  },
  {
   "cell_type": "raw",
   "metadata": {},
   "source": [
    "explainer = shap.GPUTreeExplainer(model, X_learn)"
   ]
  },
  {
   "cell_type": "raw",
   "metadata": {},
   "source": [
    "%%time\n",
    "shap_values = explainer.shap_values(X_val)"
   ]
  },
  {
   "cell_type": "raw",
   "metadata": {},
   "source": [
    "s1 = np.array(shap_values)"
   ]
  },
  {
   "cell_type": "raw",
   "metadata": {},
   "source": [
    "r = [r2_score(s0[i], s1[i]) for i in range(Y.shape[1])]"
   ]
  },
  {
   "cell_type": "raw",
   "metadata": {},
   "source": [
    "r = np.array(r)"
   ]
  },
  {
   "cell_type": "raw",
   "metadata": {},
   "source": [
    "fig, ax = plt.subplots(1, 1, figsize=(16/2, 9/2))\n",
    "ax.plot(r, label=\"shap\")\n",
    "#ax.twinx().plot(r2_score(y_val, model.predict(X_val), multioutput=\"raw_values\"), label=\"model\")"
   ]
  },
  {
   "cell_type": "raw",
   "metadata": {},
   "source": [
    "s.shape"
   ]
  },
  {
   "cell_type": "raw",
   "metadata": {},
   "source": [
    "y = s[0, :, :]\n",
    "y = pd.DataFrame(y, index=X_val.index, columns=X_val.columns)\n",
    "y.shape, X_val.shape"
   ]
  },
  {
   "cell_type": "raw",
   "metadata": {},
   "source": [
    "out_m = matcorr(X_val.values, y.values)\n",
    "sns.set_palette(\"BrBG\")\n",
    "\n",
    "out = pd.DataFrame(out_m, columns=X_val.columns, index=y.columns)\n",
    "fig, ax = plt.subplots(1, 1, figsize=(30, 10))\n",
    "sns.heatmap(out, ax=ax, vmin=-1, vmax=1, cmap=\"BrBG\")\n",
    "\n",
    "g = sns.clustermap(out, vmin=-1, vmax=1, cmap=\"BrBG\", figsize=(30, 10))"
   ]
  },
  {
   "cell_type": "raw",
   "metadata": {},
   "source": [
    "out_m = matcorr(X_val.values, y.values)\n",
    "sns.set_palette(\"BrBG\")\n",
    "\n",
    "out = pd.DataFrame(out_m, columns=X_val.columns, index=y.columns)\n",
    "fig, ax = plt.subplots(1, 1, figsize=(30, 10))\n",
    "sns.heatmap(out, ax=ax, vmin=-1, vmax=1, cmap=\"BrBG\")\n",
    "\n",
    "g = sns.clustermap(out, vmin=-1, vmax=1, cmap=\"BrBG\", figsize=(30, 10))"
   ]
  },
  {
   "cell_type": "raw",
   "metadata": {},
   "source": [
    "%%time\n",
    "q0 = 0.95\n",
    "shap_relevances0 = compute_shap_relevance(s0, X_val, y_val)\n",
    "filt_i0 = compute_shap_fs(shap_relevances0, q=q0, by_circuit=False)"
   ]
  },
  {
   "cell_type": "raw",
   "metadata": {},
   "source": [
    "%%time\n",
    "q = 0.95\n",
    "shap_relevances1 = compute_shap_relevance(s1, X_val, y_val)\n",
    "filt_i1 = compute_shap_fs(shap_relevances1, q=q, by_circuit=False)"
   ]
  },
  {
   "cell_type": "raw",
   "metadata": {},
   "source": [
    "(filt_i1 == filt_i0).sum() / X.shape[1]"
   ]
  },
  {
   "cell_type": "raw",
   "metadata": {},
   "source": [
    "from sklearn import metrics"
   ]
  },
  {
   "cell_type": "raw",
   "metadata": {},
   "source": [
    "metrics.accuracy_score(np.sign(shap_relevances0.values.ravel()), np.sign(shap_relevances1.values.ravel()))"
   ]
  },
  {
   "cell_type": "raw",
   "metadata": {},
   "source": [
    "from sklearn.metrics import classification_report\n",
    "print(classification_report(filt_i1, filt_i0))"
   ]
  },
  {
   "cell_type": "raw",
   "metadata": {},
   "source": [
    "pd.crosstab(filt_i0, filt_i1)"
   ]
  },
  {
   "cell_type": "raw",
   "metadata": {},
   "source": [
    "filt = compute_shap_fs(shap_relevances, q=q, by_circuit=True)"
   ]
  },
  {
   "cell_type": "raw",
   "metadata": {},
   "source": [
    "sns.clustermap(filt, metric=\"jaccard\")"
   ]
  },
  {
   "cell_type": "raw",
   "metadata": {},
   "source": [
    "filt_i.sum() / X.shape[1]"
   ]
  },
  {
   "cell_type": "raw",
   "metadata": {},
   "source": [
    "filt = compute_shap_fs(shap_relevances, q=q, by_circuit=True)"
   ]
  },
  {
   "cell_type": "raw",
   "metadata": {},
   "source": [
    "sns.clustermap(filt, metric=\"jaccard\")"
   ]
  },
  {
   "cell_type": "raw",
   "metadata": {},
   "source": [
    "filt_i.sum() / X.shape[1]"
   ]
  },
  {
   "cell_type": "raw",
   "metadata": {},
   "source": [
    "from scipy.signal import correlate2d"
   ]
  },
  {
   "cell_type": "raw",
   "metadata": {},
   "source": [
    "def corr2_coeff(A, B):\n",
    "    # Rowwise mean of input arrays & subtract from input arrays themeselves\n",
    "    A_mA = A - A.mean(1)[:, None]\n",
    "    B_mB = B - B.mean(1)[:, None]\n",
    "\n",
    "    # Sum of squares across rows\n",
    "    ssA = (A_mA**2).sum(1)\n",
    "    ssB = (B_mB**2).sum(1)\n",
    "\n",
    "    # Finally get corr coeff\n",
    "    return np.dot(A_mA, B_mB.T) / np.sqrt(np.dot(ssA[:, None],ssB[None]))"
   ]
  },
  {
   "cell_type": "raw",
   "metadata": {},
   "source": [
    "def matcorr_ci(X, Y, alpha=0.05, sign=True):\n",
    "    r = matcorr(X.values, Y.values)\n",
    "    r_z = np.arctanh(r)\n",
    "    se = 1/np.sqrt(X,shape[0]-3)\n",
    "    z = stats.norm.ppf(1-alpha/2)\n",
    "    lo_z, hi_z = r_z-z*se, r_z+z*se\n",
    "    lo, hi = np.tanh(lo_z), np.tanh(hi_z)\n",
    "    \n",
    "    not_contains_zero = ~((lo <= 0) & (hi >= 0)) * 1\n",
    "    s = np.sign(r) * not_contains_zero\n",
    "    return r, lo, hi, s"
   ]
  },
  {
   "cell_type": "raw",
   "metadata": {},
   "source": [
    "def compute_shap_sign(shap_values, samples_axis, features_axis, tasks_axis, features, tasks):\n",
    "    n_samples, n_features = features.shape\n",
    "    n_samples_tasks, n_tasks = tasks.shape\n",
    "    shap_shape = shap_values.shape\n",
    "    \n",
    "    assert(n_samples == n_samples_tasks)\n",
    "    assert(n_samples == shap_shape[samples_axis])\n",
    "    assert(n_features == shap_shape[features_axis])\n",
    "    assert(n_tasks == shap_shape[tasks_axis])\n",
    "    \n",
    "    for i in range(shap_shape[tasks_axis]):\n",
    "        x_shap_corr = np.sign(matcorr(features.values, tasks.values))\n",
    "        "
   ]
  },
  {
   "cell_type": "raw",
   "metadata": {},
   "source": [
    "shap_values_s100_depth08 = joblib.load(data_folder.joinpath(\"shap_values_s100_depth08.jbl\"))"
   ]
  },
  {
   "cell_type": "raw",
   "metadata": {},
   "source": [
    "s[1].shape"
   ]
  },
  {
   "cell_type": "raw",
   "metadata": {},
   "source": [
    "r = [r2_score(s[i], s2[i]) for i in range(Y.shape[1])]"
   ]
  },
  {
   "cell_type": "raw",
   "metadata": {},
   "source": [
    "r = np.array(r)"
   ]
  },
  {
   "cell_type": "raw",
   "metadata": {},
   "source": [
    "fig, ax = plt.subplots(1, 1, figsize=(16/2, 9/2))\n",
    "ax.plot(r, label=\"shap\")\n",
    "#ax.twinx().plot(r2_score(y_val, model.predict(X_val), multioutput=\"raw_values\"), label=\"model\")"
   ]
  },
  {
   "cell_type": "raw",
   "metadata": {},
   "source": [
    "plt.scatter(r2_score(y_val, model.predict(X_val), multioutput=\"raw_values\"), r)"
   ]
  },
  {
   "cell_type": "raw",
   "metadata": {},
   "source": [
    "s = np.array(shap_values)\n",
    "print(s.shape, s.any())"
   ]
  },
  {
   "cell_type": "raw",
   "metadata": {},
   "source": [
    "%%time\n",
    "cpu = shap.TreeExplainer(model, X_learn)"
   ]
  },
  {
   "cell_type": "raw",
   "metadata": {},
   "source": [
    "%%time\n",
    "scpu = cpu.shap_values(X_val)"
   ]
  },
  {
   "cell_type": "raw",
   "metadata": {},
   "source": [
    "rs = np.random.RandomState(15921)  # pylint: disable=no-member\n",
    "n = 5000\n",
    "m = 700\n",
    "my = 200\n",
    "datasets = {'regression': (rs.randn(n, m), rs.randn(n, my)),\n",
    "            'binary': (rs.randn(n, m), rs.binomial(1, 0.5, n)),\n",
    "            'multiclass': (rs.randn(n, m), rs.randint(0, 5, n))}\n",
    "\n",
    "X, y = datasets[\"regression\"]\n",
    "\n",
    "model = RandomForestRegressor(n_jobs=-1, max_depth=8)\n",
    "model.fit(X, y)\n",
    "gpu_ex = shap.GPUTreeExplainer(model, X)\n",
    "gpu_shap = gpu_ex.shap_values(X, check_additivity=True)\n",
    "s = np.array(gpu_shap)\n",
    "print(s.shape)\n",
    "print(s.any())\n"
   ]
  },
  {
   "cell_type": "code",
   "execution_count": 41,
   "metadata": {},
   "outputs": [],
   "source": [
    "n=3\n",
    "cv = ShuffleSplit(\n",
    "        n_splits=n, train_size=0.5, random_state=0\n",
    "    )\n",
    "cv = list(cv.split(X, Y))\n",
    "cv = [(*train_test_split(cv[i][0], test_size=0.5), cv[i][1]) for i in range(n)]"
   ]
  },
  {
   "cell_type": "code",
   "execution_count": 42,
   "metadata": {},
   "outputs": [],
   "source": [
    "model = RandomForestRegressor(n_estimators=100, n_jobs=-1, max_features=0.1, max_depth=8)"
   ]
  },
  {
   "cell_type": "code",
   "execution_count": 43,
   "metadata": {},
   "outputs": [],
   "source": [
    "train_models = [clone(model).set_params(random_state=i).fit(X.iloc[cv[i][0], :], Y.iloc[cv[i][0], :]) for i, split in enumerate(cv)] "
   ]
  },
  {
   "cell_type": "code",
   "execution_count": 44,
   "metadata": {},
   "outputs": [
    {
     "ename": "PicklingError",
     "evalue": "Could not pickle the task to send it to the workers.",
     "output_type": "error",
     "traceback": [
      "\u001b[0;31m-----------------------------------------------------------------------\u001b[0m",
      "\u001b[0;31m_RemoteTraceback\u001b[0m                      Traceback (most recent call last)",
      "\u001b[0;31m_RemoteTraceback\u001b[0m: \n\"\"\"\nTraceback (most recent call last):\n  File \"/home/cloucera/.conda/envs/panrd/lib/python3.8/site-packages/joblib/externals/loky/backend/queues.py\", line 153, in _feed\n    obj_ = dumps(obj, reducers=reducers)\n  File \"/home/cloucera/.conda/envs/panrd/lib/python3.8/site-packages/joblib/externals/loky/backend/reduction.py\", line 271, in dumps\n    dump(obj, buf, reducers=reducers, protocol=protocol)\n  File \"/home/cloucera/.conda/envs/panrd/lib/python3.8/site-packages/joblib/externals/loky/backend/reduction.py\", line 264, in dump\n    _LokyPickler(file, reducers=reducers, protocol=protocol).dump(obj)\n  File \"/home/cloucera/.conda/envs/panrd/lib/python3.8/site-packages/joblib/externals/cloudpickle/cloudpickle_fast.py\", line 563, in dump\n    return Pickler.dump(self, obj)\nTypeError: cannot pickle '_thread.lock' object\n\"\"\"",
      "\nThe above exception was the direct cause of the following exception:\n",
      "\u001b[0;31mPicklingError\u001b[0m                         Traceback (most recent call last)",
      "\u001b[0;32m<ipython-input-44-2e4bf5a2cac8>\u001b[0m in \u001b[0;36m<module>\u001b[0;34m\u001b[0m\n\u001b[1;32m     36\u001b[0m \u001b[0;34m\u001b[0m\u001b[0m\n\u001b[1;32m     37\u001b[0m \u001b[0;31m# Change loop\u001b[0m\u001b[0;34m\u001b[0m\u001b[0;34m\u001b[0m\u001b[0;34m\u001b[0m\u001b[0m\n\u001b[0;32m---> 38\u001b[0;31m filts = Parallel(n_jobs=N_GPU, backend=\"loky\")(\n\u001b[0m\u001b[1;32m     39\u001b[0m     delayed(runner)(i, cv[i], train_models[i], X, Y) for i in range(n))\n",
      "\u001b[0;32m~/.conda/envs/panrd/lib/python3.8/site-packages/joblib/parallel.py\u001b[0m in \u001b[0;36m__call__\u001b[0;34m(self, iterable)\u001b[0m\n\u001b[1;32m   1052\u001b[0m \u001b[0;34m\u001b[0m\u001b[0m\n\u001b[1;32m   1053\u001b[0m             \u001b[0;32mwith\u001b[0m \u001b[0mself\u001b[0m\u001b[0;34m.\u001b[0m\u001b[0m_backend\u001b[0m\u001b[0;34m.\u001b[0m\u001b[0mretrieval_context\u001b[0m\u001b[0;34m(\u001b[0m\u001b[0;34m)\u001b[0m\u001b[0;34m:\u001b[0m\u001b[0;34m\u001b[0m\u001b[0;34m\u001b[0m\u001b[0m\n\u001b[0;32m-> 1054\u001b[0;31m                 \u001b[0mself\u001b[0m\u001b[0;34m.\u001b[0m\u001b[0mretrieve\u001b[0m\u001b[0;34m(\u001b[0m\u001b[0;34m)\u001b[0m\u001b[0;34m\u001b[0m\u001b[0;34m\u001b[0m\u001b[0m\n\u001b[0m\u001b[1;32m   1055\u001b[0m             \u001b[0;31m# Make sure that we get a last message telling us we are done\u001b[0m\u001b[0;34m\u001b[0m\u001b[0;34m\u001b[0m\u001b[0;34m\u001b[0m\u001b[0m\n\u001b[1;32m   1056\u001b[0m             \u001b[0melapsed_time\u001b[0m \u001b[0;34m=\u001b[0m \u001b[0mtime\u001b[0m\u001b[0;34m.\u001b[0m\u001b[0mtime\u001b[0m\u001b[0;34m(\u001b[0m\u001b[0;34m)\u001b[0m \u001b[0;34m-\u001b[0m \u001b[0mself\u001b[0m\u001b[0;34m.\u001b[0m\u001b[0m_start_time\u001b[0m\u001b[0;34m\u001b[0m\u001b[0;34m\u001b[0m\u001b[0m\n",
      "\u001b[0;32m~/.conda/envs/panrd/lib/python3.8/site-packages/joblib/parallel.py\u001b[0m in \u001b[0;36mretrieve\u001b[0;34m(self)\u001b[0m\n\u001b[1;32m    931\u001b[0m             \u001b[0;32mtry\u001b[0m\u001b[0;34m:\u001b[0m\u001b[0;34m\u001b[0m\u001b[0;34m\u001b[0m\u001b[0m\n\u001b[1;32m    932\u001b[0m                 \u001b[0;32mif\u001b[0m \u001b[0mgetattr\u001b[0m\u001b[0;34m(\u001b[0m\u001b[0mself\u001b[0m\u001b[0;34m.\u001b[0m\u001b[0m_backend\u001b[0m\u001b[0;34m,\u001b[0m \u001b[0;34m'supports_timeout'\u001b[0m\u001b[0;34m,\u001b[0m \u001b[0;32mFalse\u001b[0m\u001b[0;34m)\u001b[0m\u001b[0;34m:\u001b[0m\u001b[0;34m\u001b[0m\u001b[0;34m\u001b[0m\u001b[0m\n\u001b[0;32m--> 933\u001b[0;31m                     \u001b[0mself\u001b[0m\u001b[0;34m.\u001b[0m\u001b[0m_output\u001b[0m\u001b[0;34m.\u001b[0m\u001b[0mextend\u001b[0m\u001b[0;34m(\u001b[0m\u001b[0mjob\u001b[0m\u001b[0;34m.\u001b[0m\u001b[0mget\u001b[0m\u001b[0;34m(\u001b[0m\u001b[0mtimeout\u001b[0m\u001b[0;34m=\u001b[0m\u001b[0mself\u001b[0m\u001b[0;34m.\u001b[0m\u001b[0mtimeout\u001b[0m\u001b[0;34m)\u001b[0m\u001b[0;34m)\u001b[0m\u001b[0;34m\u001b[0m\u001b[0;34m\u001b[0m\u001b[0m\n\u001b[0m\u001b[1;32m    934\u001b[0m                 \u001b[0;32melse\u001b[0m\u001b[0;34m:\u001b[0m\u001b[0;34m\u001b[0m\u001b[0;34m\u001b[0m\u001b[0m\n\u001b[1;32m    935\u001b[0m                     \u001b[0mself\u001b[0m\u001b[0;34m.\u001b[0m\u001b[0m_output\u001b[0m\u001b[0;34m.\u001b[0m\u001b[0mextend\u001b[0m\u001b[0;34m(\u001b[0m\u001b[0mjob\u001b[0m\u001b[0;34m.\u001b[0m\u001b[0mget\u001b[0m\u001b[0;34m(\u001b[0m\u001b[0;34m)\u001b[0m\u001b[0;34m)\u001b[0m\u001b[0;34m\u001b[0m\u001b[0;34m\u001b[0m\u001b[0m\n",
      "\u001b[0;32m~/.conda/envs/panrd/lib/python3.8/site-packages/joblib/_parallel_backends.py\u001b[0m in \u001b[0;36mwrap_future_result\u001b[0;34m(future, timeout)\u001b[0m\n\u001b[1;32m    540\u001b[0m         AsyncResults.get from multiprocessing.\"\"\"\n\u001b[1;32m    541\u001b[0m         \u001b[0;32mtry\u001b[0m\u001b[0;34m:\u001b[0m\u001b[0;34m\u001b[0m\u001b[0;34m\u001b[0m\u001b[0m\n\u001b[0;32m--> 542\u001b[0;31m             \u001b[0;32mreturn\u001b[0m \u001b[0mfuture\u001b[0m\u001b[0;34m.\u001b[0m\u001b[0mresult\u001b[0m\u001b[0;34m(\u001b[0m\u001b[0mtimeout\u001b[0m\u001b[0;34m=\u001b[0m\u001b[0mtimeout\u001b[0m\u001b[0;34m)\u001b[0m\u001b[0;34m\u001b[0m\u001b[0;34m\u001b[0m\u001b[0m\n\u001b[0m\u001b[1;32m    543\u001b[0m         \u001b[0;32mexcept\u001b[0m \u001b[0mCfTimeoutError\u001b[0m \u001b[0;32mas\u001b[0m \u001b[0me\u001b[0m\u001b[0;34m:\u001b[0m\u001b[0;34m\u001b[0m\u001b[0;34m\u001b[0m\u001b[0m\n\u001b[1;32m    544\u001b[0m             \u001b[0;32mraise\u001b[0m \u001b[0mTimeoutError\u001b[0m \u001b[0;32mfrom\u001b[0m \u001b[0me\u001b[0m\u001b[0;34m\u001b[0m\u001b[0;34m\u001b[0m\u001b[0m\n",
      "\u001b[0;32m~/.conda/envs/panrd/lib/python3.8/concurrent/futures/_base.py\u001b[0m in \u001b[0;36mresult\u001b[0;34m(self, timeout)\u001b[0m\n\u001b[1;32m    437\u001b[0m                 \u001b[0;32mraise\u001b[0m \u001b[0mCancelledError\u001b[0m\u001b[0;34m(\u001b[0m\u001b[0;34m)\u001b[0m\u001b[0;34m\u001b[0m\u001b[0;34m\u001b[0m\u001b[0m\n\u001b[1;32m    438\u001b[0m             \u001b[0;32melif\u001b[0m \u001b[0mself\u001b[0m\u001b[0;34m.\u001b[0m\u001b[0m_state\u001b[0m \u001b[0;34m==\u001b[0m \u001b[0mFINISHED\u001b[0m\u001b[0;34m:\u001b[0m\u001b[0;34m\u001b[0m\u001b[0;34m\u001b[0m\u001b[0m\n\u001b[0;32m--> 439\u001b[0;31m                 \u001b[0;32mreturn\u001b[0m \u001b[0mself\u001b[0m\u001b[0;34m.\u001b[0m\u001b[0m__get_result\u001b[0m\u001b[0;34m(\u001b[0m\u001b[0;34m)\u001b[0m\u001b[0;34m\u001b[0m\u001b[0;34m\u001b[0m\u001b[0m\n\u001b[0m\u001b[1;32m    440\u001b[0m             \u001b[0;32melse\u001b[0m\u001b[0;34m:\u001b[0m\u001b[0;34m\u001b[0m\u001b[0;34m\u001b[0m\u001b[0m\n\u001b[1;32m    441\u001b[0m                 \u001b[0;32mraise\u001b[0m \u001b[0mTimeoutError\u001b[0m\u001b[0;34m(\u001b[0m\u001b[0;34m)\u001b[0m\u001b[0;34m\u001b[0m\u001b[0;34m\u001b[0m\u001b[0m\n",
      "\u001b[0;32m~/.conda/envs/panrd/lib/python3.8/concurrent/futures/_base.py\u001b[0m in \u001b[0;36m__get_result\u001b[0;34m(self)\u001b[0m\n\u001b[1;32m    386\u001b[0m     \u001b[0;32mdef\u001b[0m \u001b[0m__get_result\u001b[0m\u001b[0;34m(\u001b[0m\u001b[0mself\u001b[0m\u001b[0;34m)\u001b[0m\u001b[0;34m:\u001b[0m\u001b[0;34m\u001b[0m\u001b[0;34m\u001b[0m\u001b[0m\n\u001b[1;32m    387\u001b[0m         \u001b[0;32mif\u001b[0m \u001b[0mself\u001b[0m\u001b[0;34m.\u001b[0m\u001b[0m_exception\u001b[0m\u001b[0;34m:\u001b[0m\u001b[0;34m\u001b[0m\u001b[0;34m\u001b[0m\u001b[0m\n\u001b[0;32m--> 388\u001b[0;31m             \u001b[0;32mraise\u001b[0m \u001b[0mself\u001b[0m\u001b[0;34m.\u001b[0m\u001b[0m_exception\u001b[0m\u001b[0;34m\u001b[0m\u001b[0;34m\u001b[0m\u001b[0m\n\u001b[0m\u001b[1;32m    389\u001b[0m         \u001b[0;32melse\u001b[0m\u001b[0;34m:\u001b[0m\u001b[0;34m\u001b[0m\u001b[0;34m\u001b[0m\u001b[0m\n\u001b[1;32m    390\u001b[0m             \u001b[0;32mreturn\u001b[0m \u001b[0mself\u001b[0m\u001b[0;34m.\u001b[0m\u001b[0m_result\u001b[0m\u001b[0;34m\u001b[0m\u001b[0;34m\u001b[0m\u001b[0m\n",
      "\u001b[0;31mPicklingError\u001b[0m: Could not pickle the task to send it to the workers."
     ]
    }
   ],
   "source": [
    "from joblib import Parallel, delayed\n",
    "import queue\n",
    "import os\n",
    "\n",
    "# Define number of GPUs available\n",
    "N_GPU = 3\n",
    "\n",
    "# Put indices in queue\n",
    "q = queue.Queue(maxsize=N_GPU)\n",
    "for i in range(N_GPU):\n",
    "    q.put(i)\n",
    "\n",
    "def runner(i, split, model, x, y):\n",
    "    gpu = q.get()\n",
    "    os.environ[\"CUDA_VISIBLE_DEVICES\"] = str(gpu)\n",
    "    \n",
    "    X_learn = x.iloc[split[0], :]\n",
    "    Y_learn = y.iloc[split[0], :]\n",
    "    \n",
    "    X_val = x.iloc[split[1], :]\n",
    "    Y_val = y.iloc[split[1], :]\n",
    "    \n",
    "    shap_values = compute_shap_values(\n",
    "        model,\n",
    "        X_learn,\n",
    "        X_val\n",
    "    )\n",
    "    \n",
    "    shap_relevances = compute_shap_relevance(shap_values, X_val, Y_val)\n",
    "    filt_i = compute_shap_fs(shap_relevances, q=0.95, by_circuit=False)\n",
    "\n",
    "    # return gpu id to queue\n",
    "    q.put(gpu)\n",
    "    \n",
    "    return filt_i\n",
    "\n",
    "# Change loop\n",
    "filts = Parallel(n_jobs=N_GPU, backend=\"loky\")(\n",
    "    delayed(runner)(i, cv[i], train_models[i], X, Y) for i in range(n))"
   ]
  },
  {
   "cell_type": "code",
   "execution_count": 55,
   "metadata": {},
   "outputs": [
    {
     "ename": "BrokenProcessPool",
     "evalue": "A task has failed to un-serialize. Please ensure that the arguments of the function are all picklable.",
     "output_type": "error",
     "traceback": [
      "\u001b[0;31m-----------------------------------------------------------------------\u001b[0m",
      "\u001b[0;31m_RemoteTraceback\u001b[0m                      Traceback (most recent call last)",
      "\u001b[0;31m_RemoteTraceback\u001b[0m: \n\"\"\"\nTraceback (most recent call last):\n  File \"/home/cloucera/.conda/envs/panrd/lib/python3.8/pkgutil.py\", line 415, in get_importer\n    importer = sys.path_importer_cache[path_item]\nKeyError: <bound method PurePath.as_posix of PosixPath('/home/cloucera/projects/pyholird')>\n\nDuring handling of the above exception, another exception occurred:\n\nTraceback (most recent call last):\n  File \"/home/cloucera/.conda/envs/panrd/lib/python3.8/site-packages/joblib/externals/loky/process_executor.py\", line 404, in _process_worker\n    call_item = call_queue.get(block=True, timeout=timeout)\n  File \"/home/cloucera/.conda/envs/panrd/lib/python3.8/multiprocessing/queues.py\", line 116, in get\n    return _ForkingPickler.loads(res)\n  File \"/home/cloucera/.conda/envs/panrd/lib/python3.8/site-packages/joblib/externals/cloudpickle/cloudpickle.py\", line 562, in subimport\n    __import__(name)\n  File \"/home/cloucera/projects/pyholird/3pp/shap/shap/__init__.py\", line 12, in <module>\n    from ._explanation import Explanation, Cohorts\n  File \"/home/cloucera/projects/pyholird/3pp/shap/shap/_explanation.py\", line 9, in <module>\n    import sklearn\n  File \"/home/cloucera/.conda/envs/panrd/lib/python3.8/site-packages/sklearn/__init__.py\", line 82, in <module>\n    from .base import clone\n  File \"/home/cloucera/.conda/envs/panrd/lib/python3.8/site-packages/sklearn/base.py\", line 17, in <module>\n    from .utils import _IS_32BIT\n  File \"/home/cloucera/.conda/envs/panrd/lib/python3.8/site-packages/sklearn/utils/__init__.py\", line 23, in <module>\n    from .class_weight import compute_class_weight, compute_sample_weight\n  File \"/home/cloucera/.conda/envs/panrd/lib/python3.8/site-packages/sklearn/utils/class_weight.py\", line 7, in <module>\n    from .validation import _deprecate_positional_args\n  File \"/home/cloucera/.conda/envs/panrd/lib/python3.8/site-packages/sklearn/utils/validation.py\", line 26, in <module>\n    from .fixes import _object_dtype_isnan, parse_version\n  File \"/home/cloucera/.conda/envs/panrd/lib/python3.8/site-packages/sklearn/utils/fixes.py\", line 28, in <module>\n    from pkg_resources import parse_version  # type: ignore\n  File \"/home/cloucera/.conda/envs/panrd/lib/python3.8/site-packages/pkg_resources/__init__.py\", line 3268, in <module>\n    def _initialize_master_working_set():\n  File \"/home/cloucera/.conda/envs/panrd/lib/python3.8/site-packages/pkg_resources/__init__.py\", line 3251, in _call_aside\n    f(*args, **kwargs)\n  File \"/home/cloucera/.conda/envs/panrd/lib/python3.8/site-packages/pkg_resources/__init__.py\", line 3280, in _initialize_master_working_set\n    working_set = WorkingSet._build_master()\n  File \"/home/cloucera/.conda/envs/panrd/lib/python3.8/site-packages/pkg_resources/__init__.py\", line 573, in _build_master\n    ws = cls()\n  File \"/home/cloucera/.conda/envs/panrd/lib/python3.8/site-packages/pkg_resources/__init__.py\", line 566, in __init__\n    self.add_entry(entry)\n  File \"/home/cloucera/.conda/envs/panrd/lib/python3.8/site-packages/pkg_resources/__init__.py\", line 622, in add_entry\n    for dist in find_distributions(entry, True):\n  File \"/home/cloucera/.conda/envs/panrd/lib/python3.8/site-packages/pkg_resources/__init__.py\", line 1979, in find_distributions\n    importer = get_importer(path_item)\n  File \"/home/cloucera/.conda/envs/panrd/lib/python3.8/pkgutil.py\", line 419, in get_importer\n    importer = path_hook(path_item)\n  File \"<frozen zipimport>\", line 66, in __init__\n  File \"/home/cloucera/.conda/envs/panrd/lib/python3.8/os.py\", line 818, in fsdecode\n    filename = fspath(filename)  # Does type-checking of `filename`.\nTypeError: expected str, bytes or os.PathLike object, not method\n\"\"\"",
      "\nThe above exception was the direct cause of the following exception:\n",
      "\u001b[0;31mBrokenProcessPool\u001b[0m                     Traceback (most recent call last)",
      "\u001b[0;32m<ipython-input-55-d624d93e7add>\u001b[0m in \u001b[0;36m<module>\u001b[0;34m\u001b[0m\n\u001b[1;32m     43\u001b[0m \u001b[0;34m\u001b[0m\u001b[0m\n\u001b[1;32m     44\u001b[0m \u001b[0;31m# Change loop\u001b[0m\u001b[0;34m\u001b[0m\u001b[0;34m\u001b[0m\u001b[0;34m\u001b[0m\u001b[0m\n\u001b[0;32m---> 45\u001b[0;31m filts = Parallel(n_jobs=N_GPU)(\n\u001b[0m\u001b[1;32m     46\u001b[0m     delayed(runner)(i, gpu_lookup, cv[i], train_models[i], X, Y) for i in range(n))\n",
      "\u001b[0;32m~/.conda/envs/panrd/lib/python3.8/site-packages/joblib/parallel.py\u001b[0m in \u001b[0;36m__call__\u001b[0;34m(self, iterable)\u001b[0m\n\u001b[1;32m   1052\u001b[0m \u001b[0;34m\u001b[0m\u001b[0m\n\u001b[1;32m   1053\u001b[0m             \u001b[0;32mwith\u001b[0m \u001b[0mself\u001b[0m\u001b[0;34m.\u001b[0m\u001b[0m_backend\u001b[0m\u001b[0;34m.\u001b[0m\u001b[0mretrieval_context\u001b[0m\u001b[0;34m(\u001b[0m\u001b[0;34m)\u001b[0m\u001b[0;34m:\u001b[0m\u001b[0;34m\u001b[0m\u001b[0;34m\u001b[0m\u001b[0m\n\u001b[0;32m-> 1054\u001b[0;31m                 \u001b[0mself\u001b[0m\u001b[0;34m.\u001b[0m\u001b[0mretrieve\u001b[0m\u001b[0;34m(\u001b[0m\u001b[0;34m)\u001b[0m\u001b[0;34m\u001b[0m\u001b[0;34m\u001b[0m\u001b[0m\n\u001b[0m\u001b[1;32m   1055\u001b[0m             \u001b[0;31m# Make sure that we get a last message telling us we are done\u001b[0m\u001b[0;34m\u001b[0m\u001b[0;34m\u001b[0m\u001b[0;34m\u001b[0m\u001b[0m\n\u001b[1;32m   1056\u001b[0m             \u001b[0melapsed_time\u001b[0m \u001b[0;34m=\u001b[0m \u001b[0mtime\u001b[0m\u001b[0;34m.\u001b[0m\u001b[0mtime\u001b[0m\u001b[0;34m(\u001b[0m\u001b[0;34m)\u001b[0m \u001b[0;34m-\u001b[0m \u001b[0mself\u001b[0m\u001b[0;34m.\u001b[0m\u001b[0m_start_time\u001b[0m\u001b[0;34m\u001b[0m\u001b[0;34m\u001b[0m\u001b[0m\n",
      "\u001b[0;32m~/.conda/envs/panrd/lib/python3.8/site-packages/joblib/parallel.py\u001b[0m in \u001b[0;36mretrieve\u001b[0;34m(self)\u001b[0m\n\u001b[1;32m    931\u001b[0m             \u001b[0;32mtry\u001b[0m\u001b[0;34m:\u001b[0m\u001b[0;34m\u001b[0m\u001b[0;34m\u001b[0m\u001b[0m\n\u001b[1;32m    932\u001b[0m                 \u001b[0;32mif\u001b[0m \u001b[0mgetattr\u001b[0m\u001b[0;34m(\u001b[0m\u001b[0mself\u001b[0m\u001b[0;34m.\u001b[0m\u001b[0m_backend\u001b[0m\u001b[0;34m,\u001b[0m \u001b[0;34m'supports_timeout'\u001b[0m\u001b[0;34m,\u001b[0m \u001b[0;32mFalse\u001b[0m\u001b[0;34m)\u001b[0m\u001b[0;34m:\u001b[0m\u001b[0;34m\u001b[0m\u001b[0;34m\u001b[0m\u001b[0m\n\u001b[0;32m--> 933\u001b[0;31m                     \u001b[0mself\u001b[0m\u001b[0;34m.\u001b[0m\u001b[0m_output\u001b[0m\u001b[0;34m.\u001b[0m\u001b[0mextend\u001b[0m\u001b[0;34m(\u001b[0m\u001b[0mjob\u001b[0m\u001b[0;34m.\u001b[0m\u001b[0mget\u001b[0m\u001b[0;34m(\u001b[0m\u001b[0mtimeout\u001b[0m\u001b[0;34m=\u001b[0m\u001b[0mself\u001b[0m\u001b[0;34m.\u001b[0m\u001b[0mtimeout\u001b[0m\u001b[0;34m)\u001b[0m\u001b[0;34m)\u001b[0m\u001b[0;34m\u001b[0m\u001b[0;34m\u001b[0m\u001b[0m\n\u001b[0m\u001b[1;32m    934\u001b[0m                 \u001b[0;32melse\u001b[0m\u001b[0;34m:\u001b[0m\u001b[0;34m\u001b[0m\u001b[0;34m\u001b[0m\u001b[0m\n\u001b[1;32m    935\u001b[0m                     \u001b[0mself\u001b[0m\u001b[0;34m.\u001b[0m\u001b[0m_output\u001b[0m\u001b[0;34m.\u001b[0m\u001b[0mextend\u001b[0m\u001b[0;34m(\u001b[0m\u001b[0mjob\u001b[0m\u001b[0;34m.\u001b[0m\u001b[0mget\u001b[0m\u001b[0;34m(\u001b[0m\u001b[0;34m)\u001b[0m\u001b[0;34m)\u001b[0m\u001b[0;34m\u001b[0m\u001b[0;34m\u001b[0m\u001b[0m\n",
      "\u001b[0;32m~/.conda/envs/panrd/lib/python3.8/site-packages/joblib/_parallel_backends.py\u001b[0m in \u001b[0;36mwrap_future_result\u001b[0;34m(future, timeout)\u001b[0m\n\u001b[1;32m    540\u001b[0m         AsyncResults.get from multiprocessing.\"\"\"\n\u001b[1;32m    541\u001b[0m         \u001b[0;32mtry\u001b[0m\u001b[0;34m:\u001b[0m\u001b[0;34m\u001b[0m\u001b[0;34m\u001b[0m\u001b[0m\n\u001b[0;32m--> 542\u001b[0;31m             \u001b[0;32mreturn\u001b[0m \u001b[0mfuture\u001b[0m\u001b[0;34m.\u001b[0m\u001b[0mresult\u001b[0m\u001b[0;34m(\u001b[0m\u001b[0mtimeout\u001b[0m\u001b[0;34m=\u001b[0m\u001b[0mtimeout\u001b[0m\u001b[0;34m)\u001b[0m\u001b[0;34m\u001b[0m\u001b[0;34m\u001b[0m\u001b[0m\n\u001b[0m\u001b[1;32m    543\u001b[0m         \u001b[0;32mexcept\u001b[0m \u001b[0mCfTimeoutError\u001b[0m \u001b[0;32mas\u001b[0m \u001b[0me\u001b[0m\u001b[0;34m:\u001b[0m\u001b[0;34m\u001b[0m\u001b[0;34m\u001b[0m\u001b[0m\n\u001b[1;32m    544\u001b[0m             \u001b[0;32mraise\u001b[0m \u001b[0mTimeoutError\u001b[0m \u001b[0;32mfrom\u001b[0m \u001b[0me\u001b[0m\u001b[0;34m\u001b[0m\u001b[0;34m\u001b[0m\u001b[0m\n",
      "\u001b[0;32m~/.conda/envs/panrd/lib/python3.8/concurrent/futures/_base.py\u001b[0m in \u001b[0;36mresult\u001b[0;34m(self, timeout)\u001b[0m\n\u001b[1;32m    437\u001b[0m                 \u001b[0;32mraise\u001b[0m \u001b[0mCancelledError\u001b[0m\u001b[0;34m(\u001b[0m\u001b[0;34m)\u001b[0m\u001b[0;34m\u001b[0m\u001b[0;34m\u001b[0m\u001b[0m\n\u001b[1;32m    438\u001b[0m             \u001b[0;32melif\u001b[0m \u001b[0mself\u001b[0m\u001b[0;34m.\u001b[0m\u001b[0m_state\u001b[0m \u001b[0;34m==\u001b[0m \u001b[0mFINISHED\u001b[0m\u001b[0;34m:\u001b[0m\u001b[0;34m\u001b[0m\u001b[0;34m\u001b[0m\u001b[0m\n\u001b[0;32m--> 439\u001b[0;31m                 \u001b[0;32mreturn\u001b[0m \u001b[0mself\u001b[0m\u001b[0;34m.\u001b[0m\u001b[0m__get_result\u001b[0m\u001b[0;34m(\u001b[0m\u001b[0;34m)\u001b[0m\u001b[0;34m\u001b[0m\u001b[0;34m\u001b[0m\u001b[0m\n\u001b[0m\u001b[1;32m    440\u001b[0m             \u001b[0;32melse\u001b[0m\u001b[0;34m:\u001b[0m\u001b[0;34m\u001b[0m\u001b[0;34m\u001b[0m\u001b[0m\n\u001b[1;32m    441\u001b[0m                 \u001b[0;32mraise\u001b[0m \u001b[0mTimeoutError\u001b[0m\u001b[0;34m(\u001b[0m\u001b[0;34m)\u001b[0m\u001b[0;34m\u001b[0m\u001b[0;34m\u001b[0m\u001b[0m\n",
      "\u001b[0;32m~/.conda/envs/panrd/lib/python3.8/concurrent/futures/_base.py\u001b[0m in \u001b[0;36m__get_result\u001b[0;34m(self)\u001b[0m\n\u001b[1;32m    386\u001b[0m     \u001b[0;32mdef\u001b[0m \u001b[0m__get_result\u001b[0m\u001b[0;34m(\u001b[0m\u001b[0mself\u001b[0m\u001b[0;34m)\u001b[0m\u001b[0;34m:\u001b[0m\u001b[0;34m\u001b[0m\u001b[0;34m\u001b[0m\u001b[0m\n\u001b[1;32m    387\u001b[0m         \u001b[0;32mif\u001b[0m \u001b[0mself\u001b[0m\u001b[0;34m.\u001b[0m\u001b[0m_exception\u001b[0m\u001b[0;34m:\u001b[0m\u001b[0;34m\u001b[0m\u001b[0;34m\u001b[0m\u001b[0m\n\u001b[0;32m--> 388\u001b[0;31m             \u001b[0;32mraise\u001b[0m \u001b[0mself\u001b[0m\u001b[0;34m.\u001b[0m\u001b[0m_exception\u001b[0m\u001b[0;34m\u001b[0m\u001b[0;34m\u001b[0m\u001b[0m\n\u001b[0m\u001b[1;32m    389\u001b[0m         \u001b[0;32melse\u001b[0m\u001b[0;34m:\u001b[0m\u001b[0;34m\u001b[0m\u001b[0;34m\u001b[0m\u001b[0m\n\u001b[1;32m    390\u001b[0m             \u001b[0;32mreturn\u001b[0m \u001b[0mself\u001b[0m\u001b[0;34m.\u001b[0m\u001b[0m_result\u001b[0m\u001b[0;34m\u001b[0m\u001b[0;34m\u001b[0m\u001b[0m\n",
      "\u001b[0;31mBrokenProcessPool\u001b[0m: A task has failed to un-serialize. Please ensure that the arguments of the function are all picklable."
     ]
    }
   ],
   "source": [
    "import time\n",
    "import multiprocessing\n",
    "from joblib import Parallel, delayed\n",
    "\n",
    "def get_pid():\n",
    "    time.sleep(1)\n",
    "    return multiprocessing.current_process().pid\n",
    "\n",
    "def runner(i, gpu_lookup):\n",
    "    pid = get_pid()\n",
    "    gpu_id = gpu_lookup[pid]\n",
    "    print('task: {0} running on gpu: {1}'.format(i, gpu_id))\n",
    "\n",
    "N_GPU = 3\n",
    "pids = Parallel(n_jobs=N_GPU)(delayed(get_pid)() for i in range(N_GPU))\n",
    "assert len(set(pids)) == N_GPU\n",
    "gpu_lookup = {pid: i for i, pid in enumerate(pids)}\n",
    "\n",
    "\n",
    "def runner(i, gpu_lookup, split, model, x, y):\n",
    "    time.sleep(6)\n",
    "    pid = get_pid()\n",
    "    gpu_id = gpu_lookup[pid]\n",
    "    print(gpu_id)\n",
    "    #os.environ[\"CUDA_VISIBLE_DEVICES\"] = str(gpu_id)\n",
    "    \n",
    "    X_learn = x.iloc[split[0], :]\n",
    "    Y_learn = y.iloc[split[0], :]\n",
    "    \n",
    "    X_val = x.iloc[split[1], :]\n",
    "    Y_val = y.iloc[split[1], :]\n",
    "    \n",
    "    shap_values = compute_shap_values(\n",
    "        model,\n",
    "        X_learn,\n",
    "        X_val\n",
    "    )\n",
    "    \n",
    "    shap_relevances = compute_shap_relevance(shap_values, X_val, Y_val)\n",
    "    filt_i = compute_shap_fs(shap_relevances, q=0.95, by_circuit=False)\n",
    "\n",
    "    return filt_i\n",
    "\n",
    "# Change loop\n",
    "filts = Parallel(n_jobs=N_GPU)(\n",
    "    delayed(runner)(i, gpu_lookup, cv[i], train_models[i], X, Y) for i in range(n))"
   ]
  },
  {
   "cell_type": "code",
   "execution_count": null,
   "metadata": {},
   "outputs": [],
   "source": []
  }
 ],
 "metadata": {
  "kernelspec": {
   "display_name": "Python 3",
   "language": "python",
   "name": "python3"
  },
  "language_info": {
   "codemirror_mode": {
    "name": "ipython",
    "version": 3
   },
   "file_extension": ".py",
   "mimetype": "text/x-python",
   "name": "python",
   "nbconvert_exporter": "python",
   "pygments_lexer": "ipython3",
   "version": "3.8.6"
  }
 },
 "nbformat": 4,
 "nbformat_minor": 4
}
