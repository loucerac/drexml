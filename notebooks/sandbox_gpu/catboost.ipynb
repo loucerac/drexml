{
 "cells": [
  {
   "cell_type": "code",
   "execution_count": 1,
   "metadata": {},
   "outputs": [],
   "source": [
    "import joblib\n",
    "import dotenv\n",
    "import pathlib\n",
    "\n",
    "project_folder = pathlib.Path(dotenv.find_dotenv()).parent.absolute()\n",
    "data_folder = project_folder.joinpath(\"notebooks\", \"data\")"
   ]
  },
  {
   "cell_type": "code",
   "execution_count": 2,
   "metadata": {},
   "outputs": [],
   "source": [
    "X_fpath = data_folder.joinpath(\"features.pkl\")\n",
    "X = joblib.load(X_fpath)"
   ]
  },
  {
   "cell_type": "code",
   "execution_count": 3,
   "metadata": {},
   "outputs": [],
   "source": [
    "Y_fpath = data_folder.joinpath(\"target.pkl\")\n",
    "Y = joblib.load(Y_fpath)"
   ]
  },
  {
   "cell_type": "code",
   "execution_count": 4,
   "metadata": {},
   "outputs": [
    {
     "data": {
      "text/html": [
       "<div>\n",
       "<style scoped>\n",
       "    .dataframe tbody tr th:only-of-type {\n",
       "        vertical-align: middle;\n",
       "    }\n",
       "\n",
       "    .dataframe tbody tr th {\n",
       "        vertical-align: top;\n",
       "    }\n",
       "\n",
       "    .dataframe thead th {\n",
       "        text-align: right;\n",
       "    }\n",
       "</style>\n",
       "<table border=\"1\" class=\"dataframe\">\n",
       "  <thead>\n",
       "    <tr style=\"text-align: right;\">\n",
       "      <th></th>\n",
       "      <th>18</th>\n",
       "      <th>19</th>\n",
       "      <th>25</th>\n",
       "      <th>30</th>\n",
       "      <th>41</th>\n",
       "      <th>43</th>\n",
       "      <th>55</th>\n",
       "      <th>87</th>\n",
       "      <th>100</th>\n",
       "      <th>124</th>\n",
       "      <th>...</th>\n",
       "      <th>127833</th>\n",
       "      <th>134864</th>\n",
       "      <th>154807</th>\n",
       "      <th>162514</th>\n",
       "      <th>200959</th>\n",
       "      <th>203068</th>\n",
       "      <th>255738</th>\n",
       "      <th>338442</th>\n",
       "      <th>338557</th>\n",
       "      <th>548596</th>\n",
       "    </tr>\n",
       "    <tr>\n",
       "      <th>index</th>\n",
       "      <th></th>\n",
       "      <th></th>\n",
       "      <th></th>\n",
       "      <th></th>\n",
       "      <th></th>\n",
       "      <th></th>\n",
       "      <th></th>\n",
       "      <th></th>\n",
       "      <th></th>\n",
       "      <th></th>\n",
       "      <th></th>\n",
       "      <th></th>\n",
       "      <th></th>\n",
       "      <th></th>\n",
       "      <th></th>\n",
       "      <th></th>\n",
       "      <th></th>\n",
       "      <th></th>\n",
       "      <th></th>\n",
       "      <th></th>\n",
       "      <th></th>\n",
       "    </tr>\n",
       "  </thead>\n",
       "  <tbody>\n",
       "    <tr>\n",
       "      <th>GTEX.1117F.0226.SM.5GZZ7</th>\n",
       "      <td>0.317665</td>\n",
       "      <td>0.458580</td>\n",
       "      <td>0.475477</td>\n",
       "      <td>0.359000</td>\n",
       "      <td>0.189063</td>\n",
       "      <td>0.223048</td>\n",
       "      <td>0.153920</td>\n",
       "      <td>0.469224</td>\n",
       "      <td>0.317083</td>\n",
       "      <td>0.223048</td>\n",
       "      <td>...</td>\n",
       "      <td>0.124269</td>\n",
       "      <td>1.627636e-02</td>\n",
       "      <td>0.375524</td>\n",
       "      <td>0.248760</td>\n",
       "      <td>1.688435e-16</td>\n",
       "      <td>0.477527</td>\n",
       "      <td>0.133313</td>\n",
       "      <td>0.147872</td>\n",
       "      <td>0.143895</td>\n",
       "      <td>1.603941e-01</td>\n",
       "    </tr>\n",
       "    <tr>\n",
       "      <th>GTEX.111CU.1826.SM.5GZYN</th>\n",
       "      <td>0.310635</td>\n",
       "      <td>0.403279</td>\n",
       "      <td>0.450367</td>\n",
       "      <td>0.377898</td>\n",
       "      <td>0.202662</td>\n",
       "      <td>0.198975</td>\n",
       "      <td>0.210150</td>\n",
       "      <td>0.457888</td>\n",
       "      <td>0.357860</td>\n",
       "      <td>0.213907</td>\n",
       "      <td>...</td>\n",
       "      <td>0.132201</td>\n",
       "      <td>1.688435e-16</td>\n",
       "      <td>0.446102</td>\n",
       "      <td>0.220727</td>\n",
       "      <td>1.688435e-16</td>\n",
       "      <td>0.462783</td>\n",
       "      <td>0.045873</td>\n",
       "      <td>0.338529</td>\n",
       "      <td>0.281507</td>\n",
       "      <td>1.688435e-16</td>\n",
       "    </tr>\n",
       "    <tr>\n",
       "      <th>GTEX.111FC.0226.SM.5N9B8</th>\n",
       "      <td>0.273036</td>\n",
       "      <td>0.400844</td>\n",
       "      <td>0.439983</td>\n",
       "      <td>0.355321</td>\n",
       "      <td>0.243211</td>\n",
       "      <td>0.227091</td>\n",
       "      <td>0.118643</td>\n",
       "      <td>0.471758</td>\n",
       "      <td>0.343834</td>\n",
       "      <td>0.162724</td>\n",
       "      <td>...</td>\n",
       "      <td>0.167754</td>\n",
       "      <td>1.688435e-16</td>\n",
       "      <td>0.375780</td>\n",
       "      <td>0.241828</td>\n",
       "      <td>1.688435e-16</td>\n",
       "      <td>0.482021</td>\n",
       "      <td>0.079564</td>\n",
       "      <td>0.179598</td>\n",
       "      <td>0.160711</td>\n",
       "      <td>2.100090e-02</td>\n",
       "    </tr>\n",
       "    <tr>\n",
       "      <th>GTEX.111VG.2326.SM.5N9BK</th>\n",
       "      <td>0.304227</td>\n",
       "      <td>0.394599</td>\n",
       "      <td>0.441530</td>\n",
       "      <td>0.382837</td>\n",
       "      <td>0.224171</td>\n",
       "      <td>0.228116</td>\n",
       "      <td>0.161616</td>\n",
       "      <td>0.477043</td>\n",
       "      <td>0.338001</td>\n",
       "      <td>0.171134</td>\n",
       "      <td>...</td>\n",
       "      <td>0.135484</td>\n",
       "      <td>1.688435e-16</td>\n",
       "      <td>0.402339</td>\n",
       "      <td>0.287238</td>\n",
       "      <td>1.688435e-16</td>\n",
       "      <td>0.490011</td>\n",
       "      <td>0.169080</td>\n",
       "      <td>0.268850</td>\n",
       "      <td>0.250149</td>\n",
       "      <td>4.095755e-02</td>\n",
       "    </tr>\n",
       "    <tr>\n",
       "      <th>GTEX.111YS.2426.SM.5GZZQ</th>\n",
       "      <td>0.317121</td>\n",
       "      <td>0.469217</td>\n",
       "      <td>0.443515</td>\n",
       "      <td>0.370553</td>\n",
       "      <td>0.164537</td>\n",
       "      <td>0.166544</td>\n",
       "      <td>0.164537</td>\n",
       "      <td>0.457146</td>\n",
       "      <td>0.312981</td>\n",
       "      <td>0.188892</td>\n",
       "      <td>...</td>\n",
       "      <td>0.180401</td>\n",
       "      <td>1.688435e-16</td>\n",
       "      <td>0.425451</td>\n",
       "      <td>0.204232</td>\n",
       "      <td>1.688435e-16</td>\n",
       "      <td>0.463205</td>\n",
       "      <td>0.064560</td>\n",
       "      <td>0.250160</td>\n",
       "      <td>0.242333</td>\n",
       "      <td>1.743191e-02</td>\n",
       "    </tr>\n",
       "  </tbody>\n",
       "</table>\n",
       "<p>5 rows × 683 columns</p>\n",
       "</div>"
      ],
      "text/plain": [
       "                                18        19        25        30        41  \\\n",
       "index                                                                        \n",
       "GTEX.1117F.0226.SM.5GZZ7  0.317665  0.458580  0.475477  0.359000  0.189063   \n",
       "GTEX.111CU.1826.SM.5GZYN  0.310635  0.403279  0.450367  0.377898  0.202662   \n",
       "GTEX.111FC.0226.SM.5N9B8  0.273036  0.400844  0.439983  0.355321  0.243211   \n",
       "GTEX.111VG.2326.SM.5N9BK  0.304227  0.394599  0.441530  0.382837  0.224171   \n",
       "GTEX.111YS.2426.SM.5GZZQ  0.317121  0.469217  0.443515  0.370553  0.164537   \n",
       "\n",
       "                                43        55        87       100       124  \\\n",
       "index                                                                        \n",
       "GTEX.1117F.0226.SM.5GZZ7  0.223048  0.153920  0.469224  0.317083  0.223048   \n",
       "GTEX.111CU.1826.SM.5GZYN  0.198975  0.210150  0.457888  0.357860  0.213907   \n",
       "GTEX.111FC.0226.SM.5N9B8  0.227091  0.118643  0.471758  0.343834  0.162724   \n",
       "GTEX.111VG.2326.SM.5N9BK  0.228116  0.161616  0.477043  0.338001  0.171134   \n",
       "GTEX.111YS.2426.SM.5GZZQ  0.166544  0.164537  0.457146  0.312981  0.188892   \n",
       "\n",
       "                          ...    127833        134864    154807    162514  \\\n",
       "index                     ...                                               \n",
       "GTEX.1117F.0226.SM.5GZZ7  ...  0.124269  1.627636e-02  0.375524  0.248760   \n",
       "GTEX.111CU.1826.SM.5GZYN  ...  0.132201  1.688435e-16  0.446102  0.220727   \n",
       "GTEX.111FC.0226.SM.5N9B8  ...  0.167754  1.688435e-16  0.375780  0.241828   \n",
       "GTEX.111VG.2326.SM.5N9BK  ...  0.135484  1.688435e-16  0.402339  0.287238   \n",
       "GTEX.111YS.2426.SM.5GZZQ  ...  0.180401  1.688435e-16  0.425451  0.204232   \n",
       "\n",
       "                                200959    203068    255738    338442  \\\n",
       "index                                                                  \n",
       "GTEX.1117F.0226.SM.5GZZ7  1.688435e-16  0.477527  0.133313  0.147872   \n",
       "GTEX.111CU.1826.SM.5GZYN  1.688435e-16  0.462783  0.045873  0.338529   \n",
       "GTEX.111FC.0226.SM.5N9B8  1.688435e-16  0.482021  0.079564  0.179598   \n",
       "GTEX.111VG.2326.SM.5N9BK  1.688435e-16  0.490011  0.169080  0.268850   \n",
       "GTEX.111YS.2426.SM.5GZZQ  1.688435e-16  0.463205  0.064560  0.250160   \n",
       "\n",
       "                            338557        548596  \n",
       "index                                             \n",
       "GTEX.1117F.0226.SM.5GZZ7  0.143895  1.603941e-01  \n",
       "GTEX.111CU.1826.SM.5GZYN  0.281507  1.688435e-16  \n",
       "GTEX.111FC.0226.SM.5N9B8  0.160711  2.100090e-02  \n",
       "GTEX.111VG.2326.SM.5N9BK  0.250149  4.095755e-02  \n",
       "GTEX.111YS.2426.SM.5GZZQ  0.242333  1.743191e-02  \n",
       "\n",
       "[5 rows x 683 columns]"
      ]
     },
     "execution_count": 4,
     "metadata": {},
     "output_type": "execute_result"
    }
   ],
   "source": [
    "X.head()"
   ]
  },
  {
   "cell_type": "code",
   "execution_count": 5,
   "metadata": {},
   "outputs": [
    {
     "data": {
      "text/html": [
       "<div>\n",
       "<style scoped>\n",
       "    .dataframe tbody tr th:only-of-type {\n",
       "        vertical-align: middle;\n",
       "    }\n",
       "\n",
       "    .dataframe tbody tr th {\n",
       "        vertical-align: top;\n",
       "    }\n",
       "\n",
       "    .dataframe thead th {\n",
       "        text-align: right;\n",
       "    }\n",
       "</style>\n",
       "<table border=\"1\" class=\"dataframe\">\n",
       "  <thead>\n",
       "    <tr style=\"text-align: right;\">\n",
       "      <th>index</th>\n",
       "      <th>P.hsa04022.45</th>\n",
       "      <th>P.hsa04024.109</th>\n",
       "      <th>P.hsa04024.110</th>\n",
       "      <th>P.hsa04024.111</th>\n",
       "      <th>P.hsa04024.44.67</th>\n",
       "      <th>P.hsa04150.31</th>\n",
       "      <th>P.hsa04150.56</th>\n",
       "      <th>P.hsa04150.33</th>\n",
       "      <th>P.hsa04151.34</th>\n",
       "      <th>P.hsa04151.24</th>\n",
       "      <th>...</th>\n",
       "      <th>P.hsa04915.21</th>\n",
       "      <th>P.hsa04915.30</th>\n",
       "      <th>P.hsa04916.15</th>\n",
       "      <th>P.hsa04918.10</th>\n",
       "      <th>P.hsa04922.51</th>\n",
       "      <th>P.hsa04922.50</th>\n",
       "      <th>P.hsa04922.59</th>\n",
       "      <th>P.hsa04925.33</th>\n",
       "      <th>P.hsa04925.34</th>\n",
       "      <th>P.hsa04962.10</th>\n",
       "    </tr>\n",
       "    <tr>\n",
       "      <th>index</th>\n",
       "      <th></th>\n",
       "      <th></th>\n",
       "      <th></th>\n",
       "      <th></th>\n",
       "      <th></th>\n",
       "      <th></th>\n",
       "      <th></th>\n",
       "      <th></th>\n",
       "      <th></th>\n",
       "      <th></th>\n",
       "      <th></th>\n",
       "      <th></th>\n",
       "      <th></th>\n",
       "      <th></th>\n",
       "      <th></th>\n",
       "      <th></th>\n",
       "      <th></th>\n",
       "      <th></th>\n",
       "      <th></th>\n",
       "      <th></th>\n",
       "      <th></th>\n",
       "    </tr>\n",
       "  </thead>\n",
       "  <tbody>\n",
       "    <tr>\n",
       "      <th>GTEX.1117F.0226.SM.5GZZ7</th>\n",
       "      <td>0.087357</td>\n",
       "      <td>3.730543e-07</td>\n",
       "      <td>0.000003</td>\n",
       "      <td>0.000003</td>\n",
       "      <td>0.000229</td>\n",
       "      <td>7.401523e-08</td>\n",
       "      <td>1.428105e-08</td>\n",
       "      <td>1.640885e-08</td>\n",
       "      <td>0.002674</td>\n",
       "      <td>0.003113</td>\n",
       "      <td>...</td>\n",
       "      <td>2.545116e-08</td>\n",
       "      <td>0.000405</td>\n",
       "      <td>0.000677</td>\n",
       "      <td>0.000213</td>\n",
       "      <td>0.035375</td>\n",
       "      <td>0.042659</td>\n",
       "      <td>0.046566</td>\n",
       "      <td>1.839283e-02</td>\n",
       "      <td>0.115289</td>\n",
       "      <td>0.000000</td>\n",
       "    </tr>\n",
       "    <tr>\n",
       "      <th>GTEX.111CU.1826.SM.5GZYN</th>\n",
       "      <td>0.091121</td>\n",
       "      <td>1.983882e-07</td>\n",
       "      <td>0.000002</td>\n",
       "      <td>0.000002</td>\n",
       "      <td>0.000111</td>\n",
       "      <td>7.296563e-08</td>\n",
       "      <td>2.021472e-08</td>\n",
       "      <td>2.286448e-08</td>\n",
       "      <td>0.003043</td>\n",
       "      <td>0.003378</td>\n",
       "      <td>...</td>\n",
       "      <td>1.840547e-08</td>\n",
       "      <td>0.000386</td>\n",
       "      <td>0.000639</td>\n",
       "      <td>0.000000</td>\n",
       "      <td>0.035428</td>\n",
       "      <td>0.045868</td>\n",
       "      <td>0.042899</td>\n",
       "      <td>1.653444e-02</td>\n",
       "      <td>0.076173</td>\n",
       "      <td>0.000302</td>\n",
       "    </tr>\n",
       "    <tr>\n",
       "      <th>GTEX.111FC.0226.SM.5N9B8</th>\n",
       "      <td>0.115059</td>\n",
       "      <td>8.808699e-07</td>\n",
       "      <td>0.000002</td>\n",
       "      <td>0.000003</td>\n",
       "      <td>0.000196</td>\n",
       "      <td>7.947040e-08</td>\n",
       "      <td>1.461446e-08</td>\n",
       "      <td>1.695928e-08</td>\n",
       "      <td>0.002422</td>\n",
       "      <td>0.002936</td>\n",
       "      <td>...</td>\n",
       "      <td>1.845962e-08</td>\n",
       "      <td>0.000406</td>\n",
       "      <td>0.000795</td>\n",
       "      <td>0.000233</td>\n",
       "      <td>0.032531</td>\n",
       "      <td>0.036581</td>\n",
       "      <td>0.045283</td>\n",
       "      <td>1.100567e-16</td>\n",
       "      <td>0.023564</td>\n",
       "      <td>0.000010</td>\n",
       "    </tr>\n",
       "    <tr>\n",
       "      <th>GTEX.111VG.2326.SM.5N9BK</th>\n",
       "      <td>0.093319</td>\n",
       "      <td>8.493193e-07</td>\n",
       "      <td>0.000004</td>\n",
       "      <td>0.000003</td>\n",
       "      <td>0.000273</td>\n",
       "      <td>7.372298e-08</td>\n",
       "      <td>1.958142e-08</td>\n",
       "      <td>2.330365e-08</td>\n",
       "      <td>0.002727</td>\n",
       "      <td>0.003234</td>\n",
       "      <td>...</td>\n",
       "      <td>3.504110e-08</td>\n",
       "      <td>0.000265</td>\n",
       "      <td>0.000699</td>\n",
       "      <td>0.000167</td>\n",
       "      <td>0.030134</td>\n",
       "      <td>0.039915</td>\n",
       "      <td>0.038884</td>\n",
       "      <td>1.799916e-02</td>\n",
       "      <td>0.094514</td>\n",
       "      <td>0.000175</td>\n",
       "    </tr>\n",
       "    <tr>\n",
       "      <th>GTEX.111YS.2426.SM.5GZZQ</th>\n",
       "      <td>0.087933</td>\n",
       "      <td>7.196401e-07</td>\n",
       "      <td>0.000003</td>\n",
       "      <td>0.000004</td>\n",
       "      <td>0.000251</td>\n",
       "      <td>7.276775e-08</td>\n",
       "      <td>1.960031e-08</td>\n",
       "      <td>2.205129e-08</td>\n",
       "      <td>0.002775</td>\n",
       "      <td>0.003096</td>\n",
       "      <td>...</td>\n",
       "      <td>1.759070e-08</td>\n",
       "      <td>0.000000</td>\n",
       "      <td>0.000662</td>\n",
       "      <td>0.000489</td>\n",
       "      <td>0.026815</td>\n",
       "      <td>0.037412</td>\n",
       "      <td>0.035380</td>\n",
       "      <td>9.605669e-17</td>\n",
       "      <td>0.075112</td>\n",
       "      <td>0.000076</td>\n",
       "    </tr>\n",
       "  </tbody>\n",
       "</table>\n",
       "<p>5 rows × 80 columns</p>\n",
       "</div>"
      ],
      "text/plain": [
       "index                     P.hsa04022.45  P.hsa04024.109  P.hsa04024.110  \\\n",
       "index                                                                     \n",
       "GTEX.1117F.0226.SM.5GZZ7       0.087357    3.730543e-07        0.000003   \n",
       "GTEX.111CU.1826.SM.5GZYN       0.091121    1.983882e-07        0.000002   \n",
       "GTEX.111FC.0226.SM.5N9B8       0.115059    8.808699e-07        0.000002   \n",
       "GTEX.111VG.2326.SM.5N9BK       0.093319    8.493193e-07        0.000004   \n",
       "GTEX.111YS.2426.SM.5GZZQ       0.087933    7.196401e-07        0.000003   \n",
       "\n",
       "index                     P.hsa04024.111  P.hsa04024.44.67  P.hsa04150.31  \\\n",
       "index                                                                       \n",
       "GTEX.1117F.0226.SM.5GZZ7        0.000003          0.000229   7.401523e-08   \n",
       "GTEX.111CU.1826.SM.5GZYN        0.000002          0.000111   7.296563e-08   \n",
       "GTEX.111FC.0226.SM.5N9B8        0.000003          0.000196   7.947040e-08   \n",
       "GTEX.111VG.2326.SM.5N9BK        0.000003          0.000273   7.372298e-08   \n",
       "GTEX.111YS.2426.SM.5GZZQ        0.000004          0.000251   7.276775e-08   \n",
       "\n",
       "index                     P.hsa04150.56  P.hsa04150.33  P.hsa04151.34  \\\n",
       "index                                                                   \n",
       "GTEX.1117F.0226.SM.5GZZ7   1.428105e-08   1.640885e-08       0.002674   \n",
       "GTEX.111CU.1826.SM.5GZYN   2.021472e-08   2.286448e-08       0.003043   \n",
       "GTEX.111FC.0226.SM.5N9B8   1.461446e-08   1.695928e-08       0.002422   \n",
       "GTEX.111VG.2326.SM.5N9BK   1.958142e-08   2.330365e-08       0.002727   \n",
       "GTEX.111YS.2426.SM.5GZZQ   1.960031e-08   2.205129e-08       0.002775   \n",
       "\n",
       "index                     P.hsa04151.24  ...  P.hsa04915.21  P.hsa04915.30  \\\n",
       "index                                    ...                                 \n",
       "GTEX.1117F.0226.SM.5GZZ7       0.003113  ...   2.545116e-08       0.000405   \n",
       "GTEX.111CU.1826.SM.5GZYN       0.003378  ...   1.840547e-08       0.000386   \n",
       "GTEX.111FC.0226.SM.5N9B8       0.002936  ...   1.845962e-08       0.000406   \n",
       "GTEX.111VG.2326.SM.5N9BK       0.003234  ...   3.504110e-08       0.000265   \n",
       "GTEX.111YS.2426.SM.5GZZQ       0.003096  ...   1.759070e-08       0.000000   \n",
       "\n",
       "index                     P.hsa04916.15  P.hsa04918.10  P.hsa04922.51  \\\n",
       "index                                                                   \n",
       "GTEX.1117F.0226.SM.5GZZ7       0.000677       0.000213       0.035375   \n",
       "GTEX.111CU.1826.SM.5GZYN       0.000639       0.000000       0.035428   \n",
       "GTEX.111FC.0226.SM.5N9B8       0.000795       0.000233       0.032531   \n",
       "GTEX.111VG.2326.SM.5N9BK       0.000699       0.000167       0.030134   \n",
       "GTEX.111YS.2426.SM.5GZZQ       0.000662       0.000489       0.026815   \n",
       "\n",
       "index                     P.hsa04922.50  P.hsa04922.59  P.hsa04925.33  \\\n",
       "index                                                                   \n",
       "GTEX.1117F.0226.SM.5GZZ7       0.042659       0.046566   1.839283e-02   \n",
       "GTEX.111CU.1826.SM.5GZYN       0.045868       0.042899   1.653444e-02   \n",
       "GTEX.111FC.0226.SM.5N9B8       0.036581       0.045283   1.100567e-16   \n",
       "GTEX.111VG.2326.SM.5N9BK       0.039915       0.038884   1.799916e-02   \n",
       "GTEX.111YS.2426.SM.5GZZQ       0.037412       0.035380   9.605669e-17   \n",
       "\n",
       "index                     P.hsa04925.34  P.hsa04962.10  \n",
       "index                                                   \n",
       "GTEX.1117F.0226.SM.5GZZ7       0.115289       0.000000  \n",
       "GTEX.111CU.1826.SM.5GZYN       0.076173       0.000302  \n",
       "GTEX.111FC.0226.SM.5N9B8       0.023564       0.000010  \n",
       "GTEX.111VG.2326.SM.5N9BK       0.094514       0.000175  \n",
       "GTEX.111YS.2426.SM.5GZZQ       0.075112       0.000076  \n",
       "\n",
       "[5 rows x 80 columns]"
      ]
     },
     "execution_count": 5,
     "metadata": {},
     "output_type": "execute_result"
    }
   ],
   "source": [
    "Y.head()"
   ]
  },
  {
   "cell_type": "code",
   "execution_count": 6,
   "metadata": {},
   "outputs": [
    {
     "data": {
      "text/plain": [
       "<AxesSubplot:xlabel='index'>"
      ]
     },
     "execution_count": 6,
     "metadata": {},
     "output_type": "execute_result"
    },
    {
     "data": {
      "image/png": "[encoded data removed]",
      "text/plain": [
       "<Figure size 432x288 with 1 Axes>"
      ]
     },
     "metadata": {
      "needs_background": "light"
     },
     "output_type": "display_data"
    }
   ],
   "source": [
    "Y.iloc[:, 1].rolling(20).mean().plot(rot=90)"
   ]
  },
  {
   "cell_type": "code",
   "execution_count": 7,
   "metadata": {},
   "outputs": [],
   "source": [
    "from sklearn.model_selection import cross_validate, ShuffleSplit, train_test_split\n",
    "from sklearn.ensemble import RandomForestRegressor\n",
    "from sklearn.linear_model import MultiTaskLasso, RidgeCV\n",
    "from sklearn.gaussian_process import GaussianProcessRegressor\n",
    "from sklearn.gaussian_process import kernels\n",
    "import numpy as np"
   ]
  },
  {
   "cell_type": "code",
   "execution_count": 8,
   "metadata": {},
   "outputs": [],
   "source": [
    "import pandas as pd"
   ]
  },
  {
   "cell_type": "code",
   "execution_count": 9,
   "metadata": {},
   "outputs": [],
   "source": [
    "import catboost"
   ]
  },
  {
   "cell_type": "code",
   "execution_count": 10,
   "metadata": {},
   "outputs": [],
   "source": [
    "import shap"
   ]
  },
  {
   "cell_type": "code",
   "execution_count": 11,
   "metadata": {},
   "outputs": [],
   "source": [
    "import sys\n"
   ]
  },
  {
   "cell_type": "code",
   "execution_count": 12,
   "metadata": {},
   "outputs": [],
   "source": [
    "sys.path.append(project_folder.as_posix)"
   ]
  },
  {
   "cell_type": "code",
   "execution_count": 13,
   "metadata": {},
   "outputs": [
    {
     "data": {
      "text/plain": [
       "PosixPath('/home/cloucera/projects/pyholird')"
      ]
     },
     "execution_count": 13,
     "metadata": {},
     "output_type": "execute_result"
    }
   ],
   "source": [
    "project_folder"
   ]
  },
  {
   "cell_type": "code",
   "execution_count": 14,
   "metadata": {},
   "outputs": [],
   "source": [
    "def compute_shap_values(estimator, X, y=None, approximate=True, check_additivity=False):\n",
    "    explainer = shap.TreeExplainer(estimator)\n",
    "    shap_values = explainer.shap_values(\n",
    "        X, approximate=approximate, check_additivity=check_additivity\n",
    "    )\n",
    "\n",
    "    return shap_values\n",
    "\n",
    "def compute_shap_fs(relevances, q=0.95, by_circuit=False):\n",
    "\n",
    "    by_circuit_frame = relevances.abs().apply(lambda x: x > np.quantile(x, q), axis=1)\n",
    "\n",
    "    if by_circuit:\n",
    "        res = by_circuit_frame\n",
    "    else:\n",
    "        res = by_circuit_frame.any().values\n",
    "\n",
    "    return res\n",
    "\n",
    "\n",
    "def compute_shap_relevance(shap_values, X, Y):\n",
    "\n",
    "    feature_names = X.columns\n",
    "    task_names = Y.columns\n",
    "\n",
    "    n_features = len(feature_names)\n",
    "    n_tasks = len(task_names)\n",
    "\n",
    "    corr_sign = lambda x, y: np.sign(pearsonr(x, y)[0])\n",
    "    signs = Parallel(n_jobs=-1)(\n",
    "        delayed(corr_sign)(X.iloc[:, x_col], shap_values[:, y_col, x_col])\n",
    "        for x_col in range(n_features)\n",
    "        for y_col in range(n_tasks)\n",
    "    )\n",
    "\n",
    "    signs = np.array(signs).reshape((n_tasks, n_features), order=\"F\")\n",
    "    signs = pd.DataFrame(signs, index=Y.columns, columns=X.columns)\n",
    "\n",
    "    #shap_values = np.array(shap_values)\n",
    "\n",
    "    shap_relevance = pd.DataFrame(\n",
    "        np.abs(shap_values).mean(axis=(0)), index=task_names, columns=feature_names\n",
    "    )\n",
    "\n",
    "    shap_relevance = shap_relevance * signs\n",
    "    shap_relevance = shap_relevance.fillna(0.0)\n",
    "\n",
    "    return shap_relevance"
   ]
  },
  {
   "cell_type": "code",
   "execution_count": 14,
   "metadata": {},
   "outputs": [
    {
     "ename": "ModuleNotFoundError",
     "evalue": "No module named 'catboost'",
     "output_type": "error",
     "traceback": [
      "\u001b[0;31m---------------------------------------------------------------------------\u001b[0m",
      "\u001b[0;31mModuleNotFoundError\u001b[0m                       Traceback (most recent call last)",
      "\u001b[0;32m<ipython-input-14-700b6aea3729>\u001b[0m in \u001b[0;36m<module>\u001b[0;34m\u001b[0m\n\u001b[1;32m      3\u001b[0m \u001b[0;32mimport\u001b[0m \u001b[0mjoblib\u001b[0m\u001b[0;34m\u001b[0m\u001b[0;34m\u001b[0m\u001b[0m\n\u001b[1;32m      4\u001b[0m \u001b[0;32mimport\u001b[0m \u001b[0mstability\u001b[0m \u001b[0;32mas\u001b[0m \u001b[0mstab\u001b[0m\u001b[0;34m\u001b[0m\u001b[0;34m\u001b[0m\u001b[0m\n\u001b[0;32m----> 5\u001b[0;31m \u001b[0;32mfrom\u001b[0m \u001b[0mcatboost\u001b[0m \u001b[0;32mimport\u001b[0m \u001b[0mCatBoostRegressor\u001b[0m\u001b[0;34m\u001b[0m\u001b[0;34m\u001b[0m\u001b[0m\n\u001b[0m",
      "\u001b[0;31mModuleNotFoundError\u001b[0m: No module named 'catboost'"
     ]
    }
   ],
   "source": [
    "from joblib import Parallel, delayed\n",
    "from scipy.stats import pearsonr\n",
    "import joblib\n",
    "import stability as stab\n",
    "from catboost import CatBoostRegressor"
   ]
  },
  {
   "cell_type": "code",
   "execution_count": 15,
   "metadata": {},
   "outputs": [],
   "source": [
    "from sklearn.metrics import r2_score"
   ]
  },
  {
   "cell_type": "code",
   "execution_count": 16,
   "metadata": {},
   "outputs": [],
   "source": [
    "import time"
   ]
  },
  {
   "cell_type": "code",
   "execution_count": 32,
   "metadata": {},
   "outputs": [],
   "source": [
    "\n",
    "def run_stability(model, X, Y, \n",
    "                  n_bootstraps=100, nit=100, alpha=0.05, approximate=True, check_additivity=False,\n",
    "                  verbose=20):\n",
    "    n_samples, n_variables = X.shape\n",
    "    sample_fraction = 0.5\n",
    "    n_subsamples = np.floor(sample_fraction * n_samples).astype(int)\n",
    "\n",
    "    q = 0.95\n",
    "\n",
    "    # lambda: quantile selected\n",
    "\n",
    "    Z = np.zeros((n_bootstraps, n_variables), dtype=np.int8)\n",
    "    errors = np.zeros(n_bootstraps)\n",
    "\n",
    "    stability_cv = ShuffleSplit(\n",
    "        n_splits=n_bootstraps, train_size=n_subsamples, random_state=0\n",
    "    )\n",
    "\n",
    "    def stab_i(model, X, Y, n_split, split, q=0.95):\n",
    "        t = time.time()\n",
    "\n",
    "        train, test = split\n",
    "        X_train = X.iloc[train, :]\n",
    "        Y_train = Y.iloc[train, :]\n",
    "        X_test = X.iloc[test, :]\n",
    "        Y_test = Y.iloc[test, :]\n",
    "\n",
    "        X_learn, X_val, Y_learn, Y_val = train_test_split(\n",
    "            X_train, Y_train, test_size=0.3, random_state=n_split\n",
    "        )\n",
    "        \n",
    "        t_tmp = time.time()\n",
    "        print(\"fitting\")\n",
    "        model_ = CatBoostRegressor(iterations=nit, \n",
    "                           task_type=\"CPU\",\n",
    "                                   eval_metric=\"MultiRMSE\",\n",
    "                           loss_function=\"MultiRMSE\")\n",
    "        model_.fit(X_learn, Y_learn, eval_set=(X_val, Y_val), early_stopping_rounds=10, verbose=verbose)\n",
    "        print(f\"fit: {time.time() - t_tmp}\")\n",
    "        # FS using shap relevances\n",
    "        print(\"Computing SHAP values\")\n",
    "        shap_values = model_.get_feature_importance(data=catboost.Pool(X_val, Y_val),\n",
    "                       type=\"ShapValues\",\n",
    "                       prettified=False,\n",
    "                       thread_count=-1,\n",
    "                       verbose=verbose)\n",
    "        shap_values = shap_values[:,:,:-1]\n",
    "        shap_relevances = compute_shap_relevance(shap_values, X_val, Y_val)\n",
    "        filt_i = compute_shap_fs(shap_relevances, q=q, by_circuit=False)\n",
    "        print(f\"shap: {time.time() - t_tmp}\")\n",
    "\n",
    "        X_train_filt = X_train.loc[:, filt_i]\n",
    "        X_test_filt = X_test.loc[:, filt_i]\n",
    "        \n",
    "        t_tmp = time.time()\n",
    "        sub_model = CatBoostRegressor(iterations=nit, \n",
    "                           task_type=\"CPU\",\n",
    "                           loss_function=\"MultiRMSE\")\n",
    "        # sub_model.set_params(max_features=1.0)\n",
    "        sub_model.fit(X_train_filt, Y_train, eval_set=(X_test_filt, Y_test), \n",
    "                      early_stopping_rounds=10, verbose=verbose)\n",
    "        Y_test_filt_preds = sub_model.predict(X_test_filt)\n",
    "        print(f\"predict: {time.time() - t_tmp}\")\n",
    "\n",
    "        r2_loss = 1.0 - r2_score(Y_test, Y_test_filt_preds)\n",
    "        mo_r2_loss = 1.0 - r2_score(\n",
    "            Y_test, Y_test_filt_preds, multioutput=\"raw_values\"\n",
    "        )\n",
    "        \n",
    "        elapsed = time.time() - t\n",
    "        print(elapsed)\n",
    "        print(n_split, sum(filt_i), r2_score(Y_test, model_.predict(X_test)), r2_loss)\n",
    "        print()\n",
    "\n",
    "        return (filt_i, r2_loss, mo_r2_loss)\n",
    "\n",
    "    stab_values = Parallel(n_jobs=1)(\n",
    "        delayed(stab_i)(None, X, Y, n_split, split)\n",
    "        for n_split, split in enumerate(stability_cv.split(X, Y))\n",
    "    )\n",
    "\n",
    "    for n_split, values in enumerate(stab_values):\n",
    "        Z[n_split, :] = values[0]\n",
    "        errors[n_split] = values[1]\n",
    "\n",
    "    #res = build_stability_dict(Z, errors, alpha)\n",
    "    #print(res)\n",
    "\n",
    "    return Z, errors, alpha"
   ]
  },
  {
   "cell_type": "code",
   "execution_count": 34,
   "metadata": {
    "collapsed": true,
    "jupyter": {
     "outputs_hidden": true
    }
   },
   "outputs": [
    {
     "name": "stdout",
     "output_type": "stream",
     "text": [
      "fitting\n",
      "0:\tlearn: 1.2008833\ttest: 1.2049318\tbest: 1.2049318 (0)\ttotal: 11.6s\tremaining: 19m 12s\n",
      "10:\tlearn: 0.9016929\ttest: 0.9055846\tbest: 0.9055846 (10)\ttotal: 2m 11s\tremaining: 17m 41s\n",
      "20:\tlearn: 0.6801748\ttest: 0.6842041\tbest: 0.6842041 (20)\ttotal: 4m 11s\tremaining: 15m 44s\n",
      "30:\tlearn: 0.5171822\ttest: 0.5210120\tbest: 0.5210120 (30)\ttotal: 6m 10s\tremaining: 13m 44s\n",
      "40:\tlearn: 0.3970360\ttest: 0.4011240\tbest: 0.4011240 (40)\ttotal: 8m 7s\tremaining: 11m 41s\n",
      "50:\tlearn: 0.3098279\ttest: 0.3141645\tbest: 0.3141645 (50)\ttotal: 10m 4s\tremaining: 9m 41s\n",
      "60:\tlearn: 0.2469913\ttest: 0.2516900\tbest: 0.2516900 (60)\ttotal: 12m 2s\tremaining: 7m 41s\n",
      "70:\tlearn: 0.2022109\ttest: 0.2072798\tbest: 0.2072798 (70)\ttotal: 13m 58s\tremaining: 5m 42s\n",
      "80:\tlearn: 0.1707752\ttest: 0.1761995\tbest: 0.1761995 (80)\ttotal: 15m 57s\tremaining: 3m 44s\n",
      "90:\tlearn: 0.1484326\ttest: 0.1542091\tbest: 0.1542091 (90)\ttotal: 17m 56s\tremaining: 1m 46s\n",
      "99:\tlearn: 0.1341816\ttest: 0.1403341\tbest: 0.1403341 (99)\ttotal: 19m 44s\tremaining: 0us\n",
      "\n",
      "bestTest = 0.1403340824\n",
      "bestIteration = 99\n",
      "\n",
      "fit: 1186.0277662277222\n",
      "Computing SHAP values\n",
      "Processing trees...\n",
      "100/100 trees processed\tpassed time: 108us\tremaining time: 0us\n",
      "Processing documents...\n",
      "128/1754 documents processed\tpassed time: 145ms\tremaining time: 1.84s\n",
      "256/1754 documents processed\tpassed time: 281ms\tremaining time: 1.64s\n",
      "384/1754 documents processed\tpassed time: 414ms\tremaining time: 1.48s\n",
      "512/1754 documents processed\tpassed time: 548ms\tremaining time: 1.33s\n",
      "640/1754 documents processed\tpassed time: 686ms\tremaining time: 1.19s\n",
      "768/1754 documents processed\tpassed time: 822ms\tremaining time: 1.05s\n",
      "896/1754 documents processed\tpassed time: 958ms\tremaining time: 917ms\n",
      "1024/1754 documents processed\tpassed time: 1.1s\tremaining time: 783ms\n",
      "1152/1754 documents processed\tpassed time: 1.23s\tremaining time: 643ms\n",
      "1280/1754 documents processed\tpassed time: 1.36s\tremaining time: 505ms\n",
      "1408/1754 documents processed\tpassed time: 1.5s\tremaining time: 368ms\n",
      "1536/1754 documents processed\tpassed time: 1.63s\tremaining time: 232ms\n",
      "1664/1754 documents processed\tpassed time: 1.78s\tremaining time: 96.3ms\n",
      "1754/1754 documents processed\tpassed time: 1.88s\tremaining time: 0us\n",
      "shap: 2368.3855345249176\n",
      "0:\tlearn: 1.2022954\ttest: 1.2027825\tbest: 1.2027825 (0)\ttotal: 3.44s\tremaining: 5m 40s\n",
      "10:\tlearn: 0.9007273\ttest: 0.9015701\tbest: 0.9015701 (10)\ttotal: 36.6s\tremaining: 4m 56s\n",
      "20:\tlearn: 0.6778542\ttest: 0.6790011\tbest: 0.6790011 (20)\ttotal: 1m 10s\tremaining: 4m 25s\n",
      "30:\tlearn: 0.5137587\ttest: 0.5151732\tbest: 0.5151732 (30)\ttotal: 1m 44s\tremaining: 3m 51s\n",
      "40:\tlearn: 0.3934863\ttest: 0.3951809\tbest: 0.3951809 (40)\ttotal: 2m 17s\tremaining: 3m 17s\n",
      "50:\tlearn: 0.3057771\ttest: 0.3077711\tbest: 0.3077711 (50)\ttotal: 2m 51s\tremaining: 2m 44s\n",
      "60:\tlearn: 0.2424787\ttest: 0.2448196\tbest: 0.2448196 (60)\ttotal: 3m 24s\tremaining: 2m 10s\n",
      "70:\tlearn: 0.1974234\ttest: 0.2000884\tbest: 0.2000884 (70)\ttotal: 3m 58s\tremaining: 1m 37s\n",
      "80:\tlearn: 0.1662221\ttest: 0.1691559\tbest: 0.1691559 (80)\ttotal: 4m 32s\tremaining: 1m 3s\n",
      "90:\tlearn: 0.1445922\ttest: 0.1478043\tbest: 0.1478043 (90)\ttotal: 5m 8s\tremaining: 30.5s\n",
      "99:\tlearn: 0.1306134\ttest: 0.1340518\tbest: 0.1340518 (99)\ttotal: 5m 39s\tremaining: 0us\n",
      "\n",
      "bestTest = 0.1340518241\n",
      "bestIteration = 99\n",
      "\n",
      "predict: 341.36467576026917\n",
      "2710.1192429065704\n",
      "0 466 0.6043627067718691 0.37560619872466183\n",
      "\n"
     ]
    }
   ],
   "source": [
    "Z, errors, alpha = run_stability(None, X, Y, n_bootstraps=1, nit=100, verbose=10)"
   ]
  },
  {
   "cell_type": "code",
   "execution_count": 17,
   "metadata": {},
   "outputs": [],
   "source": [
    "from sklearn.feature_selection import SelectFdr"
   ]
  },
  {
   "cell_type": "code",
   "execution_count": 18,
   "metadata": {},
   "outputs": [
    {
     "name": "stderr",
     "output_type": "stream",
     "text": [
      "invalid value encountered in true_divide\n",
      "divide by zero encountered in true_divide\n",
      "invalid value encountered in true_divide\n",
      "invalid value encountered in true_divide\n",
      "invalid value encountered in true_divide\n",
      "invalid value encountered in true_divide\n",
      "divide by zero encountered in true_divide\n",
      "divide by zero encountered in true_divide\n",
      "invalid value encountered in true_divide\n",
      "invalid value encountered in true_divide\n",
      "invalid value encountered in true_divide\n",
      "invalid value encountered in true_divide\n",
      "invalid value encountered in true_divide\n",
      "invalid value encountered in true_divide\n",
      "invalid value encountered in true_divide\n",
      "invalid value encountered in true_divide\n",
      "invalid value encountered in true_divide\n",
      "invalid value encountered in true_divide\n",
      "invalid value encountered in true_divide\n",
      "invalid value encountered in true_divide\n",
      "divide by zero encountered in true_divide\n",
      "invalid value encountered in true_divide\n",
      "invalid value encountered in true_divide\n",
      "invalid value encountered in true_divide\n",
      "invalid value encountered in true_divide\n",
      "invalid value encountered in true_divide\n",
      "invalid value encountered in true_divide\n",
      "invalid value encountered in true_divide\n",
      "invalid value encountered in true_divide\n",
      "invalid value encountered in true_divide\n",
      "invalid value encountered in true_divide\n",
      "invalid value encountered in true_divide\n",
      "invalid value encountered in true_divide\n",
      "invalid value encountered in true_divide\n",
      "invalid value encountered in true_divide\n",
      "invalid value encountered in true_divide\n",
      "invalid value encountered in true_divide\n",
      "invalid value encountered in true_divide\n",
      "invalid value encountered in true_divide\n",
      "divide by zero encountered in true_divide\n",
      "invalid value encountered in true_divide\n",
      "invalid value encountered in true_divide\n",
      "divide by zero encountered in true_divide\n",
      "divide by zero encountered in true_divide\n",
      "divide by zero encountered in true_divide\n",
      "divide by zero encountered in true_divide\n",
      "divide by zero encountered in true_divide\n",
      "divide by zero encountered in true_divide\n",
      "divide by zero encountered in true_divide\n",
      "invalid value encountered in true_divide\n",
      "invalid value encountered in true_divide\n",
      "invalid value encountered in true_divide\n",
      "invalid value encountered in true_divide\n",
      "invalid value encountered in true_divide\n",
      "invalid value encountered in true_divide\n",
      "invalid value encountered in true_divide\n",
      "invalid value encountered in true_divide\n",
      "invalid value encountered in true_divide\n",
      "invalid value encountered in true_divide\n",
      "invalid value encountered in true_divide\n",
      "divide by zero encountered in true_divide\n",
      "divide by zero encountered in true_divide\n",
      "divide by zero encountered in true_divide\n",
      "invalid value encountered in true_divide\n",
      "invalid value encountered in true_divide\n",
      "invalid value encountered in true_divide\n",
      "invalid value encountered in true_divide\n",
      "invalid value encountered in true_divide\n",
      "invalid value encountered in true_divide\n",
      "invalid value encountered in true_divide\n",
      "divide by zero encountered in true_divide\n"
     ]
    }
   ],
   "source": [
    "sup = [SelectFdr().fit(X.apply(np.log1p), Y[col].apply(np.log1p)).get_support() for col in Y.columns]"
   ]
  },
  {
   "cell_type": "code",
   "execution_count": 138,
   "metadata": {},
   "outputs": [],
   "source": [
    "a = np.array(sup)\n",
    "a = pd.DataFrame(a, columns=X.columns, index=Y.columns)"
   ]
  },
  {
   "cell_type": "code",
   "execution_count": 139,
   "metadata": {},
   "outputs": [
    {
     "data": {
      "text/plain": [
       "(80, 683)"
      ]
     },
     "execution_count": 139,
     "metadata": {},
     "output_type": "execute_result"
    }
   ],
   "source": [
    "a.shape"
   ]
  },
  {
   "cell_type": "code",
   "execution_count": 140,
   "metadata": {},
   "outputs": [
    {
     "data": {
      "text/plain": [
       "(index\n",
       " P.hsa04022.45       False\n",
       " P.hsa04024.109       True\n",
       " P.hsa04024.110      False\n",
       " P.hsa04024.111      False\n",
       " P.hsa04024.44.67    False\n",
       "                     ...  \n",
       " P.hsa04922.50       False\n",
       " P.hsa04922.59       False\n",
       " P.hsa04925.33        True\n",
       " P.hsa04925.34        True\n",
       " P.hsa04962.10        True\n",
       " Length: 80, dtype: bool,\n",
       " (11688, 80))"
      ]
     },
     "execution_count": 140,
     "metadata": {},
     "output_type": "execute_result"
    }
   ],
   "source": [
    "a.any(axis=1), Y.shape"
   ]
  },
  {
   "cell_type": "code",
   "execution_count": 141,
   "metadata": {},
   "outputs": [
    {
     "data": {
      "text/plain": [
       "25"
      ]
     },
     "execution_count": 141,
     "metadata": {},
     "output_type": "execute_result"
    }
   ],
   "source": [
    "a.any(axis=1).sum()"
   ]
  },
  {
   "cell_type": "code",
   "execution_count": 142,
   "metadata": {},
   "outputs": [],
   "source": [
    "import seaborn as sns\n"
   ]
  },
  {
   "cell_type": "code",
   "execution_count": 143,
   "metadata": {},
   "outputs": [
    {
     "data": {
      "text/plain": [
       "<matplotlib.legend.Legend at 0x7fdc332f9490>"
      ]
     },
     "execution_count": 143,
     "metadata": {},
     "output_type": "execute_result"
    },
    {
     "data": {
      "image/png": "[encoded data removed]",
      "text/plain": [
       "<Figure size 432x288 with 2 Axes>"
      ]
     },
     "metadata": {},
     "output_type": "display_data"
    }
   ],
   "source": [
    "fig, ax = plt.subplots(1, 1)\n",
    "\n",
    "ax.plot(Y.std(), 'r.', label=\"std\", alpha=0.5)\n",
    "ax2 = ax.twinx()\n",
    "ax2.plot(a.sum(axis=1), 'bx', label=\"fs\", alpha=0.5)\n",
    "plt.legend()"
   ]
  },
  {
   "cell_type": "code",
   "execution_count": 144,
   "metadata": {},
   "outputs": [
    {
     "data": {
      "text/plain": [
       "<matplotlib.collections.PathCollection at 0x7fdc3309b190>"
      ]
     },
     "execution_count": 144,
     "metadata": {},
     "output_type": "execute_result"
    },
    {
     "data": {
      "image/png": "[encoded data removed]",
      "text/plain": [
       "<Figure size 432x288 with 1 Axes>"
      ]
     },
     "metadata": {},
     "output_type": "display_data"
    }
   ],
   "source": [
    "plt.scatter(a.sum(axis=1), Y.std())"
   ]
  },
  {
   "cell_type": "code",
   "execution_count": 35,
   "metadata": {},
   "outputs": [],
   "source": [
    "\n",
    "def build_stability_dict(z_mat, errors, alpha=0.05):\n",
    "\n",
    "    support_matrix = np.squeeze(z_mat)\n",
    "    scores = np.squeeze(1 - errors)\n",
    "\n",
    "    stab_res = stab.confidenceIntervals(support_matrix, alpha=alpha)\n",
    "    stability = stab_res[\"stability\"]\n",
    "    stability_error = stab_res[\"stability\"] - stab_res[\"lower\"]\n",
    "\n",
    "    res = {\n",
    "        \"scores\": scores.tolist(),\n",
    "        \"stability_score\": stability,\n",
    "        \"stability_error\": stability_error,\n",
    "        \"alpha\": alpha,\n",
    "    }\n",
    "\n",
    "    return res"
   ]
  },
  {
   "cell_type": "code",
   "execution_count": null,
   "metadata": {},
   "outputs": [],
   "source": [
    "res = build_stability_dict(rZ, errors, alpha)"
   ]
  },
  {
   "cell_type": "code",
   "execution_count": null,
   "metadata": {},
   "outputs": [],
   "source": [
    "res"
   ]
  },
  {
   "cell_type": "code",
   "execution_count": 18,
   "metadata": {},
   "outputs": [],
   "source": [
    "from sklearn.model_selection import cross_val_score, ShuffleSplit, cross_\n",
    "from sklearn.linear_model import MultiTaskLasso, RidgeCV\n",
    "from sklearn.pipeline import make_pipeline\n",
    "from sklearn.feature_selection import SelectFromModel\n",
    "from sklearn.cross_decomposition import PLSRegression"
   ]
  },
  {
   "cell_type": "code",
   "execution_count": 45,
   "metadata": {},
   "outputs": [],
   "source": [
    "n_pathways = Y.columns.str.split(\".\").str[1].nunique()"
   ]
  },
  {
   "cell_type": "code",
   "execution_count": 50,
   "metadata": {},
   "outputs": [
    {
     "data": {
      "text/plain": [
       "((11688, 80), 20)"
      ]
     },
     "execution_count": 50,
     "metadata": {},
     "output_type": "execute_result"
    }
   ],
   "source": [
    "Y.shape, n_pathways"
   ]
  },
  {
   "cell_type": "code",
   "execution_count": 57,
   "metadata": {},
   "outputs": [],
   "source": [
    "cv = ShuffleSplit(n_splits=2).split(X, Y)\n"
   ]
  },
  {
   "cell_type": "code",
   "execution_count": 58,
   "metadata": {},
   "outputs": [],
   "source": [
    "m = make_pipeline(SelectFromModel(MultiTaskLasso(1e-6)), RidgeCV())"
   ]
  },
  {
   "cell_type": "code",
   "execution_count": 145,
   "metadata": {},
   "outputs": [],
   "source": [
    "model = PLSRegression(n_components=n_pathways*2)\n",
    "cv = ShuffleSplit(n_splits=2).split(X, Y)\n",
    "\n",
    "s = cross_val_score(model, X, Y, cv=cv, n_jobs=1)\n"
   ]
  },
  {
   "cell_type": "code",
   "execution_count": 146,
   "metadata": {},
   "outputs": [
    {
     "data": {
      "text/plain": [
       "array([0.83729658, 0.84226927])"
      ]
     },
     "execution_count": 146,
     "metadata": {},
     "output_type": "execute_result"
    }
   ],
   "source": [
    "s"
   ]
  },
  {
   "cell_type": "code",
   "execution_count": 147,
   "metadata": {},
   "outputs": [
    {
     "data": {
      "text/plain": [
       "PLSRegression(n_components=40)"
      ]
     },
     "execution_count": 147,
     "metadata": {},
     "output_type": "execute_result"
    }
   ],
   "source": [
    "model.fit( X, Y )\n",
    "\n"
   ]
  },
  {
   "cell_type": "code",
   "execution_count": 155,
   "metadata": {},
   "outputs": [],
   "source": [
    "import shap"
   ]
  },
  {
   "cell_type": "code",
   "execution_count": 156,
   "metadata": {},
   "outputs": [],
   "source": [
    "y_intercept = model.y_mean_ - np.dot(model.x_mean_ , model.coef_)"
   ]
  },
  {
   "cell_type": "code",
   "execution_count": 157,
   "metadata": {},
   "outputs": [],
   "source": [
    "import matplotlib.pyplot as plt\n",
    "plt.style.use(\"ggplot\")"
   ]
  },
  {
   "cell_type": "code",
   "execution_count": 158,
   "metadata": {},
   "outputs": [
    {
     "data": {
      "text/plain": [
       "[<matplotlib.lines.Line2D at 0x7fe003fe38b0>]"
      ]
     },
     "execution_count": 158,
     "metadata": {},
     "output_type": "execute_result"
    },
    {
     "data": {
      "image/png": "[encoded data removed]",
      "text/plain": [
       "<Figure size 432x288 with 1 Axes>"
      ]
     },
     "metadata": {},
     "output_type": "display_data"
    }
   ],
   "source": [
    "plt.plot(y_intercept)"
   ]
  },
  {
   "cell_type": "code",
   "execution_count": 159,
   "metadata": {},
   "outputs": [],
   "source": [
    "explainer = shap.LinearExplainer((model.coef_.T, y_intercept), data=X)"
   ]
  },
  {
   "cell_type": "code",
   "execution_count": 160,
   "metadata": {},
   "outputs": [],
   "source": [
    "s = explainer.shap_values(X)"
   ]
  },
  {
   "cell_type": "code",
   "execution_count": 165,
   "metadata": {},
   "outputs": [
    {
     "data": {
      "text/plain": [
       "(80, 11688, 683)"
      ]
     },
     "execution_count": 165,
     "metadata": {},
     "output_type": "execute_result"
    }
   ],
   "source": [
    "s = np.array(s)\n"
   ]
  },
  {
   "cell_type": "code",
   "execution_count": 166,
   "metadata": {},
   "outputs": [],
   "source": [
    "s = np.moveaxis(s, 0, 1)"
   ]
  },
  {
   "cell_type": "code",
   "execution_count": 169,
   "metadata": {
    "collapsed": true,
    "jupyter": {
     "outputs_hidden": true
    }
   },
   "outputs": [
    {
     "ename": "NameError",
     "evalue": "name 'q' is not defined",
     "output_type": "error",
     "traceback": [
      "\u001b[0;31m---------------------------------------------------------------------------\u001b[0m",
      "\u001b[0;31mNameError\u001b[0m                                 Traceback (most recent call last)",
      "\u001b[0;32m<ipython-input-169-d66ec3f43b8e>\u001b[0m in \u001b[0;36m<module>\u001b[0;34m\u001b[0m\n\u001b[1;32m      1\u001b[0m \u001b[0mshap_relevances\u001b[0m \u001b[0;34m=\u001b[0m \u001b[0mcompute_shap_relevance\u001b[0m\u001b[0;34m(\u001b[0m\u001b[0ms\u001b[0m\u001b[0;34m,\u001b[0m \u001b[0mX\u001b[0m\u001b[0;34m,\u001b[0m \u001b[0mY\u001b[0m\u001b[0;34m)\u001b[0m\u001b[0;34m\u001b[0m\u001b[0;34m\u001b[0m\u001b[0m\n\u001b[0;32m----> 2\u001b[0;31m \u001b[0mfilt_i\u001b[0m \u001b[0;34m=\u001b[0m \u001b[0mcompute_shap_fs\u001b[0m\u001b[0;34m(\u001b[0m\u001b[0mshap_relevances\u001b[0m\u001b[0;34m,\u001b[0m \u001b[0mq\u001b[0m\u001b[0;34m=\u001b[0m\u001b[0mq\u001b[0m\u001b[0;34m,\u001b[0m \u001b[0mby_circuit\u001b[0m\u001b[0;34m=\u001b[0m\u001b[0;32mFalse\u001b[0m\u001b[0;34m)\u001b[0m\u001b[0;34m\u001b[0m\u001b[0;34m\u001b[0m\u001b[0m\n\u001b[0m",
      "\u001b[0;31mNameError\u001b[0m: name 'q' is not defined"
     ]
    }
   ],
   "source": [
    "shap_relevances = compute_shap_relevance(s, X, Y)\n"
   ]
  },
  {
   "cell_type": "code",
   "execution_count": 170,
   "metadata": {},
   "outputs": [],
   "source": [
    "filt_i = compute_shap_fs(shap_relevances, q=0.95, by_circuit=False)"
   ]
  },
  {
   "cell_type": "code",
   "execution_count": 172,
   "metadata": {},
   "outputs": [
    {
     "data": {
      "text/plain": [
       "432"
      ]
     },
     "execution_count": 172,
     "metadata": {},
     "output_type": "execute_result"
    }
   ],
   "source": [
    "filt_i.sum()"
   ]
  },
  {
   "cell_type": "code",
   "execution_count": 74,
   "metadata": {},
   "outputs": [],
   "source": [
    "from cuml.experimental.explainer import KernelExplainer as cuKE\n"
   ]
  },
  {
   "cell_type": "code",
   "execution_count": 89,
   "metadata": {
    "collapsed": true,
    "jupyter": {
     "outputs_hidden": true
    }
   },
   "outputs": [
    {
     "ename": "KeyboardInterrupt",
     "evalue": "",
     "output_type": "error",
     "traceback": [
      "\u001b[0;31m---------------------------------------------------------------------------\u001b[0m",
      "\u001b[0;31mKeyboardInterrupt\u001b[0m                         Traceback (most recent call last)",
      "\u001b[0;32m<ipython-input-89-6c3033a9f905>\u001b[0m in \u001b[0;36m<module>\u001b[0;34m\u001b[0m\n\u001b[1;32m      3\u001b[0m     data=X.sample(n=1000, axis=0))\n\u001b[1;32m      4\u001b[0m \u001b[0;34m\u001b[0m\u001b[0m\n\u001b[0;32m----> 5\u001b[0;31m \u001b[0mcu_shap_values\u001b[0m \u001b[0;34m=\u001b[0m \u001b[0mcu_explainer\u001b[0m\u001b[0;34m.\u001b[0m\u001b[0mshap_values\u001b[0m\u001b[0;34m(\u001b[0m\u001b[0mX\u001b[0m\u001b[0;34m.\u001b[0m\u001b[0msample\u001b[0m\u001b[0;34m(\u001b[0m\u001b[0mn\u001b[0m\u001b[0;34m=\u001b[0m\u001b[0;36m100\u001b[0m\u001b[0;34m,\u001b[0m \u001b[0maxis\u001b[0m\u001b[0;34m=\u001b[0m\u001b[0;36m0\u001b[0m\u001b[0;34m)\u001b[0m\u001b[0;34m)\u001b[0m\u001b[0;34m\u001b[0m\u001b[0;34m\u001b[0m\u001b[0m\n\u001b[0m",
      "\u001b[0;32mcuml/experimental/explainer/kernel_shap.pyx\u001b[0m in \u001b[0;36mcuml.experimental.explainer.kernel_shap.KernelExplainer.shap_values\u001b[0;34m()\u001b[0m\n",
      "\u001b[0;32mcuml/experimental/explainer/kernel_shap.pyx\u001b[0m in \u001b[0;36mcuml.experimental.explainer.kernel_shap.KernelExplainer._explain\u001b[0;34m()\u001b[0m\n",
      "\u001b[0;32mcuml/experimental/explainer/kernel_shap.pyx\u001b[0m in \u001b[0;36mcuml.experimental.explainer.kernel_shap.KernelExplainer._explain_single_observation\u001b[0;34m()\u001b[0m\n",
      "\u001b[0;32m~/projects/pyholird/.venv/lib/python3.8/site-packages/cuml/experimental/explainer/common.py\u001b[0m in \u001b[0;36mmodel_func_call\u001b[0;34m(X, model_func, gpu_model)\u001b[0m\n\u001b[1;32m    110\u001b[0m     \u001b[0;32melse\u001b[0m\u001b[0;34m:\u001b[0m\u001b[0;34m\u001b[0m\u001b[0;34m\u001b[0m\u001b[0m\n\u001b[1;32m    111\u001b[0m         \u001b[0;32mtry\u001b[0m\u001b[0;34m:\u001b[0m\u001b[0;34m\u001b[0m\u001b[0;34m\u001b[0m\u001b[0m\n\u001b[0;32m--> 112\u001b[0;31m             y = cp.array(model_func(\n\u001b[0m\u001b[1;32m    113\u001b[0m                 \u001b[0mcp\u001b[0m\u001b[0;34m.\u001b[0m\u001b[0masnumpy\u001b[0m\u001b[0;34m(\u001b[0m\u001b[0mX\u001b[0m\u001b[0;34m)\u001b[0m\u001b[0;34m\u001b[0m\u001b[0;34m\u001b[0m\u001b[0m\n\u001b[1;32m    114\u001b[0m             ))\n",
      "\u001b[0;32m<ipython-input-89-6c3033a9f905>\u001b[0m in \u001b[0;36m<lambda>\u001b[0;34m(x)\u001b[0m\n\u001b[1;32m      1\u001b[0m cu_explainer = cuKE(\n\u001b[0;32m----> 2\u001b[0;31m     \u001b[0mmodel\u001b[0m\u001b[0;34m=\u001b[0m\u001b[0;32mlambda\u001b[0m \u001b[0mx\u001b[0m\u001b[0;34m:\u001b[0m \u001b[0mmodel\u001b[0m\u001b[0;34m.\u001b[0m\u001b[0mpredict\u001b[0m\u001b[0;34m(\u001b[0m\u001b[0mx\u001b[0m\u001b[0;34m)\u001b[0m\u001b[0;34m[\u001b[0m\u001b[0;34m:\u001b[0m\u001b[0;34m,\u001b[0m \u001b[0;36m1\u001b[0m\u001b[0;34m]\u001b[0m\u001b[0;34m,\u001b[0m\u001b[0;34m\u001b[0m\u001b[0;34m\u001b[0m\u001b[0m\n\u001b[0m\u001b[1;32m      3\u001b[0m     data=X.sample(n=1000, axis=0))\n\u001b[1;32m      4\u001b[0m \u001b[0;34m\u001b[0m\u001b[0m\n\u001b[1;32m      5\u001b[0m \u001b[0mcu_shap_values\u001b[0m \u001b[0;34m=\u001b[0m \u001b[0mcu_explainer\u001b[0m\u001b[0;34m.\u001b[0m\u001b[0mshap_values\u001b[0m\u001b[0;34m(\u001b[0m\u001b[0mX\u001b[0m\u001b[0;34m.\u001b[0m\u001b[0msample\u001b[0m\u001b[0;34m(\u001b[0m\u001b[0mn\u001b[0m\u001b[0;34m=\u001b[0m\u001b[0;36m100\u001b[0m\u001b[0;34m,\u001b[0m \u001b[0maxis\u001b[0m\u001b[0;34m=\u001b[0m\u001b[0;36m0\u001b[0m\u001b[0;34m)\u001b[0m\u001b[0;34m)\u001b[0m\u001b[0;34m\u001b[0m\u001b[0;34m\u001b[0m\u001b[0m\n",
      "\u001b[0;32m~/projects/pyholird/.venv/lib/python3.8/site-packages/sklearn/cross_decomposition/_pls.py\u001b[0m in \u001b[0;36mpredict\u001b[0;34m(self, X, copy)\u001b[0m\n\u001b[1;32m    493\u001b[0m         \"\"\"\n\u001b[1;32m    494\u001b[0m         \u001b[0mcheck_is_fitted\u001b[0m\u001b[0;34m(\u001b[0m\u001b[0mself\u001b[0m\u001b[0;34m)\u001b[0m\u001b[0;34m\u001b[0m\u001b[0;34m\u001b[0m\u001b[0m\n\u001b[0;32m--> 495\u001b[0;31m         \u001b[0mX\u001b[0m \u001b[0;34m=\u001b[0m \u001b[0mcheck_array\u001b[0m\u001b[0;34m(\u001b[0m\u001b[0mX\u001b[0m\u001b[0;34m,\u001b[0m \u001b[0mcopy\u001b[0m\u001b[0;34m=\u001b[0m\u001b[0mcopy\u001b[0m\u001b[0;34m,\u001b[0m \u001b[0mdtype\u001b[0m\u001b[0;34m=\u001b[0m\u001b[0mFLOAT_DTYPES\u001b[0m\u001b[0;34m)\u001b[0m\u001b[0;34m\u001b[0m\u001b[0;34m\u001b[0m\u001b[0m\n\u001b[0m\u001b[1;32m    496\u001b[0m         \u001b[0;31m# Normalize\u001b[0m\u001b[0;34m\u001b[0m\u001b[0;34m\u001b[0m\u001b[0;34m\u001b[0m\u001b[0m\n\u001b[1;32m    497\u001b[0m         \u001b[0mX\u001b[0m \u001b[0;34m-=\u001b[0m \u001b[0mself\u001b[0m\u001b[0;34m.\u001b[0m\u001b[0mx_mean_\u001b[0m\u001b[0;34m\u001b[0m\u001b[0;34m\u001b[0m\u001b[0m\n",
      "\u001b[0;32m~/projects/pyholird/.venv/lib/python3.8/site-packages/sklearn/utils/validation.py\u001b[0m in \u001b[0;36minner_f\u001b[0;34m(*args, **kwargs)\u001b[0m\n\u001b[1;32m     70\u001b[0m                           FutureWarning)\n\u001b[1;32m     71\u001b[0m         \u001b[0mkwargs\u001b[0m\u001b[0;34m.\u001b[0m\u001b[0mupdate\u001b[0m\u001b[0;34m(\u001b[0m\u001b[0;34m{\u001b[0m\u001b[0mk\u001b[0m\u001b[0;34m:\u001b[0m \u001b[0marg\u001b[0m \u001b[0;32mfor\u001b[0m \u001b[0mk\u001b[0m\u001b[0;34m,\u001b[0m \u001b[0marg\u001b[0m \u001b[0;32min\u001b[0m \u001b[0mzip\u001b[0m\u001b[0;34m(\u001b[0m\u001b[0msig\u001b[0m\u001b[0;34m.\u001b[0m\u001b[0mparameters\u001b[0m\u001b[0;34m,\u001b[0m \u001b[0margs\u001b[0m\u001b[0;34m)\u001b[0m\u001b[0;34m}\u001b[0m\u001b[0;34m)\u001b[0m\u001b[0;34m\u001b[0m\u001b[0;34m\u001b[0m\u001b[0m\n\u001b[0;32m---> 72\u001b[0;31m         \u001b[0;32mreturn\u001b[0m \u001b[0mf\u001b[0m\u001b[0;34m(\u001b[0m\u001b[0;34m**\u001b[0m\u001b[0mkwargs\u001b[0m\u001b[0;34m)\u001b[0m\u001b[0;34m\u001b[0m\u001b[0;34m\u001b[0m\u001b[0m\n\u001b[0m\u001b[1;32m     73\u001b[0m     \u001b[0;32mreturn\u001b[0m \u001b[0minner_f\u001b[0m\u001b[0;34m\u001b[0m\u001b[0;34m\u001b[0m\u001b[0m\n\u001b[1;32m     74\u001b[0m \u001b[0;34m\u001b[0m\u001b[0m\n",
      "\u001b[0;32m~/projects/pyholird/.venv/lib/python3.8/site-packages/sklearn/utils/validation.py\u001b[0m in \u001b[0;36mcheck_array\u001b[0;34m(array, accept_sparse, accept_large_sparse, dtype, order, copy, force_all_finite, ensure_2d, allow_nd, ensure_min_samples, ensure_min_features, estimator)\u001b[0m\n\u001b[1;32m    662\u001b[0m \u001b[0;34m\u001b[0m\u001b[0m\n\u001b[1;32m    663\u001b[0m     \u001b[0;32mif\u001b[0m \u001b[0mcopy\u001b[0m \u001b[0;32mand\u001b[0m \u001b[0mnp\u001b[0m\u001b[0;34m.\u001b[0m\u001b[0mmay_share_memory\u001b[0m\u001b[0;34m(\u001b[0m\u001b[0marray\u001b[0m\u001b[0;34m,\u001b[0m \u001b[0marray_orig\u001b[0m\u001b[0;34m)\u001b[0m\u001b[0;34m:\u001b[0m\u001b[0;34m\u001b[0m\u001b[0;34m\u001b[0m\u001b[0m\n\u001b[0;32m--> 664\u001b[0;31m         \u001b[0marray\u001b[0m \u001b[0;34m=\u001b[0m \u001b[0mnp\u001b[0m\u001b[0;34m.\u001b[0m\u001b[0marray\u001b[0m\u001b[0;34m(\u001b[0m\u001b[0marray\u001b[0m\u001b[0;34m,\u001b[0m \u001b[0mdtype\u001b[0m\u001b[0;34m=\u001b[0m\u001b[0mdtype\u001b[0m\u001b[0;34m,\u001b[0m \u001b[0morder\u001b[0m\u001b[0;34m=\u001b[0m\u001b[0morder\u001b[0m\u001b[0;34m)\u001b[0m\u001b[0;34m\u001b[0m\u001b[0;34m\u001b[0m\u001b[0m\n\u001b[0m\u001b[1;32m    665\u001b[0m \u001b[0;34m\u001b[0m\u001b[0m\n\u001b[1;32m    666\u001b[0m     \u001b[0;32mreturn\u001b[0m \u001b[0marray\u001b[0m\u001b[0;34m\u001b[0m\u001b[0;34m\u001b[0m\u001b[0m\n",
      "\u001b[0;31mKeyboardInterrupt\u001b[0m: "
     ]
    }
   ],
   "source": [
    "cu_explainer = cuKE(\n",
    "    model=lambda x: model.predict(x)[:, 1],\n",
    "    data=X.sample(n=1000, axis=0))\n",
    "\n",
    "cu_shap_values = cu_explainer.shap_values(X.sample(n=100, axis=0))\n"
   ]
  },
  {
   "cell_type": "code",
   "execution_count": null,
   "metadata": {},
   "outputs": [],
   "source": [
    "len(cu_shap_values)"
   ]
  },
  {
   "cell_type": "code",
   "execution_count": null,
   "metadata": {},
   "outputs": [],
   "source": [
    "cu_shap_values"
   ]
  },
  {
   "cell_type": "code",
   "execution_count": 20,
   "metadata": {},
   "outputs": [],
   "source": [
    "import xgboost as xgb"
   ]
  },
  {
   "cell_type": "code",
   "execution_count": 21,
   "metadata": {},
   "outputs": [],
   "source": [
    "reg = xgb.XGBRegressor(tree_method='gpu_hist', gpu_id=0)"
   ]
  },
  {
   "cell_type": "code",
   "execution_count": null,
   "metadata": {},
   "outputs": [],
   "source": [
    "reg.fit()"
   ]
  },
  {
   "cell_type": "code",
   "execution_count": 40,
   "metadata": {},
   "outputs": [],
   "source": [
    "def compute_shap_relevance(shap_values, X, Y):\n",
    "    \n",
    "    Y = Y.to_frame()\n",
    "\n",
    "    feature_names = X.columns\n",
    "    task_names = Y.columns\n",
    "\n",
    "    n_features = len(feature_names)\n",
    "    n_tasks = len(task_names)\n",
    "\n",
    "    corr_sign = lambda x, y: np.sign(pearsonr(x, y)[0])\n",
    "    signs = Parallel(n_jobs=-1)(\n",
    "        delayed(corr_sign)(X.iloc[:, x_col], shap_values[:, x_col])\n",
    "        for x_col in range(n_features)\n",
    "        for y_col in range(n_tasks)\n",
    "    )\n",
    "\n",
    "    signs = np.array(signs).reshape((n_tasks, n_features), order=\"F\")\n",
    "    signs = pd.DataFrame(signs, index=Y.columns, columns=X.columns)\n",
    "\n",
    "    #shap_values = np.array(shap_values)\n",
    "\n",
    "    shap_relevance = pd.DataFrame(\n",
    "        np.abs(shap_values).mean(axis=(0)), index=task_names, columns=feature_names\n",
    "    )\n",
    "\n",
    "    shap_relevance = shap_relevance * signs\n",
    "    shap_relevance = shap_relevance.fillna(0.0)\n",
    "\n",
    "    return shap_relevance"
   ]
  },
  {
   "cell_type": "code",
   "execution_count": 79,
   "metadata": {},
   "outputs": [],
   "source": [
    "def compute_shap_fs(relevances, q=0.95, by_circuit=False):\n",
    "\n",
    "    by_circuit_frame = relevances.abs().apply(lambda x: x > np.quantile(x, q), axis=1)\n",
    "\n",
    "    if by_circuit:\n",
    "        res = by_circuit_frame\n",
    "    else:\n",
    "        res = by_circuit_frame.any().values\n",
    "\n",
    "    return res\n",
    "\n",
    "def compute_shap_relevance(shap_values, X, Y):\n",
    "    \n",
    "    Y = Y.to_frame()\n",
    "\n",
    "    feature_names = X.columns\n",
    "    task_names = Y.columns\n",
    "\n",
    "    n_features = len(feature_names)\n",
    "    n_tasks = len(task_names)\n",
    "\n",
    "    corr_sign = lambda x, y: np.sign(pearsonr(x, y)[0])\n",
    "    signs = Parallel(n_jobs=-1)(\n",
    "        delayed(corr_sign)(X.iloc[:, x_col], shap_values[:, x_col])\n",
    "        for x_col in range(n_features)\n",
    "        for y_col in range(n_tasks)\n",
    "    )\n",
    "\n",
    "    signs = np.array(signs).reshape((n_tasks, n_features), order=\"F\")\n",
    "    signs = pd.DataFrame(signs, index=Y.columns, columns=X.columns)\n",
    "\n",
    "    #shap_values = np.array(shap_values)\n",
    "\n",
    "\n",
    "    shap_relevance = pd.Series(np.abs(shap_values).mean(axis=(0))).to_frame().T\n",
    "    shap_relevance.index=task_names\n",
    "    shap_relevance.columns=feature_names\n",
    "    shap_relevance = shap_relevance * signs\n",
    "    shap_relevance = shap_relevance.fillna(0.0)\n",
    "\n",
    "    return shap_relevance\n"
   ]
  },
  {
   "cell_type": "code",
   "execution_count": 92,
   "metadata": {},
   "outputs": [],
   "source": [
    "\n",
    "def build_stability_dict(z_mat, errors, alpha=0.05):\n",
    "\n",
    "    support_matrix = np.squeeze(z_mat)\n",
    "    scores = np.squeeze(1 - errors)\n",
    "\n",
    "    stab_res = stab.confidenceIntervals(support_matrix, alpha=alpha)\n",
    "    stability = stab_res[\"stability\"]\n",
    "    stability_error = stab_res[\"stability\"] - stab_res[\"lower\"]\n",
    "\n",
    "    res = {\n",
    "        \"scores\": scores.tolist(),\n",
    "        \"stability_score\": stability,\n",
    "        \"stability_error\": stability_error,\n",
    "        \"alpha\": alpha,\n",
    "    }\n",
    "\n",
    "    return res"
   ]
  },
  {
   "cell_type": "code",
   "execution_count": 117,
   "metadata": {},
   "outputs": [],
   "source": [
    "from sklearn.base import clone\n",
    "\n",
    "def run_stability(model, X, Y, \n",
    "                  col=0,\n",
    "                  n_bootstraps=100, nit=100, alpha=0.05, approximate=True, check_additivity=False,\n",
    "                  verbose=20):\n",
    "    n_samples, n_variables = X.shape\n",
    "    sample_fraction = 0.5\n",
    "    n_subsamples = np.floor(sample_fraction * n_samples).astype(int)\n",
    "\n",
    "    q = 0.95\n",
    "\n",
    "    # lambda: quantile selected\n",
    "\n",
    "    Z = np.zeros((n_bootstraps, n_variables), dtype=np.int8)\n",
    "    errors = np.zeros(n_bootstraps)\n",
    "\n",
    "    stability_cv = ShuffleSplit(\n",
    "        n_splits=n_bootstraps, train_size=n_subsamples, random_state=0\n",
    "    )\n",
    "\n",
    "    def stab_i(model, X, Y, n_split, split, q=0.95):\n",
    "        t = time.time()\n",
    "\n",
    "        train, test = split\n",
    "        X_train = X.iloc[train, :]\n",
    "        y_train = Y.iloc[train, col]\n",
    "        X_test = X.iloc[test, :]\n",
    "        y_test = Y.iloc[test, col]\n",
    "\n",
    "        X_learn, X_val, y_learn, y_val = train_test_split(\n",
    "            X_train, y_train, test_size=0.3, random_state=n_split\n",
    "        )\n",
    "        \n",
    "        dlearn = xgb.DMatrix(X_learn, label=y_learn, feature_names=X.columns)\n",
    "        dval = xgb.DMatrix(X_val, label=y_val, feature_names=X.columns)\n",
    "        dtest0 = xgb.DMatrix(X_test, label=y_test, feature_names=X.columns)\n",
    "        watchlist  = [(dlearn, 'train'), (dval, 'eval')]\n",
    "        \n",
    "        t_tmp = time.time()\n",
    "        print(\"fitting\")\n",
    "        param = {\n",
    "            \"eta\": 0.05,\n",
    "            \"max_depth\": 10,\n",
    "            \"tree_method\": \"gpu_hist\",\n",
    "            \"gpu_id\": 1\n",
    "        }\n",
    "        model_ = xgb.train(param, dlearn, num_boost_round=nit, evals=watchlist, early_stopping_rounds=10,\n",
    "                          verbose_eval=False)\n",
    "        print(f\"fit time: {time.time() - t_tmp}\")\n",
    "        # FS using shap relevances\n",
    "        print(\"Computing SHAP values\")\n",
    "        t_tmp = time.time()\n",
    "        shap_values = model_.set_param({\"predictor\": \"gpu_predictor\"})\n",
    "        shap_values = model_.predict(dval, pred_contribs=True)\n",
    "        print(f\"shap time: {time.time() - t_tmp}\")\n",
    "        \n",
    "        joblib.dump(shap_values, \"shap_values.jbl\")\n",
    "        joblib.dump(X_val, \"x_val.jbl\")\n",
    "        joblib.dump(y_val, \"y_val.jbl\")\n",
    "        \n",
    "        t_tmp = time.time()\n",
    "        shap_values = shap_values[:,:-1]\n",
    "        shap_relevances = compute_shap_relevance(shap_values, X_val, y_val)\n",
    "        filt_i = compute_shap_fs(shap_relevances, q=q, by_circuit=False)\n",
    "        print(f\"shap rel time: {time.time() - t_tmp}\")\n",
    "\n",
    "        X_train_filt = X_train.loc[:, filt_i]\n",
    "        X_test_filt = X_test.loc[:, filt_i]\n",
    "        \n",
    "        dtrain = xgb.DMatrix(X_train_filt, label=y_train, feature_names=X_train_filt.columns)\n",
    "        dtest = xgb.DMatrix(X_test_filt, label=y_test, feature_names=X_test_filt.columns)\n",
    "        watchlist  = [(dtrain, 'train'), (dtest, 'eval')]\n",
    "        \n",
    "        t_tmp = time.time()\n",
    "        sub_model = xgb.train(param, dtrain, num_boost_round=nit, evals=watchlist, early_stopping_rounds=10,\n",
    "                             verbose_eval=False)\n",
    "        y_test_filt_preds = sub_model.predict(dtest)\n",
    "        print(f\"fit and predict unbiased time: {time.time() - t_tmp}\")\n",
    "\n",
    "        r2_loss = 1.0 - r2_score(y_test, y_test_filt_preds)\n",
    "        mo_r2_loss = 1.0 - r2_score(\n",
    "            y_test, y_test_filt_preds, multioutput=\"raw_values\"\n",
    "        )\n",
    "        \n",
    "        elapsed = time.time() - t\n",
    "        print(elapsed)\n",
    "        print(n_split, sum(filt_i), r2_score(y_test, model_.predict(dtest0)), 1-r2_loss)\n",
    "        print()\n",
    "\n",
    "        return (filt_i, r2_loss, mo_r2_loss)\n",
    "\n",
    "    stab_values = Parallel(n_jobs=1)(\n",
    "        delayed(stab_i)(None, X, Y, n_split, split)\n",
    "        for n_split, split in enumerate(stability_cv.split(X, Y))\n",
    "    )\n",
    "\n",
    "    for n_split, values in enumerate(stab_values):\n",
    "        Z[n_split, :] = values[0] * 1\n",
    "        errors[n_split] = values[1]\n",
    "\n",
    "    #res = build_stability_dict(Z, errors, alpha)\n",
    "    #print(res)\n",
    "\n",
    "    return Z, errors, alpha"
   ]
  },
  {
   "cell_type": "code",
   "execution_count": null,
   "metadata": {},
   "outputs": [
    {
     "name": "stdout",
     "output_type": "stream",
     "text": [
      "fitting\n",
      "fit time: 2.642609119415283\n",
      "Computing SHAP values\n",
      "shap time: 0.03934335708618164\n",
      "shap rel time: 3.1277482509613037\n",
      "fit and predict unbiased time: 1.2671775817871094\n",
      "7.425156593322754\n",
      "0 35 0.9514068137407332 0.9529758114041684\n",
      "\n",
      "fitting\n",
      "fit time: 2.6177687644958496\n",
      "Computing SHAP values\n",
      "shap time: 0.03896474838256836\n",
      "shap rel time: 1.455094814300537\n",
      "fit and predict unbiased time: 1.2723050117492676\n",
      "5.6746532917022705\n",
      "1 35 0.9512954998505031 0.9527605928084213\n",
      "\n",
      "fitting\n",
      "fit time: 2.5767409801483154\n",
      "Computing SHAP values\n",
      "shap time: 0.03816676139831543\n",
      "shap rel time: 1.415494441986084\n",
      "fit and predict unbiased time: 1.2728123664855957\n",
      "5.717118263244629\n",
      "2 35 0.9529048848744286 0.9541872816943865\n",
      "\n",
      "fitting\n",
      "fit time: 2.700256824493408\n",
      "Computing SHAP values\n",
      "shap time: 0.04266548156738281\n",
      "shap rel time: 1.450470209121704\n",
      "fit and predict unbiased time: 1.236076831817627\n",
      "5.7533135414123535\n",
      "3 35 0.9550459725766477 0.9542001875837993\n",
      "\n",
      "fitting\n",
      "fit time: 2.610480308532715\n",
      "Computing SHAP values\n",
      "shap time: 0.039253950119018555\n",
      "shap rel time: 1.4403023719787598\n",
      "fit and predict unbiased time: 1.347768783569336\n",
      "5.680006980895996\n",
      "4 35 0.9537543661792143 0.9540287556793798\n",
      "\n",
      "fitting\n",
      "fit time: 2.630882740020752\n",
      "Computing SHAP values\n",
      "shap time: 0.03947734832763672\n",
      "shap rel time: 1.4341037273406982\n",
      "fit and predict unbiased time: 1.278545618057251\n",
      "5.704087972640991\n",
      "5 35 0.9525140330875886 0.9529366426549155\n",
      "\n",
      "fitting\n",
      "fit time: 2.568016529083252\n",
      "Computing SHAP values\n",
      "shap time: 0.03888845443725586\n",
      "shap rel time: 1.446610689163208\n",
      "fit and predict unbiased time: 1.316096305847168\n",
      "5.619635343551636\n",
      "6 35 0.9557314351945416 0.9546934473868323\n",
      "\n",
      "fitting\n",
      "fit time: 2.582007646560669\n",
      "Computing SHAP values\n",
      "shap time: 0.039542198181152344\n",
      "shap rel time: 1.4380786418914795\n",
      "fit and predict unbiased time: 1.251298189163208\n",
      "5.572602272033691\n",
      "7 35 0.9554687193596633 0.9533052881646273\n",
      "\n",
      "fitting\n",
      "fit time: 2.6832997798919678\n",
      "Computing SHAP values\n",
      "shap time: 0.0393369197845459\n",
      "shap rel time: 1.3908190727233887\n",
      "fit and predict unbiased time: 1.2826313972473145\n",
      "5.6006481647491455\n",
      "8 35 0.9532428183362697 0.9514068250500848\n",
      "\n",
      "fitting\n",
      "fit time: 2.6029696464538574\n",
      "Computing SHAP values\n",
      "shap time: 0.043694257736206055\n",
      "shap rel time: 1.4598000049591064\n",
      "fit and predict unbiased time: 1.2475409507751465\n",
      "5.673852205276489\n",
      "9 35 0.9554503536092139 0.953692833426168\n",
      "\n",
      "fitting\n",
      "fit time: 2.6227571964263916\n",
      "Computing SHAP values\n",
      "shap time: 0.038605690002441406\n",
      "shap rel time: 1.3990471363067627\n",
      "fit and predict unbiased time: 1.2871897220611572\n",
      "5.537775993347168\n",
      "10 35 0.9545705949173169 0.9546942168958198\n",
      "\n",
      "fitting\n",
      "fit time: 2.6952505111694336\n",
      "Computing SHAP values\n",
      "shap time: 0.04001665115356445\n",
      "shap rel time: 1.4818134307861328\n",
      "fit and predict unbiased time: 1.3067913055419922\n",
      "5.766260862350464\n",
      "11 35 0.9517199072940585 0.9529942382197325\n",
      "\n",
      "fitting\n",
      "fit time: 2.756958484649658\n",
      "Computing SHAP values\n",
      "shap time: 0.03945636749267578\n",
      "shap rel time: 1.4282283782958984\n",
      "fit and predict unbiased time: 1.3197028636932373\n",
      "5.793831825256348\n",
      "12 35 0.955040811141579 0.9539103933592441\n",
      "\n",
      "fitting\n",
      "fit time: 2.650236129760742\n",
      "Computing SHAP values\n",
      "shap time: 0.04187297821044922\n",
      "shap rel time: 1.422734022140503\n",
      "fit and predict unbiased time: 1.2812631130218506\n",
      "5.678959846496582\n",
      "13 35 0.9533462693204598 0.9517995816369385\n",
      "\n",
      "fitting\n",
      "fit time: 2.6660406589508057\n",
      "Computing SHAP values\n",
      "shap time: 0.03893637657165527\n",
      "shap rel time: 1.0993766784667969\n",
      "fit and predict unbiased time: 1.3044891357421875\n",
      "5.344496250152588\n",
      "14 35 0.9542269765977331 0.9543435839523092\n",
      "\n",
      "fitting\n",
      "fit time: 2.6944711208343506\n",
      "Computing SHAP values\n",
      "shap time: 0.039992570877075195\n",
      "shap rel time: 1.566213846206665\n",
      "fit and predict unbiased time: 1.3541958332061768\n",
      "5.887822151184082\n",
      "15 35 0.9556473408817252 0.9545782211992835\n",
      "\n",
      "fitting\n",
      "fit time: 2.60394024848938\n",
      "Computing SHAP values\n",
      "shap time: 0.03890085220336914\n",
      "shap rel time: 1.416060209274292\n",
      "fit and predict unbiased time: 1.3402595520019531\n",
      "5.646303415298462\n",
      "16 35 0.9524003589988936 0.9524480108415436\n",
      "\n",
      "fitting\n",
      "fit time: 2.6946208477020264\n",
      "Computing SHAP values\n",
      "shap time: 0.039937734603881836\n",
      "shap rel time: 1.3953642845153809\n",
      "fit and predict unbiased time: 1.226001262664795\n",
      "5.662395000457764\n",
      "17 35 0.953663782077107 0.9530485145666189\n",
      "\n",
      "fitting\n",
      "fit time: 2.559741735458374\n",
      "Computing SHAP values\n",
      "shap time: 0.04018855094909668\n",
      "shap rel time: 1.394554615020752\n",
      "fit and predict unbiased time: 1.2667148113250732\n",
      "5.490810394287109\n",
      "18 35 0.9525139222167605 0.9523367410135043\n",
      "\n",
      "fitting\n",
      "fit time: 2.691033363342285\n",
      "Computing SHAP values\n",
      "shap time: 0.042704105377197266\n",
      "shap rel time: 1.4887521266937256\n",
      "fit and predict unbiased time: 1.252856731414795\n",
      "5.762226581573486\n",
      "19 35 0.9541124713330585 0.9545851640517419\n",
      "\n",
      "fitting\n",
      "fit time: 2.6643457412719727\n",
      "Computing SHAP values\n",
      "shap time: 0.0392451286315918\n",
      "shap rel time: 1.4466419219970703\n",
      "fit and predict unbiased time: 1.2333920001983643\n",
      "5.694479703903198\n",
      "20 35 0.9532324279270558 0.9544129362235413\n",
      "\n",
      "fitting\n",
      "fit time: 2.5743203163146973\n",
      "Computing SHAP values\n",
      "shap time: 0.04278373718261719\n",
      "shap rel time: 1.2903409004211426\n",
      "fit and predict unbiased time: 1.268528699874878\n",
      "5.455092668533325\n",
      "21 35 0.9527682421439772 0.9529747093024129\n",
      "\n",
      "fitting\n",
      "fit time: 2.776981830596924\n",
      "Computing SHAP values\n",
      "shap time: 0.03984713554382324\n",
      "shap rel time: 1.489880084991455\n",
      "fit and predict unbiased time: 1.2865025997161865\n",
      "5.858165502548218\n",
      "22 35 0.9535638887390532 0.9536005687728263\n",
      "\n",
      "fitting\n",
      "fit time: 2.584325075149536\n",
      "Computing SHAP values\n",
      "shap time: 0.04244041442871094\n",
      "shap rel time: 1.4421112537384033\n",
      "fit and predict unbiased time: 1.3100488185882568\n",
      "5.70302414894104\n",
      "23 35 0.9534638466763422 0.9544861838138363\n",
      "\n",
      "fitting\n",
      "fit time: 2.6532044410705566\n",
      "Computing SHAP values\n",
      "shap time: 0.03910541534423828\n",
      "shap rel time: 1.352299690246582\n",
      "fit and predict unbiased time: 1.3069782257080078\n",
      "5.578352689743042\n",
      "24 35 0.954245449166881 0.9549940612241015\n",
      "\n",
      "fitting\n",
      "fit time: 2.583224296569824\n",
      "Computing SHAP values\n",
      "shap time: 0.039070844650268555\n",
      "shap rel time: 1.3912835121154785\n",
      "fit and predict unbiased time: 1.3080523014068604\n",
      "5.8461878299713135\n",
      "25 35 0.954971282679714 0.9544130723245636\n",
      "\n",
      "fitting\n",
      "fit time: 2.5491232872009277\n",
      "Computing SHAP values\n",
      "shap time: 0.0408480167388916\n",
      "shap rel time: 1.4293806552886963\n",
      "fit and predict unbiased time: 1.2937090396881104\n",
      "5.574520587921143\n",
      "26 35 0.9548282449218651 0.9538610920013366\n",
      "\n",
      "fitting\n",
      "fit time: 2.666984796524048\n",
      "Computing SHAP values\n",
      "shap time: 0.0392000675201416\n",
      "shap rel time: 1.3763344287872314\n",
      "fit and predict unbiased time: 1.288576364517212\n",
      "5.699620723724365\n",
      "27 35 0.9515128599012185 0.9515825572336645\n",
      "\n",
      "fitting\n",
      "fit time: 2.5900609493255615\n",
      "Computing SHAP values\n",
      "shap time: 0.04194450378417969\n",
      "shap rel time: 1.473517656326294\n",
      "fit and predict unbiased time: 1.3727130889892578\n",
      "5.68559718132019\n",
      "28 35 0.9520681890157913 0.9531106103591545\n",
      "\n",
      "fitting\n",
      "fit time: 2.6360061168670654\n",
      "Computing SHAP values\n",
      "shap time: 0.039109230041503906\n",
      "shap rel time: 1.4297678470611572\n",
      "fit and predict unbiased time: 1.305330514907837\n",
      "5.68238639831543\n",
      "29 35 0.9554708384166573 0.9555018511538187\n",
      "\n",
      "fitting\n",
      "fit time: 2.6189370155334473\n",
      "Computing SHAP values\n",
      "shap time: 0.03882479667663574\n",
      "shap rel time: 1.4726629257202148\n",
      "fit and predict unbiased time: 1.2800507545471191\n",
      "5.739324331283569\n",
      "30 35 0.9567497054035271 0.9549676126250517\n",
      "\n",
      "fitting\n",
      "fit time: 2.676967144012451\n",
      "Computing SHAP values\n",
      "shap time: 0.0390019416809082\n",
      "shap rel time: 1.2104260921478271\n",
      "fit and predict unbiased time: 1.2952430248260498\n",
      "5.4047935009002686\n",
      "31 35 0.9525278730024006 0.9520638032597902\n",
      "\n",
      "fitting\n",
      "fit time: 2.6853928565979004\n",
      "Computing SHAP values\n",
      "shap time: 0.03873586654663086\n",
      "shap rel time: 1.4279587268829346\n",
      "fit and predict unbiased time: 1.267052412033081\n",
      "5.58855414390564\n",
      "32 35 0.9551400916667545 0.9548131907599293\n",
      "\n",
      "fitting\n",
      "fit time: 2.6086668968200684\n",
      "Computing SHAP values\n",
      "shap time: 0.03885006904602051\n",
      "shap rel time: 1.4339070320129395\n",
      "fit and predict unbiased time: 1.2914137840270996\n",
      "5.58694314956665\n",
      "33 35 0.9528097109291637 0.9537863625058827\n",
      "\n",
      "fitting\n",
      "fit time: 2.5274498462677\n",
      "Computing SHAP values\n",
      "shap time: 0.0386195182800293\n",
      "shap rel time: 1.3659021854400635\n",
      "fit and predict unbiased time: 1.2743449211120605\n",
      "5.5223612785339355\n",
      "34 35 0.9550978869847284 0.9545047496769963\n",
      "\n",
      "fitting\n",
      "fit time: 2.712961196899414\n",
      "Computing SHAP values\n",
      "shap time: 0.03964400291442871\n",
      "shap rel time: 1.532686710357666\n",
      "fit and predict unbiased time: 1.2904939651489258\n",
      "5.74377179145813\n",
      "35 35 0.9544020015453445 0.953336396894388\n",
      "\n",
      "fitting\n",
      "fit time: 2.6296234130859375\n",
      "Computing SHAP values\n",
      "shap time: 0.03872847557067871\n",
      "shap rel time: 1.4327170848846436\n",
      "fit and predict unbiased time: 1.2156407833099365\n",
      "5.585845708847046\n",
      "36 35 0.9534988749899488 0.9525884212009585\n",
      "\n",
      "fitting\n",
      "fit time: 2.6972146034240723\n",
      "Computing SHAP values\n",
      "shap time: 0.03940224647521973\n",
      "shap rel time: 1.4437377452850342\n",
      "fit and predict unbiased time: 1.2176010608673096\n",
      "5.6608216762542725\n",
      "37 35 0.9530110031700278 0.9520554943228794\n",
      "\n",
      "fitting\n",
      "fit time: 2.648350477218628\n",
      "Computing SHAP values\n",
      "shap time: 0.038562774658203125\n",
      "shap rel time: 1.4317903518676758\n",
      "fit and predict unbiased time: 1.3064699172973633\n",
      "5.817739248275757\n",
      "38 35 0.9528208651204807 0.9530987071881672\n",
      "\n",
      "fitting\n",
      "fit time: 2.6730446815490723\n",
      "Computing SHAP values\n",
      "shap time: 0.03928518295288086\n",
      "shap rel time: 1.487262487411499\n",
      "fit and predict unbiased time: 1.2805078029632568\n",
      "5.757779598236084\n",
      "39 35 0.9534897643604386 0.9534210215546594\n",
      "\n",
      "fitting\n",
      "fit time: 2.6521694660186768\n",
      "Computing SHAP values\n",
      "shap time: 0.03946876525878906\n",
      "shap rel time: 1.5612926483154297\n",
      "fit and predict unbiased time: 1.30202317237854\n",
      "5.8279128074646\n",
      "40 35 0.953846817036482 0.9526002202386666\n",
      "\n",
      "fitting\n",
      "fit time: 2.543120861053467\n",
      "Computing SHAP values\n",
      "shap time: 0.03871440887451172\n",
      "shap rel time: 1.4017624855041504\n",
      "fit and predict unbiased time: 1.2901148796081543\n",
      "5.529536724090576\n",
      "41 35 0.9538136163985619 0.9539124691601985\n",
      "\n",
      "fitting\n",
      "fit time: 2.6244990825653076\n",
      "Computing SHAP values\n",
      "shap time: 0.03867197036743164\n",
      "shap rel time: 1.460634469985962\n",
      "fit and predict unbiased time: 1.2845733165740967\n",
      "5.698637247085571\n",
      "42 35 0.9536071920614334 0.9517361116563412\n",
      "\n",
      "fitting\n",
      "fit time: 2.631049394607544\n",
      "Computing SHAP values\n",
      "shap time: 0.0389246940612793\n",
      "shap rel time: 1.4075026512145996\n",
      "fit and predict unbiased time: 1.3019514083862305\n",
      "5.614195108413696\n",
      "43 35 0.9544117811659005 0.9548267318299808\n",
      "\n",
      "fitting\n",
      "fit time: 2.7125916481018066\n",
      "Computing SHAP values\n",
      "shap time: 0.039554595947265625\n",
      "shap rel time: 1.409193515777588\n",
      "fit and predict unbiased time: 1.2899432182312012\n",
      "5.737263202667236\n",
      "44 35 0.9518586443818833 0.9530969066536144\n",
      "\n",
      "fitting\n",
      "fit time: 2.604037284851074\n",
      "Computing SHAP values\n",
      "shap time: 0.03919267654418945\n",
      "shap rel time: 1.226083755493164\n",
      "fit and predict unbiased time: 1.3302793502807617\n",
      "5.412969589233398\n",
      "45 35 0.9529462106390637 0.9525839008886697\n",
      "\n",
      "fitting\n",
      "fit time: 2.6139633655548096\n",
      "Computing SHAP values\n",
      "shap time: 0.03890848159790039\n",
      "shap rel time: 1.4340152740478516\n",
      "fit and predict unbiased time: 1.3246428966522217\n",
      "5.697686672210693\n",
      "46 35 0.9546712868580882 0.95409058010835\n",
      "\n",
      "fitting\n",
      "fit time: 2.653512954711914\n",
      "Computing SHAP values\n",
      "shap time: 0.03920125961303711\n",
      "shap rel time: 1.3755526542663574\n",
      "fit and predict unbiased time: 1.310913324356079\n",
      "5.729565382003784\n",
      "47 35 0.9557497974474803 0.9545141640076722\n",
      "\n",
      "fitting\n",
      "fit time: 2.596503734588623\n",
      "Computing SHAP values\n",
      "shap time: 0.04244041442871094\n",
      "shap rel time: 1.410550594329834\n",
      "fit and predict unbiased time: 1.2805328369140625\n",
      "5.619471073150635\n",
      "48 35 0.9552739152637202 0.9545742871580702\n",
      "\n",
      "fitting\n",
      "fit time: 2.6366658210754395\n",
      "Computing SHAP values\n",
      "shap time: 0.03894495964050293\n",
      "shap rel time: 1.4421460628509521\n",
      "fit and predict unbiased time: 1.2767822742462158\n",
      "5.617498159408569\n",
      "49 35 0.9541515501506296 0.9523460800146321\n",
      "\n",
      "fitting\n",
      "fit time: 2.692641258239746\n",
      "Computing SHAP values\n",
      "shap time: 0.03954195976257324\n",
      "shap rel time: 1.3804833889007568\n",
      "fit and predict unbiased time: 1.2639038562774658\n",
      "5.543999195098877\n",
      "50 35 0.9538173350009499 0.954858606991905\n",
      "\n",
      "fitting\n",
      "fit time: 2.762730598449707\n",
      "Computing SHAP values\n",
      "shap time: 0.03947734832763672\n",
      "shap rel time: 1.4707367420196533\n",
      "fit and predict unbiased time: 1.2422213554382324\n",
      "5.849757432937622\n",
      "51 35 0.9531274690687688 0.953065766412587\n",
      "\n",
      "fitting\n",
      "fit time: 2.6268906593322754\n",
      "Computing SHAP values\n",
      "shap time: 0.041890621185302734\n",
      "shap rel time: 1.4173612594604492\n",
      "fit and predict unbiased time: 1.297847032546997\n",
      "5.610399007797241\n",
      "52 35 0.952212358514812 0.9511590727346657\n",
      "\n",
      "fitting\n",
      "fit time: 2.594768524169922\n",
      "Computing SHAP values\n",
      "shap time: 0.03865957260131836\n",
      "shap rel time: 1.4095170497894287\n",
      "fit and predict unbiased time: 1.2152988910675049\n",
      "5.558236598968506\n",
      "53 35 0.9553771096487256 0.9559505608186749\n",
      "\n",
      "fitting\n",
      "fit time: 2.6579463481903076\n",
      "Computing SHAP values\n",
      "shap time: 0.04229569435119629\n",
      "shap rel time: 1.3360514640808105\n",
      "fit and predict unbiased time: 1.267150640487671\n",
      "5.570791482925415\n",
      "54 35 0.9540219309708813 0.9535473611262677\n",
      "\n",
      "fitting\n",
      "fit time: 2.676503896713257\n",
      "Computing SHAP values\n",
      "shap time: 0.03929615020751953\n",
      "shap rel time: 1.397526502609253\n",
      "fit and predict unbiased time: 1.2736287117004395\n",
      "5.672525405883789\n",
      "55 35 0.954185528153867 0.9535028875166793\n",
      "\n",
      "fitting\n",
      "fit time: 2.5169389247894287\n",
      "Computing SHAP values\n",
      "shap time: 0.03912663459777832\n",
      "shap rel time: 1.3018035888671875\n"
     ]
    }
   ],
   "source": [
    "z, e, a = run_stability(None, X, Y, col=0, n_bootstraps=100, nit=100)"
   ]
  },
  {
   "cell_type": "code",
   "execution_count": null,
   "metadata": {},
   "outputs": [],
   "source": [
    "z.shape, X.shape"
   ]
  },
  {
   "cell_type": "code",
   "execution_count": 115,
   "metadata": {},
   "outputs": [],
   "source": [
    "res = build_stability_dict(z, e, a)"
   ]
  },
  {
   "cell_type": "code",
   "execution_count": 35,
   "metadata": {},
   "outputs": [],
   "source": [
    "\n",
    "def build_stability_dict(z_mat, errors, alpha=0.05):\n",
    "\n",
    "    support_matrix = np.squeeze(z_mat)\n",
    "    scores = np.squeeze(1 - errors)\n",
    "\n",
    "    stab_res = stab.confidenceIntervals(support_matrix, alpha=alpha)\n",
    "    stability = stab_res[\"stability\"]\n",
    "    stability_error = stab_res[\"stability\"] - stab_res[\"lower\"]\n",
    "\n",
    "    res = {\n",
    "        \"scores\": scores.tolist(),\n",
    "        \"stability_score\": stability,\n",
    "        \"stability_error\": stability_error,\n",
    "        \"alpha\": alpha,\n",
    "    }\n",
    "\n",
    "    return res"
   ]
  },
  {
   "cell_type": "code",
   "execution_count": 116,
   "metadata": {},
   "outputs": [
    {
     "data": {
      "text/plain": [
       "{'scores': [0.9529758114041684,\n",
       "  0.9527605928084213,\n",
       "  0.9541872816943865,\n",
       "  0.9542001875837993,\n",
       "  0.9540287556793798,\n",
       "  0.9529366426549155,\n",
       "  0.9546934473868323,\n",
       "  0.9533052881646273,\n",
       "  0.9514068250500848,\n",
       "  0.953692833426168],\n",
       " 'stability_score': 0.8173045267489712,\n",
       " 'stability_error': 0.0176044771692484,\n",
       " 'alpha': 0.05}"
      ]
     },
     "execution_count": 116,
     "metadata": {},
     "output_type": "execute_result"
    }
   ],
   "source": [
    "res"
   ]
  },
  {
   "cell_type": "code",
   "execution_count": 54,
   "metadata": {},
   "outputs": [],
   "source": [
    "shap_values = joblib.load(\"shap_values.jbl\")"
   ]
  },
  {
   "cell_type": "code",
   "execution_count": 55,
   "metadata": {},
   "outputs": [
    {
     "data": {
      "text/plain": [
       "((1754, 684), (11688, 683))"
      ]
     },
     "execution_count": 55,
     "metadata": {},
     "output_type": "execute_result"
    }
   ],
   "source": [
    "shap_values.shape, X.shape"
   ]
  },
  {
   "cell_type": "code",
   "execution_count": 56,
   "metadata": {},
   "outputs": [],
   "source": [
    "shap_values = shap_values[:, :-1]"
   ]
  },
  {
   "cell_type": "code",
   "execution_count": null,
   "metadata": {},
   "outputs": [],
   "source": []
  },
  {
   "cell_type": "code",
   "execution_count": 76,
   "metadata": {},
   "outputs": [],
   "source": [
    "def compute_shap_relevance(shap_values, X, Y):\n",
    "    \n",
    "    Y = Y.to_frame()\n",
    "\n",
    "    feature_names = X.columns\n",
    "    task_names = Y.columns\n",
    "\n",
    "    n_features = len(feature_names)\n",
    "    n_tasks = len(task_names)\n",
    "\n",
    "    corr_sign = lambda x, y: np.sign(pearsonr(x, y)[0])\n",
    "    signs = Parallel(n_jobs=-1)(\n",
    "        delayed(corr_sign)(X.iloc[:, x_col], shap_values[:, x_col])\n",
    "        for x_col in range(n_features)\n",
    "        for y_col in range(n_tasks)\n",
    "    )\n",
    "\n",
    "    signs = np.array(signs).reshape((n_tasks, n_features), order=\"F\")\n",
    "    signs = pd.DataFrame(signs, index=Y.columns, columns=X.columns)\n",
    "\n",
    "    #shap_values = np.array(shap_values)\n",
    "\n",
    "\n",
    "    shap_relevance = pd.Series(np.abs(shap_values).mean(axis=(0))).to_frame().T\n",
    "    shap_relevance.index=task_names\n",
    "    shap_relevance.columns=feature_names\n",
    "    shap_relevance = shap_relevance * signs\n",
    "    shap_relevance = shap_relevance.fillna(0.0)\n",
    "\n",
    "    return shap_relevance"
   ]
  },
  {
   "cell_type": "code",
   "execution_count": 72,
   "metadata": {},
   "outputs": [],
   "source": [
    "x_val = joblib.load(\"x_val.jbl\")\n",
    "y_val = joblib.load(\"y_val.jbl\")\n",
    "\n",
    "y_val = y_val.to_frame()\n",
    "\n",
    "feature_names = X.columns\n",
    "task_names = y_val.columns\n",
    "\n",
    "n_features = len(feature_names)\n",
    "n_tasks = len(task_names)\n",
    "\n",
    "corr_sign = lambda x, y: np.sign(pearsonr(x, y)[0])\n",
    "signs = Parallel(n_jobs=-1)(\n",
    "    delayed(corr_sign)(x_val.iloc[:, x_col], shap_values[:, x_col])\n",
    "    for x_col in range(n_features)\n",
    "    for y_col in range(n_tasks)\n",
    ")\n",
    "\n",
    "signs = np.array(signs).reshape((n_tasks, n_features), order=\"F\")\n",
    "signs = pd.DataFrame(signs, index=y_val.columns, columns=x_val.columns)\n",
    "\n",
    "#shap_values = np.array(shap_values)\n",
    "\n",
    "shap_relevance = pd.Series(np.abs(shap_values).mean(axis=(0))).to_frame().T\n",
    "shap_relevance.index=task_names\n",
    "shap_relevance.columns=feature_names\n",
    "\n",
    "shap_relevance = shap_relevance * signs\n",
    "shap_relevance = shap_relevance.fillna(0.0)"
   ]
  },
  {
   "cell_type": "code",
   "execution_count": 71,
   "metadata": {},
   "outputs": [],
   "source": [
    "shap_relevance = pd.Series(np.abs(shap_values).mean(axis=(0))).to_frame().T\n",
    "shap_relevance.index=task_names\n",
    "shap_relevance.columns=feature_names"
   ]
  },
  {
   "cell_type": "code",
   "execution_count": 97,
   "metadata": {},
   "outputs": [],
   "source": [
    "x_val = joblib.load(\"x_val.jbl\")\n",
    "y_val = joblib.load(\"y_val.jbl\")\n",
    "shap_values = joblib.load(\"shap_values.jbl\")\n",
    "shap_values = shap_values[:, :-1]\n",
    "q = 0.95\n",
    "\n",
    "r = compute_shap_relevance(shap_values, x_val, y_val)\n",
    "filt_i = compute_shap_fs(r, q=q, by_circuit=False)"
   ]
  },
  {
   "cell_type": "code",
   "execution_count": 101,
   "metadata": {},
   "outputs": [],
   "source": [
    "Z = np.zeros((100, X.shape[1]), dtype=np.int8)"
   ]
  },
  {
   "cell_type": "code",
   "execution_count": 102,
   "metadata": {},
   "outputs": [
    {
     "data": {
      "text/plain": [
       "(100, 683)"
      ]
     },
     "execution_count": 102,
     "metadata": {},
     "output_type": "execute_result"
    }
   ],
   "source": [
    "Z.shape"
   ]
  },
  {
   "cell_type": "code",
   "execution_count": 105,
   "metadata": {},
   "outputs": [],
   "source": [
    "Z[0, :] = filt_i * 1"
   ]
  },
  {
   "cell_type": "code",
   "execution_count": 106,
   "metadata": {},
   "outputs": [
    {
     "data": {
      "text/plain": [
       "(100, 683)"
      ]
     },
     "execution_count": 106,
     "metadata": {},
     "output_type": "execute_result"
    }
   ],
   "source": [
    "Z.shape"
   ]
  },
  {
   "cell_type": "code",
   "execution_count": 110,
   "metadata": {},
   "outputs": [
    {
     "data": {
      "text/plain": [
       "array([0, 0, 0, 0, 0, 0, 0, 0, 0, 0, 0, 0, 0, 0, 0, 0, 0, 0, 0, 0, 0, 0,\n",
       "       0, 0, 1, 0, 0, 0, 0, 0, 0, 0, 0, 0, 0, 0, 0, 0, 0, 0, 0, 0, 0, 0,\n",
       "       0, 0, 0, 0, 0, 0, 0, 0, 0, 0, 0, 0, 0, 0, 0, 0, 0, 0, 0, 1, 1, 0,\n",
       "       0, 0, 0, 0, 0, 0, 0, 0, 0, 0, 0, 0, 0, 0, 0, 1, 0, 0, 0, 0, 1, 0,\n",
       "       0, 0, 0, 0, 0, 0, 0, 0, 0, 0, 0, 0, 0, 0, 0, 0, 0, 0, 0, 0, 0, 0,\n",
       "       0, 0, 0, 0, 0, 0, 0, 0, 0, 0, 0, 0, 0, 0, 0, 0, 0, 0, 0, 0, 0, 0,\n",
       "       0, 0, 0, 0, 0, 0, 0, 0, 0, 0, 0, 0, 0, 0, 0, 0, 0, 0, 0, 0, 0, 0,\n",
       "       0, 0, 0, 0, 0, 0, 0, 0, 0, 0, 0, 0, 0, 0, 0, 0, 0, 0, 0, 0, 0, 0,\n",
       "       0, 0, 0, 1, 0, 0, 0, 0, 1, 0, 0, 0, 0, 0, 0, 0, 0, 0, 0, 0, 0, 0,\n",
       "       0, 0, 0, 0, 0, 0, 0, 0, 0, 0, 0, 0, 0, 0, 0, 0, 0, 0, 0, 1, 0, 0,\n",
       "       0, 0, 0, 0, 0, 0, 0, 0, 0, 0, 0, 0, 0, 0, 0, 0, 0, 0, 0, 0, 0, 0,\n",
       "       0, 0, 0, 0, 0, 0, 0, 0, 0, 0, 0, 0, 0, 0, 0, 0, 0, 0, 0, 0, 0, 0,\n",
       "       1, 0, 0, 0, 0, 0, 0, 0, 0, 0, 0, 0, 0, 0, 0, 0, 0, 0, 0, 0, 0, 0,\n",
       "       0, 0, 0, 0, 0, 0, 0, 0, 1, 0, 0, 1, 1, 0, 0, 0, 0, 0, 0, 0, 0, 0,\n",
       "       0, 0, 0, 0, 0, 0, 0, 0, 0, 0, 0, 0, 0, 0, 0, 0, 0, 0, 0, 0, 1, 0,\n",
       "       0, 0, 0, 0, 0, 1, 0, 0, 0, 0, 0, 0, 0, 0, 0, 0, 1, 0, 0, 0, 0, 0,\n",
       "       0, 0, 0, 0, 1, 0, 0, 0, 0, 0, 0, 0, 0, 0, 0, 0, 0, 0, 0, 0, 0, 0,\n",
       "       0, 0, 0, 0, 0, 0, 0, 0, 0, 0, 0, 0, 0, 0, 0, 0, 0, 1, 0, 0, 0, 0,\n",
       "       0, 0, 0, 0, 0, 0, 0, 0, 0, 0, 0, 0, 0, 0, 1, 1, 0, 0, 1, 0, 0, 0,\n",
       "       0, 0, 0, 0, 0, 1, 0, 0, 0, 1, 0, 0, 0, 0, 0, 1, 0, 0, 0, 0, 0, 0,\n",
       "       0, 0, 0, 0, 0, 0, 0, 0, 0, 0, 0, 0, 0, 0, 0, 0, 0, 0, 0, 0, 0, 0,\n",
       "       0, 0, 0, 0, 0, 0, 0, 0, 0, 0, 1, 0, 0, 0, 0, 0, 0, 0, 0, 0, 0, 0,\n",
       "       0, 0, 0, 0, 0, 0, 0, 0, 0, 0, 0, 0, 0, 0, 0, 0, 0, 0, 0, 0, 0, 0,\n",
       "       0, 0, 0, 0, 0, 0, 0, 0, 0, 0, 0, 0, 1, 0, 0, 0, 1, 0, 0, 0, 0, 0,\n",
       "       0, 0, 0, 0, 0, 0, 0, 0, 0, 0, 0, 0, 0, 0, 0, 0, 0, 0, 0, 0, 0, 1,\n",
       "       0, 0, 0, 0, 0, 0, 0, 0, 0, 0, 0, 0, 0, 0, 0, 0, 0, 1, 0, 0, 0, 0,\n",
       "       0, 0, 0, 0, 0, 0, 0, 0, 0, 0, 0, 0, 0, 1, 1, 0, 0, 0, 0, 0, 0, 0,\n",
       "       0, 0, 0, 0, 0, 0, 0, 0, 0, 0, 0, 0, 0, 0, 0, 0, 0, 0, 0, 1, 0, 0,\n",
       "       0, 0, 0, 0, 0, 0, 0, 0, 0, 0, 0, 0, 0, 0, 0, 0, 0, 0, 0, 0, 1, 0,\n",
       "       0, 1, 0, 0, 0, 0, 0, 0, 0, 0, 0, 0, 1, 0, 0, 0, 0, 0, 0, 0, 0, 0,\n",
       "       1, 0, 0, 0, 0, 0, 0, 0, 0, 0, 0, 0, 0, 0, 0, 0, 0, 0, 0, 0, 0, 0,\n",
       "       0])"
      ]
     },
     "execution_count": 110,
     "metadata": {},
     "output_type": "execute_result"
    }
   ],
   "source": [
    "filt_i * 1"
   ]
  },
  {
   "cell_type": "code",
   "execution_count": null,
   "metadata": {},
   "outputs": [],
   "source": []
  }
 ],
 "metadata": {
  "kernelspec": {
   "display_name": "Python 3",
   "language": "python",
   "name": "python3"
  },
  "language_info": {
   "codemirror_mode": {
    "name": "ipython",
    "version": 3
   },
   "file_extension": ".py",
   "mimetype": "text/x-python",
   "name": "python",
   "nbconvert_exporter": "python",
   "pygments_lexer": "ipython3",
   "version": "3.8.6"
  }
 },
 "nbformat": 4,
 "nbformat_minor": 4
}
