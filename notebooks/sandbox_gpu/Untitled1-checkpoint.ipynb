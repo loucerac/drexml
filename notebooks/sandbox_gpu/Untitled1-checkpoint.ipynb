{
 "cells": [
  {
   "cell_type": "code",
   "execution_count": 11,
   "metadata": {},
   "outputs": [
    {
     "output_type": "stream",
     "name": "stdout",
     "text": [
      "/home/cloucera/projects/pyholird/.venv/bin/python\n"
     ]
    }
   ],
   "source": [
    "!which python"
   ]
  },
  {
   "cell_type": "code",
   "execution_count": 18,
   "metadata": {},
   "outputs": [
    {
     "output_type": "stream",
     "name": "stdout",
     "text": [
      "/home/cloucera/projects/pyholird\n"
     ]
    }
   ],
   "source": [
    "\n",
    "import multiprocessing\n",
    "import os\n",
    "import pathlib\n",
    "from multiprocessing import Manager, Process\n",
    "\n",
    "import dotenv\n",
    "import joblib\n",
    "import matplotlib.pyplot as plt\n",
    "from joblib import Parallel, delayed\n",
    "from sklearn.metrics import r2_score\n",
    "\n",
    "\n",
    "import joblib\n",
    "import numpy as np\n",
    "import pandas as pd\n",
    "from joblib import Parallel, delayed\n",
    "from scipy.stats import pearsonr\n",
    "from sklearn.ensemble import RandomForestRegressor\n",
    "from sklearn.model_selection import ShuffleSplit, train_test_split\n",
    "from joblib import parallel_backend\n",
    "import json\n",
    "\n",
    "\n",
    "import os\n",
    "\n",
    "from joblib import Parallel, delayed\n",
    "\n",
    "from sklearn.base import clone\n",
    "\n",
    "import matplotlib.pyplot as plt\n",
    "from sklearn.base import clone\n",
    "from sklearn.ensemble import RandomForestRegressor\n",
    "import shap\n",
    "import sys\n",
    "\n",
    "\n",
    "project_folder = pathlib.Path(dotenv.find_dotenv()).parent.absolute()\n",
    "print(project_folder)\n",
    "sys.path.append(\"../../\")\n",
    "import src.stability as stab\n",
    "\n",
    "\n",
    "plt.style.use(\"ggplot\")\n",
    "\n",
    "\n",
    "def matcorr(O, P):\n",
    "    (n, t) = O.shape  # n traces of t samples\n",
    "    (n_bis, m) = P.shape  # n predictions for each of m candidates\n",
    "\n",
    "    DO = O - (\n",
    "        np.einsum(\"nt->t\", O, optimize=\"optimal\") / np.double(n)\n",
    "    )  # compute O - mean(O)\n",
    "    DP = P - (\n",
    "        np.einsum(\"nm->m\", P, optimize=\"optimal\") / np.double(n)\n",
    "    )  # compute P - mean(P)\n",
    "\n",
    "    cov = np.einsum(\"nm,nt->mt\", DP, DO, optimize=\"optimal\")\n",
    "\n",
    "    varP = np.einsum(\"nm,nm->m\", DP, DP, optimize=\"optimal\")\n",
    "    varO = np.einsum(\"nt,nt->t\", DO, DO, optimize=\"optimal\")\n",
    "    tmp = np.einsum(\"m,t->mt\", varP, varO, optimize=\"optimal\")\n",
    "\n",
    "    return cov / np.sqrt(tmp)\n",
    "\n",
    "\n",
    "\n",
    "def compute_shap_fs(relevances, q=0.95, by_circuit=False):\n",
    "\n",
    "    by_circuit_frame = relevances.abs().apply(lambda x: x > np.quantile(x, q), axis=1)\n",
    "\n",
    "    if by_circuit:\n",
    "        res = by_circuit_frame\n",
    "    else:\n",
    "        res = by_circuit_frame.any().values\n",
    "\n",
    "    return res\n",
    "\n",
    "\n",
    "def compute_shap_values(\n",
    "    estimator, background, new, approximate=True, check_additivity=False\n",
    "):\n",
    "    explainer = shap.GPUTreeExplainer(estimator, background)\n",
    "    shap_values = np.array(explainer.shap_values(new))\n",
    "\n",
    "    return shap_values\n",
    "\n",
    "\n",
    "def compute_shap_relevance(shap_values, X, Y):\n",
    "\n",
    "    feature_names = X.columns\n",
    "    task_names = Y.columns\n",
    "\n",
    "    n_features = len(feature_names)\n",
    "    n_tasks = len(task_names)\n",
    "\n",
    "    c = lambda x, y: np.sign(np.diag(matcorr(x, y)))\n",
    "\n",
    "    corr_sign = lambda x, y: np.sign(pearsonr(x, y)[0])\n",
    "    signs = Parallel(n_jobs=-1)(\n",
    "        delayed(c)(X.values, shap_values[y_col, :, :]) for y_col in range(n_tasks)\n",
    "    )\n",
    "\n",
    "    signs = np.array(signs).reshape((n_tasks, n_features), order=\"F\")\n",
    "    signs = pd.DataFrame(signs, index=Y.columns, columns=X.columns)\n",
    "\n",
    "    # shap_values = np.array(shap_values)\n",
    "\n",
    "    shap_relevance = pd.DataFrame(\n",
    "        np.abs(shap_values).mean(axis=(1)), index=task_names, columns=feature_names\n",
    "    )\n",
    "\n",
    "    shap_relevance = shap_relevance * signs\n",
    "    shap_relevance = shap_relevance.fillna(0.0)\n",
    "\n",
    "    return shap_relevance\n",
    "\n",
    "\n",
    "def build_stability_dict(z_mat, errors, alpha=0.05):\n",
    "\n",
    "    support_matrix = np.squeeze(z_mat)\n",
    "    scores = np.squeeze(1 - errors)\n",
    "\n",
    "    stab_res = stab.confidenceIntervals(support_matrix, alpha=alpha)\n",
    "    stability = stab_res[\"stability\"]\n",
    "    stability_error = stab_res[\"stability\"] - stab_res[\"lower\"]\n",
    "\n",
    "    res = {\n",
    "        \"scores\": scores.tolist(),\n",
    "        \"stability_score\": stability,\n",
    "        \"stability_error\": stability_error,\n",
    "        \"alpha\": alpha,\n",
    "    }\n",
    "\n",
    "    return res\n",
    "\n",
    "\n",
    "\n",
    "def run_stability(model, X, Y, cv, fs, alpha=0.05):\n",
    "    n_bootstraps = len(fs)\n",
    "    n_samples, n_features = X.shape\n",
    "\n",
    "    # lambda: quantile selected\n",
    "\n",
    "    Z = np.zeros((n_bootstraps, n_features), dtype=np.int8)\n",
    "    errors = np.zeros(n_bootstraps)\n",
    "\n",
    "    def stab_i(model, X, Y, n_split, split):\n",
    "        print(n_split)\n",
    "        learn, val, test = split\n",
    "        X_learn = X.iloc[learn, :]\n",
    "        Y_learn = Y.iloc[learn, :]\n",
    "        X_val = X.iloc[val, :]\n",
    "        Y_val = Y.iloc[val, :]\n",
    "        X_test = X.iloc[test, :]\n",
    "        Y_test = Y.iloc[test, :]\n",
    "        X_train = pd.concat((X_learn, X_val), axis=0)\n",
    "        Y_train = pd.concat((Y_learn, Y_val), axis=0)\n",
    "\n",
    "        filt_i = fs[n_split]\n",
    "\n",
    "        X_train_filt = X_train.loc[:, filt_i]\n",
    "        X_test_filt = X_test.loc[:, filt_i]\n",
    "\n",
    "        with parallel_backend('multiprocessing', n_jobs=24):\n",
    "            sub_model = clone(model)\n",
    "            sub_model.set_params(**{\"max_depth\": 32})\n",
    "            # sub_model.set_params(max_features=1.0)\n",
    "            sub_model.fit(X_train_filt, Y_train)\n",
    "            Y_test_filt_preds = sub_model.predict(X_test_filt)\n",
    "\n",
    "        r2_loss = 1.0 - r2_score(Y_test, Y_test_filt_preds)\n",
    "        mo_r2_loss = 1.0 - r2_score(\n",
    "            Y_test, Y_test_filt_preds, multioutput=\"raw_values\"\n",
    "        )\n",
    "\n",
    "        return (filt_i, r2_loss, mo_r2_loss)\n",
    "    \n",
    "    stab_values = []\n",
    "    for n_split, split in enumerate(cv):\n",
    "        stab_values.append(stab_i(model, X, Y, n_split, split))\n",
    "\n",
    "    for n_split, values in enumerate(stab_values):\n",
    "        Z[n_split, :] = values[0] * 1\n",
    "        errors[n_split] = values[1]\n",
    "\n",
    "    res = build_stability_dict(Z, errors, alpha)\n",
    "    print(res[\"stability_score\"])\n",
    "\n",
    "    return res\n",
    "\n",
    "\n",
    "def main():\n",
    "\n",
    "    project_folder = pathlib.Path(dotenv.find_dotenv()).parent.absolute()\n",
    "    data_folder = project_folder.joinpath(\"notebooks\", \"data\")\n",
    "\n",
    "    X_fpath = data_folder.joinpath(\"features.pkl\")\n",
    "    X = joblib.load(X_fpath)\n",
    "\n",
    "    Xat_fpath = data_folder.joinpath(\"features.pkl\")\n",
    "    Xat = joblib.load(Xat_fpath)\n",
    "\n",
    "    X = X[Xat.columns]\n",
    "\n",
    "    Y_fpath = data_folder.joinpath(\"target.pkl\")\n",
    "    Y = joblib.load(Y_fpath)\n",
    "\n",
    "    n = 100\n",
    "    cv = ShuffleSplit(n_splits=n, train_size=0.5, random_state=0)\n",
    "    cv = list(cv.split(X, Y))\n",
    "    cv = [(*train_test_split(cv[i][0], test_size=0.3), cv[i][1]) for i in range(n)]\n",
    "\n",
    "    fname = f\"cv.jbl\"\n",
    "    fpath = pathlib.Path(\".\", \"tmp\", fname)\n",
    "    joblib.dump(cv, fpath)\n",
    "\n",
    "    n_features = X.shape[1]\n",
    "    mtry = int(np.sqrt(n_features) + 20)\n",
    "\n",
    "    model = RandomForestRegressor(\n",
    "                n_estimators=100, n_jobs=24, max_depth=8, max_features=mtry\n",
    "            )\n",
    "    \n",
    "    for i, split in enumerate(cv):\n",
    "        with parallel_backend('multiprocessing', n_jobs=24):\n",
    "            model_ = clone(model)\n",
    "            model_.set_params(random_state=i)\n",
    "            model_.fit(X.iloc[split[0], :], Y.iloc[split[0], :])\n",
    "            fname = f\"model_{i}.jbl\"\n",
    "            fpath = pathlib.Path(\".\", \"tmp\", fname)\n",
    "            joblib.dump(model_, fpath)\n",
    "\n",
    "    # Define number of GPUs available\n",
    "    N_GPU = 3\n",
    "\n",
    "    # Put indices in queue\n",
    "\n",
    "    #filts = Parallel(n_jobs=N_GPU, backend=\"multiprocessing\")(\n",
    "    #    delayed(runner)(n_split, data_folder) for n_split in range(n))\n",
    "\n",
    "    from functools import partial\n",
    "\n",
    "    gpu_id_list = list(range(N_GPU))\n",
    "\n",
    "    queue = multiprocessing.Queue()\n",
    "    # initialize the queue with the GPU ids\n",
    " \n",
    "    def runner(data_folder, gpu_id_list, i):\n",
    "        cpu_name = multiprocessing.current_process().name\n",
    "        cpu_id = int(cpu_name[cpu_name.find(\"-\") + 1 :]) - 1\n",
    "        # print(gpu0, gpu)\n",
    "        gpu_id = queue.get()\n",
    "        #os.environ[\"CUDA_VISIBLE_DEVICES\"] = str(gpu)\n",
    "        #print(os.environ[\"CUDA_VISIBLE_DEVICES\"])\n",
    "        filt_i = None\n",
    "        try:\n",
    "            os.environ[\"CUDA_VISIBLE_DEVICES\"] = str(gpu_id)\n",
    "            print(os.environ[\"CUDA_VISIBLE_DEVICES\"])\n",
    "\n",
    "            fname = f\"cv.jbl\"\n",
    "            fpath = pathlib.Path(\".\", \"tmp\", fname)\n",
    "            cv = joblib.load(fpath)\n",
    "            split = cv[i]\n",
    "\n",
    "            X_fpath = data_folder.joinpath(\"features.pkl\")\n",
    "            X = joblib.load(X_fpath)\n",
    "\n",
    "            Xat_fpath = data_folder.joinpath(\"features.pkl\")\n",
    "            Xat = joblib.load(Xat_fpath)\n",
    "\n",
    "            X = X[Xat.columns]\n",
    "\n",
    "            Y_fpath = data_folder.joinpath(\"target.pkl\")\n",
    "            Y = joblib.load(Y_fpath)\n",
    "\n",
    "            X_learn = X.iloc[split[0], :]\n",
    "            Y_learn = Y.iloc[split[0], :]\n",
    "\n",
    "            X_val = X.iloc[split[1], :]\n",
    "            Y_val = Y.iloc[split[1], :]\n",
    "\n",
    "            fname = f\"model_{i}.jbl\"\n",
    "            fpath = pathlib.Path(\".\", \"tmp\", fname)\n",
    "            model = joblib.load(fpath)\n",
    "\n",
    "            shap_values = compute_shap_values(model, X_learn, X_val)\n",
    "\n",
    "            shap_relevances = compute_shap_relevance(shap_values, X_val, Y_val)\n",
    "            filt_i = compute_shap_fs(shap_relevances, q=0.95, by_circuit=False)\n",
    "\n",
    "            fname = f\"filt_{i}.jbl\"\n",
    "            fpath = pathlib.Path(\".\", \"tmp\", fname)\n",
    "            joblib.dump(filt_i, fpath)\n",
    "        \n",
    "        finally:\n",
    "            queue.put(gpu_id)\n",
    "\n",
    "        return filt_i\n",
    "    \n",
    "    for gpu_ids in range(N_GPU):\n",
    "        queue.put(gpu_ids)\n",
    "    \n",
    "    # create a new function that multiplies by 2\n",
    "    r = partial(runner, data_folder, gpu_id_list)\n",
    "    \n",
    "    with parallel_backend('multiprocessing', n_jobs=N_GPU):\n",
    "        fs = Parallel()(delayed(r)(n_split) for n_split in range(n))\n",
    "        \n",
    "    res = run_stability(model, X, Y, cv, fs)\n",
    "\n",
    "    with open(\"stability.json\", \"w\") as fjson:\n",
    "        json.dump(res, fjson, indent=4)\n",
    "        \n",
    "    return res"
   ]
  },
  {
   "cell_type": "code",
   "execution_count": 23,
   "metadata": {},
   "outputs": [
    {
     "output_type": "execute_result",
     "data": {
      "text/plain": [
       "PosixPath('/home/cloucera/projects/pyholird/notebooks/data/PanRD_ML/results/Familial_isolated_arrhythmogenic_ventricular_dysplasia,_left_dominant_form/experiment.env')"
      ]
     },
     "metadata": {},
     "execution_count": 23
    }
   ],
   "source": [
    "disease_path = \"/home/cloucera/projects/pyholird/notebooks/data/PanRD_ML/results/Familial_isolated_arrhythmogenic_ventricular_dysplasia,_left_dominant_form/experiment.env\"\n",
    "pathlib.Path(disease_path)"
   ]
  },
  {
   "cell_type": "code",
   "execution_count": 24,
   "metadata": {},
   "outputs": [],
   "source": [
    "\n",
    "def get_disease_data(disease):\n",
    "\n",
    "    # Load data\n",
    "    experiment_env_path = pathlib.Path(disease)\n",
    "    dotenv.load_dotenv(experiment_env_path)\n",
    "    experiment_data_path = pathlib.Path(os.getenv(\"data_path\"))\n",
    "\n",
    "    gene_exp_fname = os.getenv(\"gene_exp\")\n",
    "    gene_exp_fpath = experiment_data_path.joinpath(gene_exp_fname)\n",
    "    gene_exp = pd.read_feather(gene_exp_fpath)\n",
    "    gene_exp = gene_exp.set_index(\"index\", drop=True).replace(\"X\", \"\")\n",
    "    gene_exp.columns = gene_exp.columns.str.replace(\"X\", \"\")\n",
    "\n",
    "    pathvals_fname = os.getenv(\"pathvals\")\n",
    "    pathvals_fpath = experiment_data_path.joinpath(pathvals_fname)\n",
    "    pathvals = pd.read_feather(pathvals_fpath)\n",
    "    pathvals = pathvals.set_index(\"index\", drop=True)\n",
    "    pathvals.columns = pathvals.columns.str.replace(\"-\", \".\").str.replace(\" \", \".\")\n",
    "\n",
    "    circuits_fname = os.getenv(\"circuits\")\n",
    "    circuits_fpath = experiment_data_path.joinpath(circuits_fname)\n",
    "    circuits = pd.read_feather(circuits_fpath)\n",
    "    circuits = circuits.set_index(\"index\", drop=True)\n",
    "    circuits.index = circuits.index.str.replace(\"-\", \".\").str.replace(\" \", \".\")\n",
    "\n",
    "    genes_fname = os.getenv(\"genes\")\n",
    "    genes_fpath = experiment_data_path.joinpath(genes_fname)\n",
    "    genes = pd.read_feather(genes_fpath)\n",
    "    genes = genes.set_index(\"entrezs\", drop=True)\n",
    "    genes = genes.drop(\"index\", axis=1)\n",
    "\n",
    "    gene_exp = gene_exp[genes.index[genes[\"approved_targets\"]]]\n",
    "    pathvals = pathvals[circuits.index[circuits[\"in_disease\"]]]\n",
    "\n",
    "    return gene_exp, pathvals, circuits, genes"
   ]
  },
  {
   "cell_type": "code",
   "execution_count": 25,
   "metadata": {},
   "outputs": [],
   "source": [
    "X, Y, circuits, genes = get_disease_data(disease_path)"
   ]
  },
  {
   "cell_type": "code",
   "execution_count": 26,
   "metadata": {},
   "outputs": [
    {
     "output_type": "execute_result",
     "data": {
      "text/plain": [
       "(1098, 1098, 1868)"
      ]
     },
     "metadata": {},
     "execution_count": 26
    }
   ],
   "source": [
    "circuits.index.intersection(Y.columns).size, circuits.index.size, Y.columns.size"
   ]
  },
  {
   "cell_type": "code",
   "execution_count": 27,
   "metadata": {},
   "outputs": [
    {
     "output_type": "execute_result",
     "data": {
      "text/plain": [
       "                                 1         2         3         9        10  \\\n",
       "index                                                                        \n",
       "GTEX.1117F.0226.SM.5GZZ7  0.242067  0.507810  0.153920  0.198468  0.061575   \n",
       "GTEX.111CU.1826.SM.5GZYN  0.238625  0.541623  0.152218  0.205273  0.045873   \n",
       "GTEX.111FC.0226.SM.5N9B8  0.239115  0.560204  0.140248  0.201305  0.021001   \n",
       "GTEX.111VG.2326.SM.5N9BK  0.258409  0.570474  0.124076  0.209288  0.053766   \n",
       "GTEX.111YS.2426.SM.5GZZQ  0.199579  0.556265  0.193900  0.199037  0.030640   \n",
       "\n",
       "                                13        14        15        16        18  \\\n",
       "index                                                                        \n",
       "GTEX.1117F.0226.SM.5GZZ7  0.145253  0.418402  0.099919  0.398420  0.317665   \n",
       "GTEX.111CU.1826.SM.5GZYN  0.070500  0.426507  0.128882  0.435914  0.310635   \n",
       "GTEX.111FC.0226.SM.5N9B8  0.036150  0.403709  0.042399  0.409048  0.273036   \n",
       "GTEX.111VG.2326.SM.5N9BK  0.024216  0.407490  0.105368  0.409260  0.304227   \n",
       "GTEX.111YS.2426.SM.5GZZQ  0.156872  0.415387  0.097017  0.420913  0.317121   \n",
       "\n",
       "                          ...     106144585  106144593     106146148  \\\n",
       "index                     ...                                          \n",
       "GTEX.1117F.0226.SM.5GZZ7  ...  1.688435e-16   0.089854  1.688435e-16   \n",
       "GTEX.111CU.1826.SM.5GZYN  ...  1.688435e-16   0.079618  1.688435e-16   \n",
       "GTEX.111FC.0226.SM.5N9B8  ...  1.688435e-16   0.095128  1.688435e-16   \n",
       "GTEX.111VG.2326.SM.5N9BK  ...  1.688435e-16   0.059200  1.688435e-16   \n",
       "GTEX.111YS.2426.SM.5GZZQ  ...  1.688435e-16   0.050181  1.688435e-16   \n",
       "\n",
       "                             106146149     106182249     106456574  \\\n",
       "index                                                                \n",
       "GTEX.1117F.0226.SM.5GZZ7  1.688435e-16  1.688435e-16  2.881192e-02   \n",
       "GTEX.111CU.1826.SM.5GZYN  1.688435e-16  1.688435e-16  5.314054e-02   \n",
       "GTEX.111FC.0226.SM.5N9B8  1.688435e-16  1.688435e-16  3.615029e-02   \n",
       "GTEX.111VG.2326.SM.5N9BK  1.688435e-16  1.343365e-02  1.688435e-16   \n",
       "GTEX.111YS.2426.SM.5GZZQ  1.688435e-16  1.688435e-16  1.373114e-01   \n",
       "\n",
       "                             106614088  106660606     106660609     106660610  \n",
       "index                                                                          \n",
       "GTEX.1117F.0226.SM.5GZZ7  1.688435e-16   0.118028  1.688435e-16  1.688435e-16  \n",
       "GTEX.111CU.1826.SM.5GZYN  3.749327e-02   0.136831  1.688435e-16  1.688435e-16  \n",
       "GTEX.111FC.0226.SM.5N9B8  4.239911e-02   0.170679  1.688435e-16  1.688435e-16  \n",
       "GTEX.111VG.2326.SM.5N9BK  2.421600e-02   0.158321  1.688435e-16  1.688435e-16  \n",
       "GTEX.111YS.2426.SM.5GZZQ  4.127608e-02   0.166544  1.688435e-16  1.688435e-16  \n",
       "\n",
       "[5 rows x 23044 columns]"
      ],
      "text/html": "<div>\n<style scoped>\n    .dataframe tbody tr th:only-of-type {\n        vertical-align: middle;\n    }\n\n    .dataframe tbody tr th {\n        vertical-align: top;\n    }\n\n    .dataframe thead th {\n        text-align: right;\n    }\n</style>\n<table border=\"1\" class=\"dataframe\">\n  <thead>\n    <tr style=\"text-align: right;\">\n      <th></th>\n      <th>1</th>\n      <th>2</th>\n      <th>3</th>\n      <th>9</th>\n      <th>10</th>\n      <th>13</th>\n      <th>14</th>\n      <th>15</th>\n      <th>16</th>\n      <th>18</th>\n      <th>...</th>\n      <th>106144585</th>\n      <th>106144593</th>\n      <th>106146148</th>\n      <th>106146149</th>\n      <th>106182249</th>\n      <th>106456574</th>\n      <th>106614088</th>\n      <th>106660606</th>\n      <th>106660609</th>\n      <th>106660610</th>\n    </tr>\n    <tr>\n      <th>index</th>\n      <th></th>\n      <th></th>\n      <th></th>\n      <th></th>\n      <th></th>\n      <th></th>\n      <th></th>\n      <th></th>\n      <th></th>\n      <th></th>\n      <th></th>\n      <th></th>\n      <th></th>\n      <th></th>\n      <th></th>\n      <th></th>\n      <th></th>\n      <th></th>\n      <th></th>\n      <th></th>\n      <th></th>\n    </tr>\n  </thead>\n  <tbody>\n    <tr>\n      <th>GTEX.1117F.0226.SM.5GZZ7</th>\n      <td>0.242067</td>\n      <td>0.507810</td>\n      <td>0.153920</td>\n      <td>0.198468</td>\n      <td>0.061575</td>\n      <td>0.145253</td>\n      <td>0.418402</td>\n      <td>0.099919</td>\n      <td>0.398420</td>\n      <td>0.317665</td>\n      <td>...</td>\n      <td>1.688435e-16</td>\n      <td>0.089854</td>\n      <td>1.688435e-16</td>\n      <td>1.688435e-16</td>\n      <td>1.688435e-16</td>\n      <td>2.881192e-02</td>\n      <td>1.688435e-16</td>\n      <td>0.118028</td>\n      <td>1.688435e-16</td>\n      <td>1.688435e-16</td>\n    </tr>\n    <tr>\n      <th>GTEX.111CU.1826.SM.5GZYN</th>\n      <td>0.238625</td>\n      <td>0.541623</td>\n      <td>0.152218</td>\n      <td>0.205273</td>\n      <td>0.045873</td>\n      <td>0.070500</td>\n      <td>0.426507</td>\n      <td>0.128882</td>\n      <td>0.435914</td>\n      <td>0.310635</td>\n      <td>...</td>\n      <td>1.688435e-16</td>\n      <td>0.079618</td>\n      <td>1.688435e-16</td>\n      <td>1.688435e-16</td>\n      <td>1.688435e-16</td>\n      <td>5.314054e-02</td>\n      <td>3.749327e-02</td>\n      <td>0.136831</td>\n      <td>1.688435e-16</td>\n      <td>1.688435e-16</td>\n    </tr>\n    <tr>\n      <th>GTEX.111FC.0226.SM.5N9B8</th>\n      <td>0.239115</td>\n      <td>0.560204</td>\n      <td>0.140248</td>\n      <td>0.201305</td>\n      <td>0.021001</td>\n      <td>0.036150</td>\n      <td>0.403709</td>\n      <td>0.042399</td>\n      <td>0.409048</td>\n      <td>0.273036</td>\n      <td>...</td>\n      <td>1.688435e-16</td>\n      <td>0.095128</td>\n      <td>1.688435e-16</td>\n      <td>1.688435e-16</td>\n      <td>1.688435e-16</td>\n      <td>3.615029e-02</td>\n      <td>4.239911e-02</td>\n      <td>0.170679</td>\n      <td>1.688435e-16</td>\n      <td>1.688435e-16</td>\n    </tr>\n    <tr>\n      <th>GTEX.111VG.2326.SM.5N9BK</th>\n      <td>0.258409</td>\n      <td>0.570474</td>\n      <td>0.124076</td>\n      <td>0.209288</td>\n      <td>0.053766</td>\n      <td>0.024216</td>\n      <td>0.407490</td>\n      <td>0.105368</td>\n      <td>0.409260</td>\n      <td>0.304227</td>\n      <td>...</td>\n      <td>1.688435e-16</td>\n      <td>0.059200</td>\n      <td>1.688435e-16</td>\n      <td>1.688435e-16</td>\n      <td>1.343365e-02</td>\n      <td>1.688435e-16</td>\n      <td>2.421600e-02</td>\n      <td>0.158321</td>\n      <td>1.688435e-16</td>\n      <td>1.688435e-16</td>\n    </tr>\n    <tr>\n      <th>GTEX.111YS.2426.SM.5GZZQ</th>\n      <td>0.199579</td>\n      <td>0.556265</td>\n      <td>0.193900</td>\n      <td>0.199037</td>\n      <td>0.030640</td>\n      <td>0.156872</td>\n      <td>0.415387</td>\n      <td>0.097017</td>\n      <td>0.420913</td>\n      <td>0.317121</td>\n      <td>...</td>\n      <td>1.688435e-16</td>\n      <td>0.050181</td>\n      <td>1.688435e-16</td>\n      <td>1.688435e-16</td>\n      <td>1.688435e-16</td>\n      <td>1.373114e-01</td>\n      <td>4.127608e-02</td>\n      <td>0.166544</td>\n      <td>1.688435e-16</td>\n      <td>1.688435e-16</td>\n    </tr>\n  </tbody>\n</table>\n<p>5 rows × 23044 columns</p>\n</div>"
     },
     "metadata": {},
     "execution_count": 27
    }
   ],
   "source": [
    "X.head()"
   ]
  },
  {
   "cell_type": "code",
   "execution_count": 28,
   "metadata": {},
   "outputs": [
    {
     "output_type": "execute_result",
     "data": {
      "text/plain": [
       "                          P.hsa03320.37  P.hsa03320.61  P.hsa03320.46  \\\n",
       "index                                                                   \n",
       "GTEX.1117F.0226.SM.5GZZ7   8.429601e-02       0.044749       0.031761   \n",
       "GTEX.111CU.1826.SM.5GZYN   3.303786e-02       0.043716       0.020202   \n",
       "GTEX.111FC.0226.SM.5N9B8   1.201925e-02       0.024341       0.014097   \n",
       "GTEX.111VG.2326.SM.5N9BK   2.736747e-02       0.029405       0.030343   \n",
       "GTEX.111YS.2426.SM.5GZZQ   5.966640e-17       0.028573       0.006160   \n",
       "\n",
       "                          P.hsa03320.57  P.hsa03320.64  P.hsa03320.47  \\\n",
       "index                                                                   \n",
       "GTEX.1117F.0226.SM.5GZZ7       0.027860       0.018710       0.161679   \n",
       "GTEX.111CU.1826.SM.5GZYN       0.027006       0.009361       0.168489   \n",
       "GTEX.111FC.0226.SM.5N9B8       0.019202       0.014097       0.149283   \n",
       "GTEX.111VG.2326.SM.5N9BK       0.028415       0.007909       0.157591   \n",
       "GTEX.111YS.2426.SM.5GZZQ       0.020440       0.006160       0.159577   \n",
       "\n",
       "                          P.hsa03320.65  P.hsa03320.55  P.hsa03320.56  \\\n",
       "index                                                                   \n",
       "GTEX.1117F.0226.SM.5GZZ7       0.104905       0.212583       0.100876   \n",
       "GTEX.111CU.1826.SM.5GZYN       0.123237       0.344871       0.116826   \n",
       "GTEX.111FC.0226.SM.5N9B8       0.113162       0.222715       0.119234   \n",
       "GTEX.111VG.2326.SM.5N9BK       0.111992       0.280657       0.123567   \n",
       "GTEX.111YS.2426.SM.5GZZQ       0.134606       0.340235       0.136054   \n",
       "\n",
       "                          P.hsa03320.33  ...  P.hsa05321.94  P.hsa05321.95  \\\n",
       "index                                    ...                                 \n",
       "GTEX.1117F.0226.SM.5GZZ7       0.056809  ...   1.228341e-18       0.175580   \n",
       "GTEX.111CU.1826.SM.5GZYN       0.018025  ...   1.001515e-18       0.173961   \n",
       "GTEX.111FC.0226.SM.5N9B8       0.040858  ...   7.037256e-19       0.164860   \n",
       "GTEX.111VG.2326.SM.5N9BK       0.047331  ...   1.586430e-18       0.177736   \n",
       "GTEX.111YS.2426.SM.5GZZQ       0.051284  ...   1.338734e-04       0.150346   \n",
       "\n",
       "                          P.hsa05321.122  P.hsa05321.123  P.hsa05321.55  \\\n",
       "index                                                                     \n",
       "GTEX.1117F.0226.SM.5GZZ7    1.397538e-03    8.189842e-18   1.835336e-02   \n",
       "GTEX.111CU.1826.SM.5GZYN    8.564804e-18    2.326966e-03   1.084010e-16   \n",
       "GTEX.111FC.0226.SM.5N9B8    1.042510e-03    8.381592e-18   1.342931e-02   \n",
       "GTEX.111VG.2326.SM.5N9BK    2.654248e-03    6.023040e-04   3.777861e-02   \n",
       "GTEX.111YS.2426.SM.5GZZQ    8.564804e-18    8.842561e-04   9.846646e-17   \n",
       "\n",
       "                          P.hsa05321.74  P.hsa05321.81  P.hsa05321.138  \\\n",
       "index                                                                    \n",
       "GTEX.1117F.0226.SM.5GZZ7   2.815571e-19       0.000272    2.354278e-03   \n",
       "GTEX.111CU.1826.SM.5GZYN   0.000000e+00       0.000000    6.737187e-18   \n",
       "GTEX.111FC.0226.SM.5N9B8   2.284433e-19       0.000078    1.850671e-03   \n",
       "GTEX.111VG.2326.SM.5N9BK   6.763575e-05       0.000495    4.723961e-03   \n",
       "GTEX.111YS.2426.SM.5GZZQ   0.000000e+00       0.000000    6.737187e-18   \n",
       "\n",
       "                          P.hsa05321.75  P.hsa05321.152  \n",
       "index                                                    \n",
       "GTEX.1117F.0226.SM.5GZZ7   1.083433e-03        0.056568  \n",
       "GTEX.111CU.1826.SM.5GZYN   2.671966e-17        0.055563  \n",
       "GTEX.111FC.0226.SM.5N9B8   8.711539e-04        0.041199  \n",
       "GTEX.111VG.2326.SM.5N9BK   4.913823e-03        0.086279  \n",
       "GTEX.111YS.2426.SM.5GZZQ   2.413496e-17        0.049651  \n",
       "\n",
       "[5 rows x 1868 columns]"
      ],
      "text/html": "<div>\n<style scoped>\n    .dataframe tbody tr th:only-of-type {\n        vertical-align: middle;\n    }\n\n    .dataframe tbody tr th {\n        vertical-align: top;\n    }\n\n    .dataframe thead th {\n        text-align: right;\n    }\n</style>\n<table border=\"1\" class=\"dataframe\">\n  <thead>\n    <tr style=\"text-align: right;\">\n      <th></th>\n      <th>P.hsa03320.37</th>\n      <th>P.hsa03320.61</th>\n      <th>P.hsa03320.46</th>\n      <th>P.hsa03320.57</th>\n      <th>P.hsa03320.64</th>\n      <th>P.hsa03320.47</th>\n      <th>P.hsa03320.65</th>\n      <th>P.hsa03320.55</th>\n      <th>P.hsa03320.56</th>\n      <th>P.hsa03320.33</th>\n      <th>...</th>\n      <th>P.hsa05321.94</th>\n      <th>P.hsa05321.95</th>\n      <th>P.hsa05321.122</th>\n      <th>P.hsa05321.123</th>\n      <th>P.hsa05321.55</th>\n      <th>P.hsa05321.74</th>\n      <th>P.hsa05321.81</th>\n      <th>P.hsa05321.138</th>\n      <th>P.hsa05321.75</th>\n      <th>P.hsa05321.152</th>\n    </tr>\n    <tr>\n      <th>index</th>\n      <th></th>\n      <th></th>\n      <th></th>\n      <th></th>\n      <th></th>\n      <th></th>\n      <th></th>\n      <th></th>\n      <th></th>\n      <th></th>\n      <th></th>\n      <th></th>\n      <th></th>\n      <th></th>\n      <th></th>\n      <th></th>\n      <th></th>\n      <th></th>\n      <th></th>\n      <th></th>\n      <th></th>\n    </tr>\n  </thead>\n  <tbody>\n    <tr>\n      <th>GTEX.1117F.0226.SM.5GZZ7</th>\n      <td>8.429601e-02</td>\n      <td>0.044749</td>\n      <td>0.031761</td>\n      <td>0.027860</td>\n      <td>0.018710</td>\n      <td>0.161679</td>\n      <td>0.104905</td>\n      <td>0.212583</td>\n      <td>0.100876</td>\n      <td>0.056809</td>\n      <td>...</td>\n      <td>1.228341e-18</td>\n      <td>0.175580</td>\n      <td>1.397538e-03</td>\n      <td>8.189842e-18</td>\n      <td>1.835336e-02</td>\n      <td>2.815571e-19</td>\n      <td>0.000272</td>\n      <td>2.354278e-03</td>\n      <td>1.083433e-03</td>\n      <td>0.056568</td>\n    </tr>\n    <tr>\n      <th>GTEX.111CU.1826.SM.5GZYN</th>\n      <td>3.303786e-02</td>\n      <td>0.043716</td>\n      <td>0.020202</td>\n      <td>0.027006</td>\n      <td>0.009361</td>\n      <td>0.168489</td>\n      <td>0.123237</td>\n      <td>0.344871</td>\n      <td>0.116826</td>\n      <td>0.018025</td>\n      <td>...</td>\n      <td>1.001515e-18</td>\n      <td>0.173961</td>\n      <td>8.564804e-18</td>\n      <td>2.326966e-03</td>\n      <td>1.084010e-16</td>\n      <td>0.000000e+00</td>\n      <td>0.000000</td>\n      <td>6.737187e-18</td>\n      <td>2.671966e-17</td>\n      <td>0.055563</td>\n    </tr>\n    <tr>\n      <th>GTEX.111FC.0226.SM.5N9B8</th>\n      <td>1.201925e-02</td>\n      <td>0.024341</td>\n      <td>0.014097</td>\n      <td>0.019202</td>\n      <td>0.014097</td>\n      <td>0.149283</td>\n      <td>0.113162</td>\n      <td>0.222715</td>\n      <td>0.119234</td>\n      <td>0.040858</td>\n      <td>...</td>\n      <td>7.037256e-19</td>\n      <td>0.164860</td>\n      <td>1.042510e-03</td>\n      <td>8.381592e-18</td>\n      <td>1.342931e-02</td>\n      <td>2.284433e-19</td>\n      <td>0.000078</td>\n      <td>1.850671e-03</td>\n      <td>8.711539e-04</td>\n      <td>0.041199</td>\n    </tr>\n    <tr>\n      <th>GTEX.111VG.2326.SM.5N9BK</th>\n      <td>2.736747e-02</td>\n      <td>0.029405</td>\n      <td>0.030343</td>\n      <td>0.028415</td>\n      <td>0.007909</td>\n      <td>0.157591</td>\n      <td>0.111992</td>\n      <td>0.280657</td>\n      <td>0.123567</td>\n      <td>0.047331</td>\n      <td>...</td>\n      <td>1.586430e-18</td>\n      <td>0.177736</td>\n      <td>2.654248e-03</td>\n      <td>6.023040e-04</td>\n      <td>3.777861e-02</td>\n      <td>6.763575e-05</td>\n      <td>0.000495</td>\n      <td>4.723961e-03</td>\n      <td>4.913823e-03</td>\n      <td>0.086279</td>\n    </tr>\n    <tr>\n      <th>GTEX.111YS.2426.SM.5GZZQ</th>\n      <td>5.966640e-17</td>\n      <td>0.028573</td>\n      <td>0.006160</td>\n      <td>0.020440</td>\n      <td>0.006160</td>\n      <td>0.159577</td>\n      <td>0.134606</td>\n      <td>0.340235</td>\n      <td>0.136054</td>\n      <td>0.051284</td>\n      <td>...</td>\n      <td>1.338734e-04</td>\n      <td>0.150346</td>\n      <td>8.564804e-18</td>\n      <td>8.842561e-04</td>\n      <td>9.846646e-17</td>\n      <td>0.000000e+00</td>\n      <td>0.000000</td>\n      <td>6.737187e-18</td>\n      <td>2.413496e-17</td>\n      <td>0.049651</td>\n    </tr>\n  </tbody>\n</table>\n<p>5 rows × 1868 columns</p>\n</div>"
     },
     "metadata": {},
     "execution_count": 28
    }
   ],
   "source": [
    "Y.head()"
   ]
  },
  {
   "cell_type": "code",
   "execution_count": 29,
   "metadata": {},
   "outputs": [
    {
     "output_type": "execute_result",
     "data": {
      "text/plain": [
       "34"
      ]
     },
     "metadata": {},
     "execution_count": 29
    }
   ],
   "source": [
    "circuits[\"in_disease\"].sum()"
   ]
  },
  {
   "cell_type": "code",
   "execution_count": null,
   "metadata": {},
   "outputs": [],
   "source": [
    "genes.head(10)"
   ]
  },
  {
   "cell_type": "code",
   "execution_count": null,
   "metadata": {},
   "outputs": [],
   "source": [
    "X = X[genes.index[genes[\"approved_targets\"]]]"
   ]
  },
  {
   "cell_type": "code",
   "execution_count": null,
   "metadata": {},
   "outputs": [],
   "source": [
    "Y = Y[circuits.index[circuits[\"in_disease\"]]]"
   ]
  },
  {
   "cell_type": "code",
   "execution_count": null,
   "metadata": {},
   "outputs": [],
   "source": [
    "project_folder = pathlib.Path(dotenv.find_dotenv()).parent.absolute()\n",
    "data_folder = project_folder.joinpath(\"notebooks\", \"data\")\n",
    "\n",
    "X_fpath = data_folder.joinpath(\"features.pkl\")\n",
    "joblib.dump(X, X_fpath)\n",
    "\n",
    "Y_fpath = data_folder.joinpath(\"target.pkl\")\n",
    "joblib.dump(Y, Y_fpath)"
   ]
  },
  {
   "cell_type": "code",
   "execution_count": null,
   "metadata": {},
   "outputs": [],
   "source": [
    "from sklearn.model_selection import ShuffleSplit, cross_val_score\n",
    "from sklearn.cross_decomposition import PLSRegression"
   ]
  },
  {
   "cell_type": "code",
   "execution_count": null,
   "metadata": {},
   "outputs": [],
   "source": [
    "n_pathways = Y.columns.str.split(\".\").str[1].nunique()\n",
    "n_pathways, Y.shape"
   ]
  },
  {
   "cell_type": "code",
   "execution_count": null,
   "metadata": {},
   "outputs": [],
   "source": [
    "cv = ShuffleSplit(n_splits=10, test_size=0.5, random_state=42)\n",
    "model = PLSRegression(n_pathways*6)\n",
    "#model = RandomForestRegressor(n_jobs=-1)\n",
    "r = cross_val_score(model, X, (Y - Y.mean()) / Y .std(), cv=cv, n_jobs=-1).mean()\n",
    "r"
   ]
  },
  {
   "cell_type": "code",
   "execution_count": null,
   "metadata": {},
   "outputs": [],
   "source": [
    "((Y - Y.mean()) / Y .std()).plot(kind=\"box\", figsize=(16, 9))"
   ]
  },
  {
   "cell_type": "raw",
   "metadata": {},
   "source": [
    "folder_path = \"/home/cloucera/projects/pyholird/notebooks/data/PanRD_ML/results\"\n",
    "p = pathlib.Path(folder_path)\n",
    "for f in p.glob('**/*.env'):\n",
    "    disease_path = f.parent\n",
    "    disease_name = disease_path.name\n",
    "    to_replace = \"=.feather\"\n",
    "    text = f.read_text()\n",
    "    text = text.replace(to_replace, f\"{disease_name}.feather\")\n",
    "    f.write_text(text)\n",
    "    print(disease_name)"
   ]
  },
  {
   "cell_type": "code",
   "execution_count": 22,
   "metadata": {},
   "outputs": [
    {
     "output_type": "stream",
     "name": "stdout",
     "text": [
      "Rheumatoid_factor-negative_polyarticular_juvenile_idiopathic_arthritis\nMultiple_endocrine_neoplasia_type_1\nDravet_syndrome\nFamilial_isolated_arrhythmogenic_ventricular_dysplasia,_biventricular_form\nOmenn_syndrome\nBehcet_disease\nPilomyxoid_astrocytoma\nFamilial_isolated_arrhythmogenic_ventricular_dysplasia,_right_dominant_form\nGliosarcoma\nNoonan_syndrome\nIdiopathic_bronchiectasis\nCongenital_stationary_night_blindness\nCardiofaciocutaneous_syndrome\nOsteogenesis_imperfecta_type_4\nFamilial_isolated_arrhythmogenic_ventricular_dysplasia,_left_dominant_form\nFamilial_isolated_dilated_cardiomyopathy\nAutosomal_agammaglobulinemia\nImmunodeficiency_by_defective_expression_of_MHC_class_II\nChronic_granulomatous_disease\nAutosomal_recessive_non-syndromic_sensorineural_deafness_type_DFNB\nCatecholaminergic_polymorphic_ventricular_tachycardia\nPrecursor_T-cell_acute_lymphoblastic_leukemia\nLimited_cutaneous_systemic_sclerosis\nX-linked_non-syndromic_intellectual_disability\nAutoimmune_lymphoproliferative_syndrome\nAutosomal_dominant_non-syndromic_intellectual_disability\nCommon_variable_immunodeficiency\nJunctional_epidermolysis_bullosa,_generalized_intermediate\nAdult_hepatocellular_carcinoma\n.ipynb_checkpoints\nCone_rod_dystrophy\nAmyotrophic_lateral_sclerosis\nAlobar_holoprosencephaly\nEssential_thrombocythemia\nUndetermined_early-onset_epileptic_encephalopathy\nImmunodeficiency_due_to_a_classical_component_pathway_complement_deficiency\nOligodontia\nWaardenburg_syndrome_type_2\nMidline_interhemispheric_variant_of_holoprosencephaly\nPermanent_neonatal_diabetes_mellitus\nEar-patella-short_stature_syndrome\nRomano-Ward_syndrome\nWest_syndrome\nOsteosarcoma\nCleft_lip_palate\nFetal_and_neonatal_alloimmune_thrombocytopenia\nHeritable_pulmonary_arterial_hypertension\nSystemic_lupus_erythematosus\n.ipynb_checkpoints\nChildhood_absence_epilepsy\nAutosomal_dominant_Robinow_syndrome\nPrecursor_B-cell_acute_lymphoblastic_leukemia\nDiffuse_cutaneous_systemic_sclerosis\nKallmann_syndrome\nAutosomal_dominant_macrothrombocytopenia\nB-cell_chronic_lymphocytic_leukemia\nFamilial_thoracic_aortic_aneurysm_and_aortic_dissection\nMeningioma\nLobar_holoprosencephaly\nAutosomal_dominant_non-syndromic_sensorineural_deafness_type_DFNA\nGiant_cell_glioblastoma\nMegalencephaly-polymicrogyria-postaxial_polydactyly-hydrocephalus_syndrome\nOligoarticular_juvenile_idiopathic_arthritis\nMicroform_holoprosencephaly\nAcute_promyelocytic_leukemia\n.ipynb_checkpoints\nNormosmic_congenital_hypogonadotropic_hypogonadism\nAutosomal_systemic_lupus_erythematosus\nDifferentiated_thyroid_carcinoma\nMODY\nBrugada_syndrome\nHerpes_simplex_virus_encephalitis\nFamilial_pancreatic_carcinoma\nGenetic_steroid-resistant_nephrotic_syndrome\nFamilial_melanoma\nSemilobar_holoprosencephaly\nSeptopreoptic_holoprosencephaly\nOsteogenesis_imperfecta_type_3\nLi-Fraumeni_syndrome\nJuvenile_myelomonocytic_leukemia\n"
     ]
    }
   ],
   "source": [
    "project_folder = pathlib.Path(dotenv.find_dotenv()).parent.absolute()\n",
    "data_folder = project_folder.joinpath(\"notebooks\", \"data\")\n",
    "\n",
    "for f in data_folder.glob('**/*.env'):\n",
    "    print(f.parent.name)"
   ]
  },
  {
   "cell_type": "code",
   "execution_count": null,
   "metadata": {},
   "outputs": [],
   "source": []
  }
 ],
 "metadata": {
  "kernelspec": {
   "name": "Python 3.8.6 64-bit ('.venv': conda)",
   "display_name": "Python 3.8.6 64-bit ('.venv': conda)",
   "metadata": {
    "interpreter": {
     "hash": "b33b836ed041b7c1611794e73026c5346310f5e180790ed23566b44c74cf3aae"
    }
   }
  },
  "language_info": {
   "codemirror_mode": {
    "name": "ipython",
    "version": 3
   },
   "file_extension": ".py",
   "mimetype": "text/x-python",
   "name": "python",
   "nbconvert_exporter": "python",
   "pygments_lexer": "ipython3",
   "version": "3.8.6-final"
  }
 },
 "nbformat": 4,
 "nbformat_minor": 4
}